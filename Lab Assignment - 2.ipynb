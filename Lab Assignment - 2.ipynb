{
 "cells": [
  {
   "cell_type": "markdown",
   "id": "9291d737-9934-452f-bd5f-398e22acd79a",
   "metadata": {},
   "source": [
    "<div style=\"text-align: center; color: darkblue;\">\n",
    "\n",
    "<img src=\"Images/LMS Logo (1).png\" alt=\"TIET Logo\" style=\"width: 200px;\">\n",
    "\n",
    "### Thapar Institute of Engineering and Technology, Patiala  \n",
    "### Computer Science & Engineering Department  \n",
    "---\n",
    "#### **UCS420: COGNITIVE COMPUTING**  \n",
    "#### **LAB ASSIGNMENT- 2**\n",
    "---\n",
    "</div>\n"
    "<div style=\"color: darkblue;\">\n",
    "#### <span style=\"color: darkred;\">Student Name:</span> Smarth Kaushal  |  <span style=\"color: darkred;\">Roll Number:</span> 102497023  | <span style=\"color: darkred;\">Branch:</span> BE-COPC |  <span style=\"color: darkred;\">Sub-Section Code:</span>  2Q21 | <span style=\"color: darkred;\">Submitted to:</span> Dr. Manisha Malik\n",
    "\n",
    "</div>\n"
   ]
  },
  {
   "cell_type": "markdown",
   "id": "a2a42410-17b1-4268-ad7e-508e2a318fd5",
   "metadata": {},
   "source": [
    "**Q1. Create a List L that is defined as= [10, 20, 30, 40, 50, 60, 70, 80].** \n",
    "\n",
    "**i. WAP to add 200 and 300 to L.**  \n",
    "**ii. WAP to remove 10 and 30 from L.**  \n",
    "**iii. WAP to sort L in ascending order.**  \n",
    "**iv. WAP to sort L in descending order.**"
   ]
  },
  {
   "cell_type": "code",
   "execution_count": 1,
   "id": "65f726a3-e14a-4cee-8cca-7da6023a5c1d",
   "metadata": {},
   "outputs": [
    {
     "name": "stdout",
     "output_type": "stream",
     "text": [
      "List after adding 200 and 300:  [10, 20, 30, 40, 50, 60, 70, 80, 200, 300]\n"
     ]
    }
   ],
   "source": [
    "L = [10,20,30,40,50,60,70,80]\n",
    "L.extend((200,300))\n",
    "print(\"List after adding 200 and 300: \",L)"
   ]
  },
  {
   "cell_type": "code",
   "execution_count": 2,
   "id": "517fac63-36f7-4eff-b392-b1a0bb877c05",
   "metadata": {},
   "outputs": [
    {
     "name": "stdout",
     "output_type": "stream",
     "text": [
      "List after removing 10 and 30:  [20, 40, 50, 60, 70, 80, 200, 300]\n"
     ]
    }
   ],
   "source": [
    "L.remove(10)\n",
    "L.remove(30)\n",
    "print(\"List after removing 10 and 30: \",L)"
   ]
  },
  {
   "cell_type": "code",
   "execution_count": 3,
   "id": "b2920d91-dfee-491f-ad60-42d1db57863a",
   "metadata": {},
   "outputs": [
    {
     "name": "stdout",
     "output_type": "stream",
     "text": [
      "List sorted in Ascending order:  [20, 40, 50, 60, 70, 80, 200, 300]\n"
     ]
    }
   ],
   "source": [
    "L.sort()\n",
    "print(\"List sorted in Ascending order: \",L)"
   ]
  },
  {
   "cell_type": "code",
   "execution_count": 4,
   "id": "0d519e64-37d3-486e-8a20-26bc41eeca2d",
   "metadata": {},
   "outputs": [
    {
     "name": "stdout",
     "output_type": "stream",
     "text": [
      "List sorted in Descending order:  [300, 200, 80, 70, 60, 50, 40, 20]\n"
     ]
    }
   ],
   "source": [
    "L.sort(reverse = True)\n",
    "print(\"List sorted in Descending order: \",L)"
   ]
  },
  {
   "cell_type": "markdown",
   "id": "b92361c5-8133-49ae-ba1e-08272e65f323",
   "metadata": {},
   "source": [
    "**Q2. Create a tuple of marks scored as scores = (45, 89.5, 76, 45.4, 89, 92, 58, 45) and perform the following operations using tuple functions:**  \n",
    "\n",
    "**i. Identify the highest score and its index in the tuple.**  \n",
    "**ii. Find the lowest score and count how many times it appears.**  \n",
    "**iii. Reverse the tuple and return it as a list.**  \n",
    "**iv. Check if a specific score ‘76’ (input by the user) is present in the tuple and print its first occurrence index, or a message saying it’s not present.**"
   ]
  },
  {
   "cell_type": "code",
   "execution_count": 5,
   "id": "61517769-7c35-4566-b071-c6e22cde11f9",
   "metadata": {},
   "outputs": [
    {
     "name": "stdout",
     "output_type": "stream",
     "text": [
      "Highest Score :  92\n",
      "Index at which the highest score is present in the tuple:  5\n"
     ]
    }
   ],
   "source": [
    "T = (45,89.5,76,45.4,89,92,58,45)\n",
    "highest = max(T)\n",
    "index = T.index(highest)\n",
    "print(\"Highest Score : \",highest)\n",
    "print(\"Index at which the highest score is present in the tuple: \",index)"
   ]
  },
  {
   "cell_type": "code",
   "execution_count": 6,
   "id": "25539f14-c458-421d-8e60-2363a8650db5",
   "metadata": {},
   "outputs": [
    {
     "name": "stdout",
     "output_type": "stream",
     "text": [
      "Lowest Score is 45 and its count is 2\n"
     ]
    }
   ],
   "source": [
    "lowest = min(T)\n",
    "print(\"Lowest Score is {} and its count is {}\".format(lowest,T.count(lowest)))"
   ]
  },
  {
   "cell_type": "code",
   "execution_count": 7,
   "id": "77ca3f2a-bede-4bb7-878a-f0609d40c301",
   "metadata": {
    "scrolled": true
   },
   "outputs": [
    {
     "ename": "AttributeError",
     "evalue": "'tuple' object has no attribute 'reverse'",
     "output_type": "error",
     "traceback": [
      "\u001b[1;31m---------------------------------------------------------------------------\u001b[0m",
      "\u001b[1;31mAttributeError\u001b[0m                            Traceback (most recent call last)",
      "Cell \u001b[1;32mIn[7], line 1\u001b[0m\n\u001b[1;32m----> 1\u001b[0m T\u001b[38;5;241m.\u001b[39mreverse()\n\u001b[0;32m      2\u001b[0m List \u001b[38;5;241m=\u001b[39m \u001b[38;5;28mlist\u001b[39m(T)\n\u001b[0;32m      3\u001b[0m \u001b[38;5;28mprint\u001b[39m(List)\n",
      "\u001b[1;31mAttributeError\u001b[0m: 'tuple' object has no attribute 'reverse'"
     ]
    }
   ],
   "source": [
    "T.reverse()\n",
    "List = list(T)\n",
    "print(List)"
   ]
  },
  {
   "cell_type": "code",
   "execution_count": 9,
   "id": "81b3e459-fbf1-447f-89f8-09626666519a",
   "metadata": {},
   "outputs": [
    {
     "name": "stdout",
     "output_type": "stream",
     "text": [
      "[45, 58, 92, 89, 45.4, 76, 89.5, 45]\n"
     ]
    }
   ],
   "source": [
    "T1 = T[::-1]\n",
    "List = list(T1)\n",
    "print(List)"
   ]
  },
  {
   "cell_type": "code",
   "execution_count": 10,
   "id": "7588dde4-dd75-452a-9f06-3e71e049adc2",
   "metadata": {},
   "outputs": [
    {
     "data": {
      "text/plain": [
       "True"
      ]
     },
     "execution_count": 10,
     "metadata": {},
     "output_type": "execute_result"
    }
   ],
   "source": [
    "76 == 76.0"
   ]
  },
  {
   "cell_type": "code",
   "execution_count": 11,
   "id": "d1c61f14-7257-4f87-833d-5fc9e6ba5045",
   "metadata": {},
   "outputs": [
    {
     "name": "stdin",
     "output_type": "stream",
     "text": [
      "Enter the number you want to search in the tuple:  76\n"
     ]
    },
    {
     "name": "stdout",
     "output_type": "stream",
     "text": [
      "Yes, 76.0 is present in the tuple at index 2\n"
     ]
    }
   ],
   "source": [
    "score = float(input(\"Enter the number you want to search in the tuple: \"))\n",
    "if score in T:\n",
    "    print(\"Yes, {} is present in the tuple at index {}\".format(score, T.index(score)))\n",
    "else:\n",
    "    print(\"No, {} is not present in the tuple.\".format(score))"
   ]
  },
  {
   "cell_type": "code",
   "execution_count": 12,
   "id": "54e032ba-0435-4937-b4af-b56c5b7c5f99",
   "metadata": {},
   "outputs": [
    {
     "name": "stdin",
     "output_type": "stream",
     "text": [
      "Enter the number you want to search in the tuple:  48\n"
     ]
    },
    {
     "name": "stdout",
     "output_type": "stream",
     "text": [
      "No, 48.0 is not present in the tuple.\n"
     ]
    }
   ],
   "source": [
    "exec(In[11])"
   ]
  },
  {
   "cell_type": "markdown",
   "id": "554cc382-5333-41b5-b7db-eab620055503",
   "metadata": {},
   "source": [
    "**Q3. WAP to create a list of 100 random numbers between 100 and 900. Count and print:**  \n",
    "**i.   All odd numbers**  \n",
    "**ii.  All even numbers**  \n",
    "**iii. All prime numbers**"
   ]
  },
  {
   "cell_type": "code",
   "execution_count": 13,
   "id": "9fbff7a1-e819-49bc-94b5-37ce9c0d0d44",
   "metadata": {},
   "outputs": [
    {
     "name": "stdout",
     "output_type": "stream",
     "text": [
      "395\n",
      "173\n",
      "411\n",
      "351\n",
      "659\n",
      "503\n",
      "783\n",
      "679\n",
      "355\n",
      "229\n",
      "587\n",
      "635\n",
      "781\n",
      "553\n",
      "871\n",
      "273\n",
      "893\n",
      "497\n",
      "773\n",
      "663\n",
      "869\n",
      "343\n",
      "177\n",
      "147\n",
      "409\n",
      "161\n",
      "481\n",
      "833\n",
      "831\n",
      "707\n",
      "525\n",
      "807\n",
      "769\n",
      "517\n",
      "845\n",
      "713\n",
      "579\n",
      "107\n",
      "731\n",
      "797\n",
      "699\n",
      "287\n",
      "691\n",
      "191\n",
      "537\n",
      "673\n",
      "715\n",
      "335\n",
      "257\n",
      "303\n",
      "203\n",
      "405\n",
      "659\n",
      "701\n",
      "187\n",
      "189\n",
      "683\n",
      "Count of odd numbers:  57\n"
     ]
    }
   ],
   "source": [
    "import random as r\n",
    "i = 0\n",
    "L = []\n",
    "while i < 100:\n",
    "    num = r.randint(100,900)\n",
    "    L.append(num)\n",
    "    i += 1\n",
    "\n",
    "count = 0\n",
    "for x in L:\n",
    "    if x % 2 != 0:\n",
    "        print(x)\n",
    "        count += 1\n",
    "\n",
    "print(\"Count of odd numbers: \",count)"
   ]
  },
  {
   "cell_type": "code",
   "execution_count": 15,
   "id": "451a17f2-b187-4f59-a046-bb16ea887579",
   "metadata": {},
   "outputs": [
    {
     "name": "stdout",
     "output_type": "stream",
     "text": [
      "720\n",
      "246\n",
      "638\n",
      "664\n",
      "810\n",
      "464\n",
      "246\n",
      "572\n",
      "688\n",
      "688\n",
      "648\n",
      "104\n",
      "842\n",
      "586\n",
      "892\n",
      "226\n",
      "206\n",
      "308\n",
      "118\n",
      "342\n",
      "528\n",
      "844\n",
      "644\n",
      "222\n",
      "888\n",
      "336\n",
      "724\n",
      "346\n",
      "354\n",
      "636\n",
      "720\n",
      "220\n",
      "542\n",
      "530\n",
      "514\n",
      "102\n",
      "500\n",
      "216\n",
      "210\n",
      "822\n",
      "412\n",
      "640\n",
      "788\n",
      "Count of even numbers:  43\n"
     ]
    }
   ],
   "source": [
    "# Printing even numbers from the list of randomly generated numbers\n",
    "count = 0\n",
    "for x in L:\n",
    "    if x % 2 == 0:\n",
    "        print(x)\n",
    "        count += 1\n",
    "\n",
    "print(\"Count of even numbers: \",count)"
   ]
  },
  {
   "cell_type": "code",
   "execution_count": 16,
   "id": "5359f19e-907c-4e81-9e48-e6b329014048",
   "metadata": {},
   "outputs": [
    {
     "name": "stdout",
     "output_type": "stream",
     "text": [
      "173\n",
      "659\n",
      "503\n",
      "229\n",
      "587\n",
      "773\n",
      "409\n",
      "769\n",
      "107\n",
      "797\n",
      "691\n",
      "191\n",
      "673\n",
      "257\n",
      "659\n",
      "701\n",
      "683\n",
      "Count of prime numbers:  17\n"
     ]
    }
   ],
   "source": [
    "# Printing the prime numbers from the list\n",
    "def is_Prime(num):\n",
    "    for i in range(2, num//2 + 1):\n",
    "        if num % i == 0:\n",
    "            return False\n",
    "    return True\n",
    "\n",
    "\n",
    "count = 0\n",
    "for x in L:\n",
    "    if is_Prime(x):\n",
    "        print(x)\n",
    "        count += 1\n",
    "\n",
    "print(\"Count of prime numbers: \",count)"
   ]
  },
  {
   "cell_type": "markdown",
   "id": "c611f5b6-2b42-4a92-ada3-a98d80b3880a",
   "metadata": {},
   "source": [
    "**Q4. Consider the following two sets, A and B, representing scores of two teams in multiple matches. A = {34, 56, 78, 90} and B = {78, 45, 90, 23} \n",
    "WAP to perform the following operations using set functions:**  \n",
    "\n",
    "**i. Find the unique scores achieved by both teams (union of sets).**  \n",
    "**ii. Identify the scores that are common to both teams (intersection of sets).**  \n",
    "**iii. Find the scores that are exclusive to each team (symmetric difference).**  \n",
    "**iv. Check if the scores of team A are a subset of team B, and if team B's scores are a superset of team A.**  \n",
    "**v.   Remove a specific score 𝑋 (input by the user) from set A if it exists. If not, print a message saying it is not present.** \n"
   ]
  },
  {
   "cell_type": "code",
   "execution_count": 1,
   "id": "27402cda-9ff4-431e-8130-7d4b2a03f9be",
   "metadata": {},
   "outputs": [
    {
     "name": "stdout",
     "output_type": "stream",
     "text": [
      "Unique scores achieved by both teams :  {34, 45, 78, 23, 56, 90}\n",
      "Scores common to both teams          :  {90, 78}\n",
      "Symmetric Difference A - B           :  {34, 45, 23, 56}\n",
      "Symmetric Difference B - A           :  {34, 45, 23, 56}\n",
      "A is subset of B ?                   :  False\n",
      "B is superset of A ?                 :  False\n",
      "\n",
      "\n"
     ]
    },
    {
     "name": "stdin",
     "output_type": "stream",
     "text": [
      "Which score you want to remove from set A? :  34\n"
     ]
    },
    {
     "name": "stdout",
     "output_type": "stream",
     "text": [
      "34  removed from set A.\n",
      "Updated Set A :  {56, 90, 78}\n"
     ]
    }
   ],
   "source": [
    "A = {34,56,78,90}\n",
    "B = {78,45,90,23}\n",
    "\n",
    "print(\"Unique scores achieved by both teams : \", A.union(B))\n",
    "print(\"Scores common to both teams          : \", A.intersection(B))\n",
    "print(\"Symmetric Difference A - B           : \", A.symmetric_difference(B))\n",
    "print(\"Symmetric Difference B - A           : \", B.symmetric_difference(A))\n",
    "print(\"A is subset of B ?                   : \", A.issubset(B))\n",
    "print(\"B is superset of A ?                 : \", A.issuperset(B))\n",
    "print(\"\\n\")\n",
    "score = int(input(\"Which score you want to remove from set A? : \"))\n",
    "if score in A:\n",
    "    A.remove(score)\n",
    "    print(score, \" removed from set A.\")\n",
    "    print(\"Updated Set A : \", A)\n",
    "else:\n",
    "    print(score, \" is not present in set A.\") \n",
    "\n"
   ]
  },
  {
   "cell_type": "markdown",
   "id": "da944fb2-42a3-4f00-bdb8-93b4e6e23ee2",
   "metadata": {},
   "source": [
    "**Q5. Write a program to rename a key city to a location in the following dictionary:**"
   ]
  },
  {
   "cell_type": "code",
   "execution_count": 18,
   "id": "2aa8bc77-4918-44a3-96b4-6bb671a9200e",
   "metadata": {},
   "outputs": [
    {
     "name": "stdout",
     "output_type": "stream",
     "text": [
      "Original Dictionary    : {'name': 'Kelly', 'age': 25, 'salary': 8000, 'city': 'New York'}\n",
      "After renaming the key : {'name': 'Kelly', 'age': 25, 'salary': 8000, 'location': 'New York'}\n"
     ]
    }
   ],
   "source": [
    "# Given:\n",
    "sample_dict = {\n",
    "    \"name\" : \"Kelly\",\n",
    "    \"age\" : 25,\n",
    "    \"salary\" : 8000,\n",
    "    \"city\" : \"New York\"\n",
    "}\n",
    "\n",
    "# Rename \"city\" to \"location\":\n",
    "print(\"Original Dictionary    :\", sample_dict)\n",
    "\n",
    "sample_dict[\"location\"] = sample_dict.pop(\"city\")\n",
    "print(\"After renaming the key :\", sample_dict)"
   ]
  },
  {
   "cell_type": "code",
   "execution_count": null,
   "id": "116acf83-ce69-4e18-b9eb-16d01e69d6b1",
   "metadata": {},
   "outputs": [],
   "source": []
  }
 ],
 "metadata": {
  "kernelspec": {
   "display_name": "Python 3 (ipykernel)",
   "language": "python",
   "name": "python3"
  },
  "language_info": {
   "codemirror_mode": {
    "name": "ipython",
    "version": 3
   },
   "file_extension": ".py",
   "mimetype": "text/x-python",
   "name": "python",
   "nbconvert_exporter": "python",
   "pygments_lexer": "ipython3",
   "version": "3.12.7"
  }
 },
 "nbformat": 4,
 "nbformat_minor": 5
}
