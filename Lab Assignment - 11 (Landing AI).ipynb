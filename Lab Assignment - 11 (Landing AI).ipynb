{
 "cells": [
  {
   "cell_type": "markdown",
   "id": "838bd064-e4a6-4556-af16-d64bd88c1ae9",
   "metadata": {},
   "source": [
    "<div style=\"text-align: center;\">\n",
    "\n",
    "<img src=\"Images/LMS Logo (1).png\" alt=\"TIET Logo\" style=\"width: 200px;\">\n",
    "\n",
    "#### Thapar Institute of Engineering and Technology, Patiala <br> Computer Science & Engineering Department  \n",
    "\n",
    "#### **UCS420: Cognitive Computing <br><br>Lab Assignment-11 <br> LandingAI: Vision Based Cognitive System**\n",
    "\n",
    "#### Submitted by Smarth Kaushal [Roll No. 102497023] to Dr. Vaishali\n",
    "---\n",
    "</div>"
   ]
  },
  {
   "cell_type": "markdown",
   "id": "ead3cffd-726c-4dbe-84dc-5dab354121a2",
   "metadata": {},
   "source": [
    "#### Q1. Design a Cognitive Assistant for Reading Labels of medicine bottle (You can download Dataset from Internet)."
   ]
  },
  {
   "cell_type": "markdown",
   "id": "67ce7a8f-5f8f-44a9-bbe3-e42934ce1119",
   "metadata": {},
   "source": [
    "<div style=\"text-align: center;\">\n",
    "\n",
    "<img src=\"Images/A11.1.png\" alt=\"TIET Logo\" style=\"width: 1500px;\">\n",
    "<img src=\"Images/A11.2.png\" alt=\"TIET Logo\" style=\"width: 1500px;\">\n",
    "<img src=\"Images/A11.3.png\" alt=\"TIET Logo\" style=\"width: 1500px;\">\n",
    "<img src=\"Images/A11.4.png\" alt=\"TIET Logo\" style=\"width: 1500px;\">\n",
    "<img src=\"Images/A11.5.png\" alt=\"TIET Logo\" style=\"width: 1500px;\">\n",
    "<img src=\"Images/A11.6.png\" alt=\"TIET Logo\" style=\"width: 1500px;\">\n",
    "<img src=\"Images/A11.7.png\" alt=\"TIET Logo\" style=\"width: 1500px;\">\n",
    "\n",
    "</div>"
   ]
  },
  {
   "cell_type": "markdown",
   "id": "55c9b168-8b9b-4222-b0c1-b68843f701a3",
   "metadata": {},
   "source": [
    "#### Q2. Design an Emotion-aware Cognitive Assistant using Facial Expression Detection."
   ]
  },
  {
   "cell_type": "markdown",
   "id": "9bec2ab5-63f7-415f-8c6e-da459aaa2a9f",
   "metadata": {},
   "source": [
    "<div style=\"text-align: center;\">\n",
    "\n",
    "<img src=\"Images/A11.8.png\" alt=\"TIET Logo\" style=\"width: 1500px;\">\n",
    "<img src=\"Images/A11.9.png\" alt=\"TIET Logo\" style=\"width: 1500px;\">\n",
    "<img src=\"Images/A11.10.png\" alt=\"TIET Logo\" style=\"width: 1500px;\">\n",
    "<img src=\"Images/A11.11.png\" alt=\"TIET Logo\" style=\"width: 1500px;\">\n",
    "<img src=\"Images/A11.12.png\" alt=\"TIET Logo\" style=\"width: 1500px;\">\n",
    "<img src=\"Images/A11.13.png\" alt=\"TIET Logo\" style=\"width: 1500px;\">\n",
    "\n",
    "</div>"
   ]
  },
  {
   "cell_type": "markdown",
   "id": "12a50daf-5085-4d08-a5f0-8df0e479ef4d",
   "metadata": {},
   "source": [
    "#### Landing AI Profile Link: https://app.landing.ai/app/149214739017741/projects"
   ]
  }
 ],
 "metadata": {
  "kernelspec": {
   "display_name": "Python 3.11",
   "language": "python",
   "name": "py311"
  },
  "language_info": {
   "codemirror_mode": {
    "name": "ipython",
    "version": 3
   },
   "file_extension": ".py",
   "mimetype": "text/x-python",
   "name": "python",
   "nbconvert_exporter": "python",
   "pygments_lexer": "ipython3",
   "version": "3.11.0"
  }
 },
 "nbformat": 4,
 "nbformat_minor": 5
}
