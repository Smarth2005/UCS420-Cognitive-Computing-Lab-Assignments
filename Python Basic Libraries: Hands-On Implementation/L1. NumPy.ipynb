{
  "cells": [
    {
      "cell_type": "markdown",
      "metadata": {
        "id": "view-in-github",
        "colab_type": "text"
      },
      "source": [
        "<a href=\"https://colab.research.google.com/github/Smarth2005/UCS420-Cognitive-Computing-Lab-Assignments/blob/main/Python%20Basic%20Libraries%3A%20Hands-On%20Implementation/L1.%20NumPy.ipynb\" target=\"_parent\"><img src=\"https://colab.research.google.com/assets/colab-badge.svg\" alt=\"Open In Colab\"/></a>"
      ]
    },
    {
      "cell_type": "markdown",
      "id": "e349c72f-d743-4317-b2df-26fcddfe6b0e",
      "metadata": {
        "id": "e349c72f-d743-4317-b2df-26fcddfe6b0e"
      },
      "source": [
        "## NumPy: A Hands-On Learning Journey\n",
        "The NumPy package is the workhorse of data analysis, machine learning, and scientific computing in the python ecosystem. It vastly simplifies manipulating and crunching vectors and matrices. Some of python’s leading package rely on NumPy as a fundamental piece of their infrastructure (examples include scikit-learn, SciPy, pandas, and tensorflow). Beyond the ability to slice and dice numeric data, mastering numpy will give you an edge when dealing and debugging with advanced usecases in these libraries."
      ]
    },
    {
      "cell_type": "code",
      "execution_count": null,
      "id": "39e38fb7-fb4d-4a6d-948b-450400a9d402",
      "metadata": {
        "id": "39e38fb7-fb4d-4a6d-948b-450400a9d402"
      },
      "outputs": [],
      "source": [
        "import numpy as np"
      ]
    },
    {
      "cell_type": "markdown",
      "id": "b0f6513d-bf1a-46df-81e5-928d90c5d853",
      "metadata": {
        "id": "b0f6513d-bf1a-46df-81e5-928d90c5d853"
      },
      "source": [
        "### **Creating Arrays**\n",
        "#### What is an array?\n",
        "An array is a data structure that stores values of same data type. In Python, this is the main difference between arrays and lists. While Python lists contain values corresponding to different data types, arrays in python can only contain values corresponding to same data type.  \n",
        "#### We can create a NumPy array (a.k.a. the mighty ndarray) by passing a python list to it and using ` np.array()`."
      ]
    },
    {
      "cell_type": "code",
      "execution_count": null,
      "id": "a5f6b9c8-9dec-49f4-8ec5-339af2c71c6a",
      "metadata": {
        "id": "a5f6b9c8-9dec-49f4-8ec5-339af2c71c6a"
      },
      "outputs": [],
      "source": [
        "my_list = [1,2,3,4,5,6,7,8]\n",
        "arr = np.array(my_list)"
      ]
    },
    {
      "cell_type": "code",
      "execution_count": null,
      "id": "1216b816-72b7-4a6d-9766-36aacb793d24",
      "metadata": {
        "colab": {
          "base_uri": "https://localhost:8080/"
        },
        "id": "1216b816-72b7-4a6d-9766-36aacb793d24",
        "outputId": "19194629-bf31-4cb5-cc14-41901e2ac214"
      },
      "outputs": [
        {
          "output_type": "execute_result",
          "data": {
            "text/plain": [
              "numpy.ndarray"
            ]
          },
          "metadata": {},
          "execution_count": 3
        }
      ],
      "source": [
        "type(arr)"
      ]
    },
    {
      "cell_type": "code",
      "execution_count": null,
      "id": "c80e4035-879c-428a-8739-15fe6c2e669a",
      "metadata": {
        "colab": {
          "base_uri": "https://localhost:8080/"
        },
        "id": "c80e4035-879c-428a-8739-15fe6c2e669a",
        "outputId": "aa96fa66-2e25-4d4f-86de-92950020a212"
      },
      "outputs": [
        {
          "output_type": "execute_result",
          "data": {
            "text/plain": [
              "array([1, 2, 3, 4, 5, 6, 7, 8])"
            ]
          },
          "metadata": {},
          "execution_count": 4
        }
      ],
      "source": [
        "arr"
      ]
    },
    {
      "cell_type": "code",
      "execution_count": null,
      "id": "28d221c0-617b-4633-9123-bd6cb8fc428f",
      "metadata": {
        "colab": {
          "base_uri": "https://localhost:8080/"
        },
        "id": "28d221c0-617b-4633-9123-bd6cb8fc428f",
        "outputId": "c6d49459-b405-4de0-c71d-8c147c431bf9"
      },
      "outputs": [
        {
          "output_type": "stream",
          "name": "stdout",
          "text": [
            "[1 2 3 4 5 6 7 8]\n"
          ]
        }
      ],
      "source": [
        "print(arr)"
      ]
    },
    {
      "cell_type": "code",
      "execution_count": null,
      "id": "aded1b31-5bc4-43fc-ba69-daff5a974915",
      "metadata": {
        "colab": {
          "base_uri": "https://localhost:8080/"
        },
        "id": "aded1b31-5bc4-43fc-ba69-daff5a974915",
        "outputId": "ab34faf0-d077-4c35-81ac-e21e8b1fb7d0"
      },
      "outputs": [
        {
          "output_type": "execute_result",
          "data": {
            "text/plain": [
              "(8,)"
            ]
          },
          "metadata": {},
          "execution_count": 6
        }
      ],
      "source": [
        "arr.shape"
      ]
    },
    {
      "cell_type": "markdown",
      "id": "ac3ef6e9-053f-422c-8442-8f30b29b9f1a",
      "metadata": {
        "id": "ac3ef6e9-053f-422c-8442-8f30b29b9f1a"
      },
      "source": [
        "#### There are often cases when we want NumPy to initialize the values of the array for us. NumPy provides methods like ones(), zeros(), and random.random() for these cases. We just pass them the number of elements we want it to generate:"
      ]
    },
    {
      "cell_type": "code",
      "execution_count": null,
      "id": "f60e4984-4c3e-4071-9599-ae487534e0f5",
      "metadata": {
        "colab": {
          "base_uri": "https://localhost:8080/"
        },
        "id": "f60e4984-4c3e-4071-9599-ae487534e0f5",
        "outputId": "b154240c-1ec6-44f3-f3de-e432c5b841aa"
      },
      "outputs": [
        {
          "output_type": "stream",
          "name": "stdout",
          "text": [
            "[1. 1. 1. 1. 1.]\n"
          ]
        }
      ],
      "source": [
        "arr1 = np.ones(5)\n",
        "print(arr1)"
      ]
    },
    {
      "cell_type": "code",
      "execution_count": null,
      "id": "300ead94-a204-4bcb-8b42-41e281b5e7b6",
      "metadata": {
        "colab": {
          "base_uri": "https://localhost:8080/"
        },
        "id": "300ead94-a204-4bcb-8b42-41e281b5e7b6",
        "outputId": "db544d77-5a29-4d10-d15f-590e8166b034"
      },
      "outputs": [
        {
          "output_type": "execute_result",
          "data": {
            "text/plain": [
              "array([1., 1., 1., 1., 1.])"
            ]
          },
          "metadata": {},
          "execution_count": 8
        }
      ],
      "source": [
        "arr1"
      ]
    },
    {
      "cell_type": "markdown",
      "id": "1d101cea-e07e-4f0a-824f-08c5c50065b1",
      "metadata": {
        "id": "1d101cea-e07e-4f0a-824f-08c5c50065b1"
      },
      "source": [
        "#### **Note:**\n",
        "##### When you use np.ones(5), it creates an array of size 5 filled with the value 1.0. NumPy defaults to `float64` for functions like np.ones() unless you specify the `dtype` parameter.\n",
        "\n",
        "#### **Why do the Dots Appear ?**  \n",
        "##### In NumPy, floating-point numbers are typically represented with a decimal point to differentiate them from integers.\n",
        "##### [1. 1. 1. 1. 1.] is the same as [1.0, 1.0, 1.0, 1.0, 1.0] but uses a shorter representation."
      ]
    },
    {
      "cell_type": "code",
      "execution_count": null,
      "id": "b5915be6-6e30-48b1-9194-9fad47f7d87d",
      "metadata": {
        "colab": {
          "base_uri": "https://localhost:8080/"
        },
        "id": "b5915be6-6e30-48b1-9194-9fad47f7d87d",
        "outputId": "a618b07d-9146-41b6-c917-93c5907e3321"
      },
      "outputs": [
        {
          "output_type": "stream",
          "name": "stdout",
          "text": [
            "[1 1 1 1 1]\n"
          ]
        }
      ],
      "source": [
        "arr1 = np.ones(5, dtype = int)\n",
        "print(arr1)"
      ]
    },
    {
      "cell_type": "code",
      "execution_count": null,
      "id": "ef9dd5d9-6944-44e0-bf58-5fdc0e3110d5",
      "metadata": {
        "colab": {
          "base_uri": "https://localhost:8080/"
        },
        "id": "ef9dd5d9-6944-44e0-bf58-5fdc0e3110d5",
        "outputId": "338bca0f-ae55-4df5-e76e-acd68e908aef"
      },
      "outputs": [
        {
          "output_type": "stream",
          "name": "stdout",
          "text": [
            "[0. 0. 0. 0. 0.]\n"
          ]
        }
      ],
      "source": [
        "arr2 = np.zeros(5)\n",
        "print(arr2)"
      ]
    },
    {
      "cell_type": "code",
      "execution_count": null,
      "id": "b08439a4-e022-40c1-b5f1-4e6e9581cb08",
      "metadata": {
        "colab": {
          "base_uri": "https://localhost:8080/"
        },
        "id": "b08439a4-e022-40c1-b5f1-4e6e9581cb08",
        "outputId": "a0500a0d-6d80-49cf-f80a-49ffae61aef6"
      },
      "outputs": [
        {
          "output_type": "stream",
          "name": "stdout",
          "text": [
            "[0 0 0 0 0]\n"
          ]
        }
      ],
      "source": [
        "arr2 = np.zeros(5, dtype = int)\n",
        "print(arr2)"
      ]
    },
    {
      "cell_type": "code",
      "execution_count": null,
      "id": "3800e74a-def9-4f52-9f25-fdb11143a2ed",
      "metadata": {
        "colab": {
          "base_uri": "https://localhost:8080/"
        },
        "id": "3800e74a-def9-4f52-9f25-fdb11143a2ed",
        "outputId": "213245e3-95d9-4386-bce9-a8e9159e170a"
      },
      "outputs": [
        {
          "output_type": "stream",
          "name": "stdout",
          "text": [
            "[0.04178992 0.32554591 0.23675535]\n"
          ]
        }
      ],
      "source": [
        "arr3 = np.random.random(3)\n",
        "print(arr3)"
      ]
    },
    {
      "cell_type": "markdown",
      "id": "dfdf47e6-84a2-407b-8373-d21f48df174a",
      "metadata": {
        "id": "dfdf47e6-84a2-407b-8373-d21f48df174a"
      },
      "source": [
        "### **Array Arithmetic**"
      ]
    },
    {
      "cell_type": "code",
      "execution_count": null,
      "id": "e36ab299-d1e2-4daa-b2e2-406792af3823",
      "metadata": {
        "colab": {
          "base_uri": "https://localhost:8080/"
        },
        "id": "e36ab299-d1e2-4daa-b2e2-406792af3823",
        "outputId": "caf0b040-37bd-4740-8014-b2154311471c"
      },
      "outputs": [
        {
          "output_type": "execute_result",
          "data": {
            "text/plain": [
              "array([2, 3])"
            ]
          },
          "metadata": {},
          "execution_count": 13
        }
      ],
      "source": [
        "data = np.array([1,2])\n",
        "ones = np.ones(2, dtype = int)\n",
        "data + ones # Adding the two arrays 'data' and 'ones' position-wise(i.e. adding the values of each row)"
      ]
    },
    {
      "cell_type": "code",
      "execution_count": null,
      "id": "2382024b-e033-45db-99c9-c7a779aee229",
      "metadata": {
        "colab": {
          "base_uri": "https://localhost:8080/"
        },
        "id": "2382024b-e033-45db-99c9-c7a779aee229",
        "outputId": "7db2a511-1c7d-4bd8-f97f-eb50b843a69f"
      },
      "outputs": [
        {
          "output_type": "execute_result",
          "data": {
            "text/plain": [
              "array([0, 1])"
            ]
          },
          "metadata": {},
          "execution_count": 14
        }
      ],
      "source": [
        "data - ones # [1-1,2-1] = [0,1]"
      ]
    },
    {
      "cell_type": "code",
      "execution_count": null,
      "id": "ac1f85db-581e-4642-902f-71abcadfc06f",
      "metadata": {
        "colab": {
          "base_uri": "https://localhost:8080/"
        },
        "id": "ac1f85db-581e-4642-902f-71abcadfc06f",
        "outputId": "8dd9d147-d178-4d8e-f968-81205e3aa8b6"
      },
      "outputs": [
        {
          "output_type": "execute_result",
          "data": {
            "text/plain": [
              "array([1, 2])"
            ]
          },
          "metadata": {},
          "execution_count": 15
        }
      ],
      "source": [
        "data * ones # [1*1, 2*1] = [1,2]"
      ]
    },
    {
      "cell_type": "code",
      "execution_count": null,
      "id": "90332170-6a50-40f5-9264-c27706a75d2a",
      "metadata": {
        "colab": {
          "base_uri": "https://localhost:8080/"
        },
        "id": "90332170-6a50-40f5-9264-c27706a75d2a",
        "outputId": "c3bdb963-5748-494a-9adf-11884f219277"
      },
      "outputs": [
        {
          "output_type": "execute_result",
          "data": {
            "text/plain": [
              "array([1., 2.])"
            ]
          },
          "metadata": {},
          "execution_count": 16
        }
      ],
      "source": [
        "data / ones # [1/1, 2/1]"
      ]
    },
    {
      "cell_type": "code",
      "execution_count": null,
      "id": "cdbb3950-da8f-4320-b789-73754ce2cc87",
      "metadata": {
        "colab": {
          "base_uri": "https://localhost:8080/"
        },
        "id": "cdbb3950-da8f-4320-b789-73754ce2cc87",
        "outputId": "e7db15fc-88a8-43a2-fc91-374858371a45"
      },
      "outputs": [
        {
          "output_type": "execute_result",
          "data": {
            "text/plain": [
              "array([1, 4])"
            ]
          },
          "metadata": {},
          "execution_count": 17
        }
      ],
      "source": [
        "data * data # [1*1, 2*2] = [1,4]"
      ]
    },
    {
      "cell_type": "code",
      "execution_count": null,
      "id": "a9971f4f-c2f3-4b93-8ce8-c7c4a17714ae",
      "metadata": {
        "colab": {
          "base_uri": "https://localhost:8080/"
        },
        "id": "a9971f4f-c2f3-4b93-8ce8-c7c4a17714ae",
        "outputId": "bc629d48-db61-4944-bc4f-a549ea5f48ac"
      },
      "outputs": [
        {
          "output_type": "execute_result",
          "data": {
            "text/plain": [
              "array([1., 1.])"
            ]
          },
          "metadata": {},
          "execution_count": 18
        }
      ],
      "source": [
        "data / data # [1/1, 2/2] = [1.0,1.0]"
      ]
    },
    {
      "cell_type": "code",
      "execution_count": null,
      "id": "26717078-ebd4-4747-aad1-ce278755ab7e",
      "metadata": {
        "colab": {
          "base_uri": "https://localhost:8080/"
        },
        "id": "26717078-ebd4-4747-aad1-ce278755ab7e",
        "outputId": "d1644ba7-4207-4b80-b8b3-c36e41a48340"
      },
      "outputs": [
        {
          "output_type": "execute_result",
          "data": {
            "text/plain": [
              "array([1.6, 3.2])"
            ]
          },
          "metadata": {},
          "execution_count": 19
        }
      ],
      "source": [
        "data * 1.6 # [1*1.6,2*1.6] = [1.6,3.2]"
      ]
    },
    {
      "cell_type": "markdown",
      "id": "7b853cba-aaca-49c2-bb4d-b221cb6e624c",
      "metadata": {
        "id": "7b853cba-aaca-49c2-bb4d-b221cb6e624c"
      },
      "source": [
        "### **Indexing and Slicing**"
      ]
    },
    {
      "cell_type": "code",
      "execution_count": null,
      "id": "7a5d5378-17f3-4a39-b9af-93cd12c42dcb",
      "metadata": {
        "colab": {
          "base_uri": "https://localhost:8080/"
        },
        "id": "7a5d5378-17f3-4a39-b9af-93cd12c42dcb",
        "outputId": "11249afb-058c-4da0-a475-7e3a9e91a16c"
      },
      "outputs": [
        {
          "output_type": "stream",
          "name": "stdout",
          "text": [
            "[1 2 3 4 5 6 7 8]\n"
          ]
        }
      ],
      "source": [
        "mylist = [1,2,3,4,5,6,7,8]\n",
        "arr = np.array(mylist)\n",
        "print(arr)"
      ]
    },
    {
      "cell_type": "code",
      "execution_count": null,
      "id": "68fed4fb-a28e-476c-ad28-a9186a81e27e",
      "metadata": {
        "colab": {
          "base_uri": "https://localhost:8080/"
        },
        "id": "68fed4fb-a28e-476c-ad28-a9186a81e27e",
        "outputId": "428dd387-8d91-4e19-9533-f84856e968bc"
      },
      "outputs": [
        {
          "output_type": "execute_result",
          "data": {
            "text/plain": [
              "np.int64(1)"
            ]
          },
          "metadata": {},
          "execution_count": 21
        }
      ],
      "source": [
        "arr[0]"
      ]
    },
    {
      "cell_type": "code",
      "execution_count": null,
      "id": "f2d32bca-3c1d-4ad8-aed0-eac6ee90f1e4",
      "metadata": {
        "colab": {
          "base_uri": "https://localhost:8080/"
        },
        "id": "f2d32bca-3c1d-4ad8-aed0-eac6ee90f1e4",
        "outputId": "428cdbff-bc6c-4106-81aa-7305fd63a4ca"
      },
      "outputs": [
        {
          "output_type": "execute_result",
          "data": {
            "text/plain": [
              "np.int64(4)"
            ]
          },
          "metadata": {},
          "execution_count": 22
        }
      ],
      "source": [
        "arr[3]"
      ]
    },
    {
      "cell_type": "code",
      "execution_count": null,
      "id": "ecb04e66-f739-44ad-8237-ce4e67b0fece",
      "metadata": {
        "colab": {
          "base_uri": "https://localhost:8080/"
        },
        "id": "ecb04e66-f739-44ad-8237-ce4e67b0fece",
        "outputId": "8145c74b-9cd5-4451-818f-7aad84df9159"
      },
      "outputs": [
        {
          "output_type": "execute_result",
          "data": {
            "text/plain": [
              "array([1, 2, 3])"
            ]
          },
          "metadata": {},
          "execution_count": 23
        }
      ],
      "source": [
        "arr[0:3]"
      ]
    },
    {
      "cell_type": "code",
      "execution_count": null,
      "id": "e6349240-57a5-401c-b9be-49cbea07c448",
      "metadata": {
        "colab": {
          "base_uri": "https://localhost:8080/"
        },
        "id": "e6349240-57a5-401c-b9be-49cbea07c448",
        "outputId": "30538eae-0f77-462d-c65a-57f2f7ec94ee"
      },
      "outputs": [
        {
          "output_type": "execute_result",
          "data": {
            "text/plain": [
              "array([5, 6, 7])"
            ]
          },
          "metadata": {},
          "execution_count": 24
        }
      ],
      "source": [
        "arr[4:7] # index 7 excluded"
      ]
    },
    {
      "cell_type": "code",
      "execution_count": null,
      "id": "71c2751f-01fe-44ac-bf49-7b250f098c29",
      "metadata": {
        "colab": {
          "base_uri": "https://localhost:8080/"
        },
        "id": "71c2751f-01fe-44ac-bf49-7b250f098c29",
        "outputId": "3b17b24c-7d01-4173-a5d0-4f4402b82f36"
      },
      "outputs": [
        {
          "output_type": "execute_result",
          "data": {
            "text/plain": [
              "array([4, 5, 6, 7, 8])"
            ]
          },
          "metadata": {},
          "execution_count": 25
        }
      ],
      "source": [
        "arr[3:] # array from index 3"
      ]
    },
    {
      "cell_type": "code",
      "execution_count": null,
      "id": "ac21bb06-d93c-424b-b71a-8dd2bd8eb5bf",
      "metadata": {
        "colab": {
          "base_uri": "https://localhost:8080/"
        },
        "id": "ac21bb06-d93c-424b-b71a-8dd2bd8eb5bf",
        "outputId": "14237585-efba-4021-9e47-36754d98d9f0"
      },
      "outputs": [
        {
          "output_type": "execute_result",
          "data": {
            "text/plain": [
              "array([1, 2, 3, 4, 5])"
            ]
          },
          "metadata": {},
          "execution_count": 26
        }
      ],
      "source": [
        "arr[:5] # array upto index 4 (index 5 excluded)"
      ]
    },
    {
      "cell_type": "markdown",
      "id": "2633f6db-7226-4694-9c08-d387b07c1c61",
      "metadata": {
        "id": "2633f6db-7226-4694-9c08-d387b07c1c61"
      },
      "source": [
        "### **Aggregation**"
      ]
    },
    {
      "cell_type": "code",
      "execution_count": null,
      "id": "22ec110a-6d3b-4d6c-8b02-78c24c7226e3",
      "metadata": {
        "colab": {
          "base_uri": "https://localhost:8080/"
        },
        "id": "22ec110a-6d3b-4d6c-8b02-78c24c7226e3",
        "outputId": "0e64aef4-f830-4fdd-b59c-bd7aa58ac71d"
      },
      "outputs": [
        {
          "output_type": "stream",
          "name": "stdout",
          "text": [
            "[23 34 67 56 98 12 10  7 79]\n",
            "Min element = 7\n",
            "Max element = 98\n"
          ]
        }
      ],
      "source": [
        "mylist = [23, 34, 67, 56, 98, 12, 10, 7, 79]\n",
        "data = np.array(mylist)\n",
        "print(data)\n",
        "print(\"Min element =\",data.min())\n",
        "print(\"Max element =\",data.max())"
      ]
    },
    {
      "cell_type": "code",
      "execution_count": null,
      "id": "b7b84a05-bebc-41a4-b756-438918bf218a",
      "metadata": {
        "colab": {
          "base_uri": "https://localhost:8080/"
        },
        "id": "b7b84a05-bebc-41a4-b756-438918bf218a",
        "outputId": "dba72860-4174-435f-bc25-de1ab4a39bb8"
      },
      "outputs": [
        {
          "output_type": "stream",
          "name": "stdout",
          "text": [
            "Sum of all elements of array                = 15\n",
            "Average of all elements of array            = 3.0\n",
            "Product of all elements of array            = 120\n",
            "Standard deviation of all elements of array = 1.4142135623730951\n",
            "Variance of array elements                  = 2.0000000000000004\n"
          ]
        }
      ],
      "source": [
        "newArray = np.array([1,2,3,4,5])\n",
        "print(\"Sum of all elements of array                =\", newArray.sum())\n",
        "print(\"Average of all elements of array            =\", newArray.mean())\n",
        "print(\"Product of all elements of array            =\", newArray.prod())\n",
        "print(\"Standard deviation of all elements of array =\", newArray.std())\n",
        "print(\"Variance of array elements                  =\",(newArray.std())**2)"
      ]
    },
    {
      "cell_type": "markdown",
      "id": "da790615-ca12-4632-bf14-482ff18d7cab",
      "metadata": {
        "id": "da790615-ca12-4632-bf14-482ff18d7cab"
      },
      "source": [
        "#### *The Beauty of NumPy is its ability  to apply everything we've looked at so far to any number of dimensions.*  \n",
        "### **Creating Matrices**"
      ]
    },
    {
      "cell_type": "code",
      "execution_count": null,
      "id": "438e6e8e-bbe5-485a-a046-31ac8eac0502",
      "metadata": {
        "colab": {
          "base_uri": "https://localhost:8080/"
        },
        "id": "438e6e8e-bbe5-485a-a046-31ac8eac0502",
        "outputId": "d14fd71c-2cd6-4db1-c66d-49d3bfca7817"
      },
      "outputs": [
        {
          "output_type": "stream",
          "name": "stdout",
          "text": [
            "[[1 2]\n",
            " [3 4]]\n"
          ]
        }
      ],
      "source": [
        "mat = np.array([[1,2],[3,4]])\n",
        "print(mat)"
      ]
    },
    {
      "cell_type": "code",
      "execution_count": null,
      "id": "f4400934-5b8c-454c-abfd-b9152bf12142",
      "metadata": {
        "id": "f4400934-5b8c-454c-abfd-b9152bf12142"
      },
      "outputs": [],
      "source": [
        "# Multinested array\n",
        "lst1 = [1,8,9,7,6]\n",
        "lst2 = [4,5,6,3,2]\n",
        "lst3 = [1,0,2,4,8]\n",
        "\n",
        "matrix = np.array([lst1,lst2,lst3])"
      ]
    },
    {
      "cell_type": "code",
      "execution_count": null,
      "id": "8ed95fdc-3bd5-49b7-bee6-c2be2a05da72",
      "metadata": {
        "colab": {
          "base_uri": "https://localhost:8080/"
        },
        "id": "8ed95fdc-3bd5-49b7-bee6-c2be2a05da72",
        "outputId": "f956310f-38be-4a29-b448-447a3c77b468"
      },
      "outputs": [
        {
          "output_type": "execute_result",
          "data": {
            "text/plain": [
              "numpy.ndarray"
            ]
          },
          "metadata": {},
          "execution_count": 31
        }
      ],
      "source": [
        "type(matrix)"
      ]
    },
    {
      "cell_type": "code",
      "execution_count": null,
      "id": "e990dcf7-dbfd-4cf8-bf60-35293c2f4f46",
      "metadata": {
        "colab": {
          "base_uri": "https://localhost:8080/"
        },
        "id": "e990dcf7-dbfd-4cf8-bf60-35293c2f4f46",
        "outputId": "803f2c3c-8588-4c3e-8a7d-96763588fb85"
      },
      "outputs": [
        {
          "output_type": "execute_result",
          "data": {
            "text/plain": [
              "array([[1, 8, 9, 7, 6],\n",
              "       [4, 5, 6, 3, 2],\n",
              "       [1, 0, 2, 4, 8]])"
            ]
          },
          "metadata": {},
          "execution_count": 32
        }
      ],
      "source": [
        "matrix"
      ]
    },
    {
      "cell_type": "code",
      "execution_count": null,
      "id": "80b607ec-489e-4d76-aaca-586855f4c8cd",
      "metadata": {
        "colab": {
          "base_uri": "https://localhost:8080/"
        },
        "id": "80b607ec-489e-4d76-aaca-586855f4c8cd",
        "outputId": "c5f52a8b-59c3-4561-d339-dc30b455909b"
      },
      "outputs": [
        {
          "output_type": "stream",
          "name": "stdout",
          "text": [
            "[[1 8 9 7 6]\n",
            " [4 5 6 3 2]\n",
            " [1 0 2 4 8]]\n"
          ]
        }
      ],
      "source": [
        "print(matrix)"
      ]
    },
    {
      "cell_type": "code",
      "execution_count": null,
      "id": "54e4a7e7-f169-41b7-96cf-2bc1445a5e57",
      "metadata": {
        "colab": {
          "base_uri": "https://localhost:8080/"
        },
        "id": "54e4a7e7-f169-41b7-96cf-2bc1445a5e57",
        "outputId": "0ae67025-6186-4623-8c38-aeaa70a1fc06"
      },
      "outputs": [
        {
          "output_type": "execute_result",
          "data": {
            "text/plain": [
              "(3, 5)"
            ]
          },
          "metadata": {},
          "execution_count": 34
        }
      ],
      "source": [
        "matrix.shape #gives the tuple(No. of rows, No. of cols)"
      ]
    },
    {
      "cell_type": "markdown",
      "id": "76ff38a2-67e7-41b2-be5e-bade75b0c745",
      "metadata": {
        "id": "76ff38a2-67e7-41b2-be5e-bade75b0c745"
      },
      "source": [
        "### **Matrix Reshaping and Transposing**"
      ]
    },
    {
      "cell_type": "code",
      "execution_count": null,
      "id": "7ad8f828-d69e-4008-a9cc-fec64eb3f211",
      "metadata": {
        "colab": {
          "base_uri": "https://localhost:8080/"
        },
        "id": "7ad8f828-d69e-4008-a9cc-fec64eb3f211",
        "outputId": "0cb54336-8125-4a90-d2a4-10a6329024f8"
      },
      "outputs": [
        {
          "output_type": "execute_result",
          "data": {
            "text/plain": [
              "array([[1, 8, 9],\n",
              "       [7, 6, 4],\n",
              "       [5, 6, 3],\n",
              "       [2, 1, 0],\n",
              "       [2, 4, 8]])"
            ]
          },
          "metadata": {},
          "execution_count": 35
        }
      ],
      "source": [
        "matrix.reshape(5,3)"
      ]
    },
    {
      "cell_type": "code",
      "execution_count": null,
      "id": "d285d761-4449-4c71-8a57-a02fdf85a642",
      "metadata": {
        "colab": {
          "base_uri": "https://localhost:8080/"
        },
        "id": "d285d761-4449-4c71-8a57-a02fdf85a642",
        "outputId": "52d4337f-7fa0-4bb5-f427-6e33ae2ec080"
      },
      "outputs": [
        {
          "output_type": "execute_result",
          "data": {
            "text/plain": [
              "array([[1, 4, 1],\n",
              "       [8, 5, 0],\n",
              "       [9, 6, 2],\n",
              "       [7, 3, 4],\n",
              "       [6, 2, 8]])"
            ]
          },
          "metadata": {},
          "execution_count": 36
        }
      ],
      "source": [
        "matrix.T #Transpose the matrix"
      ]
    },
    {
      "cell_type": "markdown",
      "id": "9fad0f67-228f-40e4-933a-9d3bb14ee062",
      "metadata": {
        "id": "9fad0f67-228f-40e4-933a-9d3bb14ee062"
      },
      "source": [
        "### **Matrix Indexing and Slicing**"
      ]
    },
    {
      "cell_type": "code",
      "execution_count": null,
      "id": "b4f69a2c-c465-409f-9755-5cf66f33c626",
      "metadata": {
        "colab": {
          "base_uri": "https://localhost:8080/"
        },
        "id": "b4f69a2c-c465-409f-9755-5cf66f33c626",
        "outputId": "3b9f0381-753e-4e26-dfb5-f1399138435f"
      },
      "outputs": [
        {
          "output_type": "execute_result",
          "data": {
            "text/plain": [
              "array([[1, 8, 9, 7, 6],\n",
              "       [4, 5, 6, 3, 2],\n",
              "       [1, 0, 2, 4, 8]])"
            ]
          },
          "metadata": {},
          "execution_count": 37
        }
      ],
      "source": [
        "matrix"
      ]
    },
    {
      "cell_type": "code",
      "execution_count": null,
      "id": "d48a8998-0b13-430a-8f5a-ac6a43b4918a",
      "metadata": {
        "colab": {
          "base_uri": "https://localhost:8080/"
        },
        "id": "d48a8998-0b13-430a-8f5a-ac6a43b4918a",
        "outputId": "cc0c8f1c-f662-457b-dd42-2b651666d134"
      },
      "outputs": [
        {
          "output_type": "execute_result",
          "data": {
            "text/plain": [
              "array([[1, 8, 9, 7, 6, 4, 5, 6, 3, 2, 1, 0, 2, 4, 8]])"
            ]
          },
          "metadata": {},
          "execution_count": 38
        }
      ],
      "source": [
        "matrix.reshape(1,15)"
      ]
    },
    {
      "cell_type": "code",
      "execution_count": null,
      "id": "48903c3b-2fa3-48e8-b1a1-ec6e1c042e73",
      "metadata": {
        "colab": {
          "base_uri": "https://localhost:8080/",
          "height": 141
        },
        "id": "48903c3b-2fa3-48e8-b1a1-ec6e1c042e73",
        "outputId": "c35465be-8a90-4f35-aa3f-1070b2af3a8f"
      },
      "outputs": [
        {
          "output_type": "error",
          "ename": "IndexError",
          "evalue": "index 10 is out of bounds for axis 0 with size 3",
          "traceback": [
            "\u001b[0;31m---------------------------------------------------------------------------\u001b[0m",
            "\u001b[0;31mIndexError\u001b[0m                                Traceback (most recent call last)",
            "\u001b[0;32m<ipython-input-39-1632442772>\u001b[0m in \u001b[0;36m<cell line: 0>\u001b[0;34m()\u001b[0m\n\u001b[0;32m----> 1\u001b[0;31m \u001b[0mmatrix\u001b[0m\u001b[0;34m[\u001b[0m\u001b[0;36m10\u001b[0m\u001b[0;34m]\u001b[0m\u001b[0;34m\u001b[0m\u001b[0;34m\u001b[0m\u001b[0m\n\u001b[0m",
            "\u001b[0;31mIndexError\u001b[0m: index 10 is out of bounds for axis 0 with size 3"
          ]
        }
      ],
      "source": [
        "matrix[10]"
      ]
    },
    {
      "cell_type": "code",
      "execution_count": null,
      "id": "5cc7d969-0246-47db-a1a6-64bb80ba4702",
      "metadata": {
        "colab": {
          "base_uri": "https://localhost:8080/",
          "height": 141
        },
        "id": "5cc7d969-0246-47db-a1a6-64bb80ba4702",
        "outputId": "59aab2dc-7e0c-45cb-9130-fdb9a46d5e41"
      },
      "outputs": [
        {
          "output_type": "error",
          "ename": "IndexError",
          "evalue": "index 7 is out of bounds for axis 0 with size 3",
          "traceback": [
            "\u001b[0;31m---------------------------------------------------------------------------\u001b[0m",
            "\u001b[0;31mIndexError\u001b[0m                                Traceback (most recent call last)",
            "\u001b[0;32m<ipython-input-40-1882071558>\u001b[0m in \u001b[0;36m<cell line: 0>\u001b[0;34m()\u001b[0m\n\u001b[0;32m----> 1\u001b[0;31m \u001b[0mmatrix\u001b[0m\u001b[0;34m[\u001b[0m\u001b[0;36m7\u001b[0m\u001b[0;34m]\u001b[0m\u001b[0;34m\u001b[0m\u001b[0;34m\u001b[0m\u001b[0m\n\u001b[0m",
            "\u001b[0;31mIndexError\u001b[0m: index 7 is out of bounds for axis 0 with size 3"
          ]
        }
      ],
      "source": [
        "matrix[7]"
      ]
    },
    {
      "cell_type": "code",
      "execution_count": null,
      "id": "19479653-4025-4d51-acc1-1e51d75cb772",
      "metadata": {
        "colab": {
          "base_uri": "https://localhost:8080/"
        },
        "id": "19479653-4025-4d51-acc1-1e51d75cb772",
        "outputId": "901b8f21-3d5c-44c2-ddb2-645cf6ce7599"
      },
      "outputs": [
        {
          "output_type": "execute_result",
          "data": {
            "text/plain": [
              "array([4, 5, 6, 3, 2])"
            ]
          },
          "metadata": {},
          "execution_count": 41
        }
      ],
      "source": [
        "matrix[1]"
      ]
    },
    {
      "cell_type": "markdown",
      "id": "8a26fb6e-c49a-47bf-8ce2-2cf453ad5f82",
      "metadata": {
        "id": "8a26fb6e-c49a-47bf-8ce2-2cf453ad5f82"
      },
      "source": [
        "#### **Note:**\n",
        "##### Although it looks like that the matrix has been converted to 1-D Array, but it has not been. It is still a matrix with the same tuples (each row being a respective tuple) only the way of presenting the matrix or the shape of the matrix changes."
      ]
    },
    {
      "cell_type": "code",
      "execution_count": null,
      "id": "a1c33121-0c1a-42d7-bba3-7a6c402d93ce",
      "metadata": {
        "colab": {
          "base_uri": "https://localhost:8080/"
        },
        "id": "a1c33121-0c1a-42d7-bba3-7a6c402d93ce",
        "outputId": "58430774-6cd9-44f6-92ac-99813e4a7bd7"
      },
      "outputs": [
        {
          "output_type": "execute_result",
          "data": {
            "text/plain": [
              "array([[1, 8, 9, 7, 6],\n",
              "       [4, 5, 6, 3, 2],\n",
              "       [1, 0, 2, 4, 8]])"
            ]
          },
          "metadata": {},
          "execution_count": 42
        }
      ],
      "source": [
        "matrix[:,:]"
      ]
    },
    {
      "cell_type": "code",
      "execution_count": null,
      "id": "823630ca-382d-48a4-9d57-e431bafa2743",
      "metadata": {
        "colab": {
          "base_uri": "https://localhost:8080/"
        },
        "id": "823630ca-382d-48a4-9d57-e431bafa2743",
        "outputId": "31a03109-7144-4a0f-fbb1-22a410f76787"
      },
      "outputs": [
        {
          "output_type": "execute_result",
          "data": {
            "text/plain": [
              "array([[1, 8, 9, 7, 6],\n",
              "       [4, 5, 6, 3, 2]])"
            ]
          },
          "metadata": {},
          "execution_count": 43
        }
      ],
      "source": [
        "matrix[0:2,:]"
      ]
    },
    {
      "cell_type": "code",
      "execution_count": null,
      "id": "a511bbee-7eb2-4634-abc4-a03fee4ee6ef",
      "metadata": {
        "colab": {
          "base_uri": "https://localhost:8080/"
        },
        "id": "a511bbee-7eb2-4634-abc4-a03fee4ee6ef",
        "outputId": "c2ca8c5c-3b59-45bf-d100-d489ce09a53e"
      },
      "outputs": [
        {
          "output_type": "execute_result",
          "data": {
            "text/plain": [
              "array([[1, 8],\n",
              "       [4, 5]])"
            ]
          },
          "metadata": {},
          "execution_count": 44
        }
      ],
      "source": [
        "matrix[0:2,0:2]"
      ]
    },
    {
      "cell_type": "code",
      "execution_count": null,
      "id": "7d59dc34-1c74-47e5-b370-29cb330b3c99",
      "metadata": {
        "colab": {
          "base_uri": "https://localhost:8080/"
        },
        "id": "7d59dc34-1c74-47e5-b370-29cb330b3c99",
        "outputId": "1870520b-724f-4221-8262-7cadca6f4bf4"
      },
      "outputs": [
        {
          "output_type": "execute_result",
          "data": {
            "text/plain": [
              "array([[3, 2],\n",
              "       [4, 8]])"
            ]
          },
          "metadata": {},
          "execution_count": 45
        }
      ],
      "source": [
        "matrix[1:,3:]"
      ]
    },
    {
      "cell_type": "code",
      "execution_count": null,
      "id": "9151376f-8897-43e9-b2d4-2282735a5f6b",
      "metadata": {
        "colab": {
          "base_uri": "https://localhost:8080/"
        },
        "id": "9151376f-8897-43e9-b2d4-2282735a5f6b",
        "outputId": "5fa54c0d-09fd-4fe0-ca34-03a72449b7f6"
      },
      "outputs": [
        {
          "output_type": "execute_result",
          "data": {
            "text/plain": [
              "array([[6, 3],\n",
              "       [2, 4]])"
            ]
          },
          "metadata": {},
          "execution_count": 46
        }
      ],
      "source": [
        "matrix[1:,2:4]"
      ]
    },
    {
      "cell_type": "code",
      "execution_count": null,
      "id": "7e77421e-4bfb-4dae-ab8b-a9d5eb02a374",
      "metadata": {
        "colab": {
          "base_uri": "https://localhost:8080/"
        },
        "id": "7e77421e-4bfb-4dae-ab8b-a9d5eb02a374",
        "outputId": "6d56c233-a705-4547-e9a1-154e43ec4248"
      },
      "outputs": [
        {
          "output_type": "execute_result",
          "data": {
            "text/plain": [
              "array([[5, 6, 3],\n",
              "       [0, 2, 4]])"
            ]
          },
          "metadata": {},
          "execution_count": 47
        }
      ],
      "source": [
        "matrix[1:,1:4]"
      ]
    },
    {
      "cell_type": "markdown",
      "id": "e30f7e9b-c8c4-401b-8389-84507d903b70",
      "metadata": {
        "id": "e30f7e9b-c8c4-401b-8389-84507d903b70"
      },
      "source": [
        "### **Matrix Arithmetic**"
      ]
    },
    {
      "cell_type": "code",
      "execution_count": null,
      "id": "60e2a1f4-d366-487c-9ff4-5eb07e761370",
      "metadata": {
        "colab": {
          "base_uri": "https://localhost:8080/"
        },
        "id": "60e2a1f4-d366-487c-9ff4-5eb07e761370",
        "outputId": "0e74ae47-4086-458a-9601-e274b6913552"
      },
      "outputs": [
        {
          "output_type": "stream",
          "name": "stdout",
          "text": [
            "data = \n",
            "[[1 2]\n",
            " [3 4]]\n",
            "ones = \n",
            "[[1 1]\n",
            " [1 1]]\n"
          ]
        }
      ],
      "source": [
        "mylist1 = [1,2]\n",
        "mylist2 = [3,4]\n",
        "data = np.array([mylist1,mylist2])\n",
        "ones = np.ones((2,2),dtype = int)\n",
        "print(\"data = \")\n",
        "print(data)\n",
        "print(\"ones = \")\n",
        "print(ones)"
      ]
    },
    {
      "cell_type": "code",
      "execution_count": null,
      "id": "7385e9ac-53a1-4001-8dc3-f999e060473e",
      "metadata": {
        "colab": {
          "base_uri": "https://localhost:8080/"
        },
        "id": "7385e9ac-53a1-4001-8dc3-f999e060473e",
        "outputId": "208f8ffe-be58-4715-ca48-9ebfe10fd7ed"
      },
      "outputs": [
        {
          "output_type": "execute_result",
          "data": {
            "text/plain": [
              "array([[2, 3],\n",
              "       [4, 5]])"
            ]
          },
          "metadata": {},
          "execution_count": 49
        }
      ],
      "source": [
        "data + ones"
      ]
    },
    {
      "cell_type": "code",
      "execution_count": null,
      "id": "853fa82d-b95c-493d-8cc6-cdfbe8f2bd58",
      "metadata": {
        "colab": {
          "base_uri": "https://localhost:8080/"
        },
        "id": "853fa82d-b95c-493d-8cc6-cdfbe8f2bd58",
        "outputId": "eedd3ab4-5ce2-4d46-f4af-3d6a10b6ab5e"
      },
      "outputs": [
        {
          "output_type": "execute_result",
          "data": {
            "text/plain": [
              "array([[0, 1],\n",
              "       [2, 3]])"
            ]
          },
          "metadata": {},
          "execution_count": 50
        }
      ],
      "source": [
        "data - ones"
      ]
    },
    {
      "cell_type": "code",
      "execution_count": null,
      "id": "e28b4762-7792-4d77-93a7-90e958af94e9",
      "metadata": {
        "colab": {
          "base_uri": "https://localhost:8080/"
        },
        "id": "e28b4762-7792-4d77-93a7-90e958af94e9",
        "outputId": "a2289f6c-1ec0-4182-dc53-18bfe6711b77"
      },
      "outputs": [
        {
          "output_type": "execute_result",
          "data": {
            "text/plain": [
              "array([[1, 2],\n",
              "       [3, 4]])"
            ]
          },
          "metadata": {},
          "execution_count": 51
        }
      ],
      "source": [
        "data * ones"
      ]
    },
    {
      "cell_type": "code",
      "execution_count": null,
      "id": "2f10d8bf-a11e-492e-9450-76b6852dbf8b",
      "metadata": {
        "colab": {
          "base_uri": "https://localhost:8080/"
        },
        "id": "2f10d8bf-a11e-492e-9450-76b6852dbf8b",
        "outputId": "c4525f91-d5b8-4048-87df-ec53da65a3d9"
      },
      "outputs": [
        {
          "output_type": "execute_result",
          "data": {
            "text/plain": [
              "array([[ 4,  8],\n",
              "       [12, 16]])"
            ]
          },
          "metadata": {},
          "execution_count": 52
        }
      ],
      "source": [
        "data * 4"
      ]
    },
    {
      "cell_type": "code",
      "execution_count": null,
      "id": "f01e419d-fe2e-4849-8d61-efb754a188a4",
      "metadata": {
        "colab": {
          "base_uri": "https://localhost:8080/"
        },
        "id": "f01e419d-fe2e-4849-8d61-efb754a188a4",
        "outputId": "ddb5b45e-d8be-4711-e031-8010e2311dab"
      },
      "outputs": [
        {
          "output_type": "execute_result",
          "data": {
            "text/plain": [
              "array([[0.5, 1. ],\n",
              "       [1.5, 2. ]])"
            ]
          },
          "metadata": {},
          "execution_count": 53
        }
      ],
      "source": [
        "data / 2"
      ]
    },
    {
      "cell_type": "code",
      "execution_count": null,
      "id": "0fcf90d6-0deb-4147-a870-05dafe0e914b",
      "metadata": {
        "colab": {
          "base_uri": "https://localhost:8080/"
        },
        "id": "0fcf90d6-0deb-4147-a870-05dafe0e914b",
        "outputId": "f11bb58b-897c-4289-fe94-7dc55b1a64ba"
      },
      "outputs": [
        {
          "output_type": "execute_result",
          "data": {
            "text/plain": [
              "array([[0, 1],\n",
              "       [1, 2]])"
            ]
          },
          "metadata": {},
          "execution_count": 54
        }
      ],
      "source": [
        "data // 2"
      ]
    },
    {
      "cell_type": "code",
      "execution_count": null,
      "id": "a2128c55-6683-48ff-89a5-61b18c0c9865",
      "metadata": {
        "colab": {
          "base_uri": "https://localhost:8080/"
        },
        "id": "a2128c55-6683-48ff-89a5-61b18c0c9865",
        "outputId": "2931acb8-ae07-4c64-d3c5-5109bf9a55e1"
      },
      "outputs": [
        {
          "output_type": "execute_result",
          "data": {
            "text/plain": [
              "array([[1, 0],\n",
              "       [1, 0]])"
            ]
          },
          "metadata": {},
          "execution_count": 55
        }
      ],
      "source": [
        "data % 2"
      ]
    },
    {
      "cell_type": "code",
      "execution_count": null,
      "id": "a195945e-fb0d-4b92-b55f-b51b684aea35",
      "metadata": {
        "colab": {
          "base_uri": "https://localhost:8080/"
        },
        "id": "a195945e-fb0d-4b92-b55f-b51b684aea35",
        "outputId": "7f230b8f-a585-498e-f55d-ffa517466e09"
      },
      "outputs": [
        {
          "output_type": "execute_result",
          "data": {
            "text/plain": [
              "array([[2, 4],\n",
              "       [6, 8]])"
            ]
          },
          "metadata": {},
          "execution_count": 56
        }
      ],
      "source": [
        "data + data"
      ]
    },
    {
      "cell_type": "code",
      "execution_count": null,
      "id": "79d82c97-f347-40eb-84c6-401175ac9f3f",
      "metadata": {
        "colab": {
          "base_uri": "https://localhost:8080/"
        },
        "id": "79d82c97-f347-40eb-84c6-401175ac9f3f",
        "outputId": "1f677eee-c943-4b56-f14a-ca58dc16c133"
      },
      "outputs": [
        {
          "output_type": "execute_result",
          "data": {
            "text/plain": [
              "array([[ 1,  4],\n",
              "       [ 9, 16]])"
            ]
          },
          "metadata": {},
          "execution_count": 57
        }
      ],
      "source": [
        "data * data # position-wise operation"
      ]
    },
    {
      "cell_type": "code",
      "execution_count": null,
      "id": "47823467-2184-4890-9b13-fda2dbb720f6",
      "metadata": {
        "colab": {
          "base_uri": "https://localhost:8080/"
        },
        "id": "47823467-2184-4890-9b13-fda2dbb720f6",
        "outputId": "a97c8c2d-032d-4b51-92a0-e2c72fc99a09"
      },
      "outputs": [
        {
          "output_type": "execute_result",
          "data": {
            "text/plain": [
              "array([[ 7, 10],\n",
              "       [15, 22]])"
            ]
          },
          "metadata": {},
          "execution_count": 58
        }
      ],
      "source": [
        "data.dot(data) # How??"
      ]
    },
    {
      "cell_type": "markdown",
      "id": "b61d245e-42a7-48f7-b200-74d571f6aede",
      "metadata": {
        "id": "b61d245e-42a7-48f7-b200-74d571f6aede"
      },
      "source": [
        "### **Matrix Aggregation**"
      ]
    },
    {
      "cell_type": "code",
      "execution_count": null,
      "id": "d56a075c-dcc5-43ae-b0b2-62b715e894cd",
      "metadata": {
        "colab": {
          "base_uri": "https://localhost:8080/"
        },
        "id": "d56a075c-dcc5-43ae-b0b2-62b715e894cd",
        "outputId": "5639cadd-8ab9-4306-c898-6c33cfa62ce0"
      },
      "outputs": [
        {
          "output_type": "stream",
          "name": "stdout",
          "text": [
            "[[1 2 3]\n",
            " [4 5 6]\n",
            " [7 8 9]]\n"
          ]
        }
      ],
      "source": [
        "matrix = np.array([[1,2,3],[4,5,6],[7,8,9]])\n",
        "print(matrix)"
      ]
    },
    {
      "cell_type": "code",
      "execution_count": null,
      "id": "e5313594-e59e-4976-9316-2a001f9a36e8",
      "metadata": {
        "colab": {
          "base_uri": "https://localhost:8080/"
        },
        "id": "e5313594-e59e-4976-9316-2a001f9a36e8",
        "outputId": "fb7053b0-bd4b-4edf-bf64-23f655e4e64f"
      },
      "outputs": [
        {
          "output_type": "execute_result",
          "data": {
            "text/plain": [
              "np.int64(1)"
            ]
          },
          "metadata": {},
          "execution_count": 60
        }
      ],
      "source": [
        "matrix.min() # minimum element"
      ]
    },
    {
      "cell_type": "code",
      "execution_count": null,
      "id": "ed017b34-5705-4815-8739-cb0691869b6f",
      "metadata": {
        "colab": {
          "base_uri": "https://localhost:8080/"
        },
        "id": "ed017b34-5705-4815-8739-cb0691869b6f",
        "outputId": "dd641ad5-0b6f-4107-9e47-e92387e27cdb"
      },
      "outputs": [
        {
          "output_type": "execute_result",
          "data": {
            "text/plain": [
              "np.int64(9)"
            ]
          },
          "metadata": {},
          "execution_count": 61
        }
      ],
      "source": [
        "matrix.max() # maximum element"
      ]
    },
    {
      "cell_type": "code",
      "execution_count": null,
      "id": "9d8d81fa-8cdb-42dd-ba01-c10082aa3b3b",
      "metadata": {
        "colab": {
          "base_uri": "https://localhost:8080/"
        },
        "id": "9d8d81fa-8cdb-42dd-ba01-c10082aa3b3b",
        "outputId": "f2e04e12-96e7-4933-a7ce-33b33a94d6e3"
      },
      "outputs": [
        {
          "output_type": "execute_result",
          "data": {
            "text/plain": [
              "np.int64(45)"
            ]
          },
          "metadata": {},
          "execution_count": 62
        }
      ],
      "source": [
        "matrix.sum() # sum of all elements"
      ]
    },
    {
      "cell_type": "code",
      "execution_count": null,
      "id": "9bb78a75-a990-4b7d-84c8-6e4b2fc64ba8",
      "metadata": {
        "colab": {
          "base_uri": "https://localhost:8080/"
        },
        "id": "9bb78a75-a990-4b7d-84c8-6e4b2fc64ba8",
        "outputId": "1c533cec-d28e-4e06-d5c4-5c4a934ec188"
      },
      "outputs": [
        {
          "output_type": "execute_result",
          "data": {
            "text/plain": [
              "np.float64(5.0)"
            ]
          },
          "metadata": {},
          "execution_count": 63
        }
      ],
      "source": [
        "matrix.mean() # Average of all the elements"
      ]
    },
    {
      "cell_type": "code",
      "execution_count": null,
      "id": "e893b198-7ba5-4bb4-8be7-f32731f68e3e",
      "metadata": {
        "colab": {
          "base_uri": "https://localhost:8080/"
        },
        "id": "e893b198-7ba5-4bb4-8be7-f32731f68e3e",
        "outputId": "c321caf7-89b7-4e50-c69f-55ee36d736b0"
      },
      "outputs": [
        {
          "output_type": "execute_result",
          "data": {
            "text/plain": [
              "array([7, 8, 9])"
            ]
          },
          "metadata": {},
          "execution_count": 64
        }
      ],
      "source": [
        "matrix.max(axis = 0)"
      ]
    },
    {
      "cell_type": "code",
      "execution_count": null,
      "id": "dbfea0d8-caa9-40b3-b5eb-6e04b50f3014",
      "metadata": {
        "colab": {
          "base_uri": "https://localhost:8080/"
        },
        "id": "dbfea0d8-caa9-40b3-b5eb-6e04b50f3014",
        "outputId": "5b8c9f56-5a48-4b94-a618-46ba57be4bac"
      },
      "outputs": [
        {
          "output_type": "execute_result",
          "data": {
            "text/plain": [
              "array([1, 4, 7])"
            ]
          },
          "metadata": {},
          "execution_count": 65
        }
      ],
      "source": [
        "matrix.min(axis = 1)"
      ]
    },
    {
      "cell_type": "code",
      "execution_count": null,
      "id": "6f8b00a1-629f-48e0-bfad-4c9ea93bed6f",
      "metadata": {
        "colab": {
          "base_uri": "https://localhost:8080/"
        },
        "id": "6f8b00a1-629f-48e0-bfad-4c9ea93bed6f",
        "outputId": "1b2a3796-4831-4343-dd9b-832122a990f8"
      },
      "outputs": [
        {
          "output_type": "execute_result",
          "data": {
            "text/plain": [
              "array([3, 6, 9])"
            ]
          },
          "metadata": {},
          "execution_count": 66
        }
      ],
      "source": [
        "matrix.max(axis = 1)"
      ]
    },
    {
      "cell_type": "code",
      "execution_count": null,
      "id": "861a9475-79d2-4ff8-b38b-683408a22a7e",
      "metadata": {
        "colab": {
          "base_uri": "https://localhost:8080/"
        },
        "id": "861a9475-79d2-4ff8-b38b-683408a22a7e",
        "outputId": "a7bf0922-56b5-4440-9bc7-f8684c4e5644"
      },
      "outputs": [
        {
          "output_type": "execute_result",
          "data": {
            "text/plain": [
              "np.int64(362880)"
            ]
          },
          "metadata": {},
          "execution_count": 67
        }
      ],
      "source": [
        "matrix.prod()"
      ]
    },
    {
      "cell_type": "markdown",
      "id": "57cf44ca-e8c3-4b80-b6c9-ccecd68da160",
      "metadata": {
        "id": "57cf44ca-e8c3-4b80-b6c9-ccecd68da160"
      },
      "source": [
        "## NumPy Functions Cheat Sheet\n",
        "\n",
        "| **Category**                | **Function**             | **Description**                                                                 |\n",
        "|-----------------------------|--------------------------|---------------------------------------------------------------------------------|\n",
        "| **Array Creation**          | `array()`               | Create an array.                                                               |\n",
        "|                             | `zeros()`               | Create an array filled with zeros.                                             |\n",
        "|                             | `ones()`                | Create an array filled with ones.                                              |\n",
        "|                             | `empty()`               | Create an uninitialized array.                                                 |\n",
        "|                             | `full()`                | Create an array filled with a specific value.                                   |\n",
        "|                             | `arange()`              | Create an array with evenly spaced values within a given range.                 |\n",
        "|                             | `linspace()`            | Create an array with evenly spaced values between two points.                   |\n",
        "|                             | `logspace()`            | Create an array with logarithmically spaced values.                             |\n",
        "|                             | `eye()`                 | Create a 2D identity matrix.                                                   |\n",
        "|                             | `identity()`            | Create an identity matrix.                                                     |\n",
        "|                             | `meshgrid()`            | Generate coordinate matrices from coordinate vectors.                           |\n",
        "|                             | `empty_like()`          | Create an uninitialized array with the same shape and type as another array.    |\n",
        "|                             | `zeros_like()`          | Create an array of zeros with the same shape and type as another array.         |\n",
        "|                             | `ones_like()`           | Create an array of ones with the same shape and type as another array.          |\n",
        "|                             | `full_like()`           | Create a filled array with the same shape and type as another array.            |\n",
        "| **Array Information**       | `size`                  | Total number of elements in the array.                                         |\n",
        "|                             | `shape`                 | Tuple of array dimensions.                                                     |\n",
        "|                             | `ndim`                  | Number of dimensions in the array.                                             |\n",
        "|                             | `dtype`                 | Data type of the array elements.                                               |\n",
        "|                             | `itemsize`              | Size of each array element in bytes.                                           |\n",
        "| **Array Inspection**        | `nonzero()`             | Returns indices of non-zero elements.                                          |\n",
        "|                             | `where()`               | Returns elements chosen based on conditions.                                   |\n",
        "|                             | `argwhere()`            | Returns indices of elements that satisfy a condition.                          |\n",
        "|                             | `extract()`             | Returns elements based on a condition.                                         |\n",
        "| **Array Manipulation**      | `reshape()`             | Change the shape of an array.                                                  |\n",
        "|                             | `transpose()`           | Transpose the dimensions of an array.                                          |\n",
        "|                             | `swapaxes()`            | Swap two axes of an array.                                                     |\n",
        "|                             | `ravel()`               | Flatten an array.                                                              |\n",
        "|                             | `flatten()`             | Return a flattened array copy.                                                 |\n",
        "|                             | `expand_dims()`         | Expand dimensions of an array.                                                 |\n",
        "|                             | `squeeze()`             | Remove single-dimensional entries from the shape.                               |\n",
        "|                             | `concatenate()`         | Join arrays along an existing axis.                                            |\n",
        "|                             | `hstack()`              | Stack arrays horizontally.                                                     |\n",
        "|                             | `vstack()`              | Stack arrays vertically.                                                       |\n",
        "|                             | `dstack()`              | Stack arrays along the third dimension.                                        |\n",
        "|                             | `split()`               | Split an array into multiple sub-arrays.                                       |\n",
        "|                             | `hsplit()`              | Split arrays horizontally.                                                     |\n",
        "|                             | `vsplit()`              | Split arrays vertically.                                                       |\n",
        "|                             | `dsplit()`              | Split arrays along the third dimension.                                        |\n",
        "|                             | `tile()`                | Constructs a new array by repeating an array a specified number of times.       |\n",
        "|                             | `repeat()`              | Repeats elements of an array.                                                  |\n",
        "|                             | `flip()`                | Reverses the order of elements along an axis.                                   |\n",
        "|                             | `roll()`                | Rolls array elements along a specified axis.                                    |\n",
        "| **Mathematical Functions**  | `add()`                 | Add arrays element-wise.                                                       |\n",
        "|                             | `subtract()`            | Subtract arrays element-wise.                                                  |\n",
        "|                             | `multiply()`            | Multiply arrays element-wise.                                                  |\n",
        "|                             | `divide()`              | Divide arrays element-wise.                                                    |\n",
        "|                             | `mod()`                 | Compute the element-wise modulus.                                              |\n",
        "|                             | `power()`               | Raise elements to powers element-wise.                                         |\n",
        "|                             | `around()`              | Round elements to the given number of decimals.                                |\n",
        "|                             | `ceil()`                | Return the ceiling of each element.                                            |\n",
        "|                             | `floor()`               | Return the floor of each element.                                              |\n",
        "|                             | `trunc()`               | Truncate elements to the nearest integer.                                      |\n",
        "|                             | `exp()`                 | Compute the exponential of each element.                                       |\n",
        "|                             | `log()`                 | Compute the natural logarithm of each element.                                  |\n",
        "|                             | `log10()`               | Compute the base-10 logarithm of each element.                                  |\n",
        "|                             | `log2()`                | Compute the base-2 logarithm of each element.                                   |\n",
        "|                             | `sin()`                 | Compute the sine of each element.                                              |\n",
        "|                             | `cos()`                 | Compute the cosine of each element.                                            |\n",
        "|                             | `tan()`                 | Compute the tangent of each element.                                           |\n",
        "|                             | `sqrt()`                | Compute the square root of each element.                                       |\n",
        "|                             | `cbrt()`                | Compute the cube root of each element.                                         |\n",
        "|                             | `square()`              | Compute the square of each element.                                            |\n",
        "|                             | `clip()`                | Limits the values in an array within a specified range.                         |\n",
        "|                             | `gradient()`            | Returns the gradient of an array.                                              |\n",
        "|                             | `diff()`                | Calculates the n-th discrete difference along an axis.                         |\n",
        "|                             | `sign()`                | Returns the sign of each element.                                              |\n",
        "| **Statistical Functions**   | `sum()`                 | Compute the sum of array elements.                                             |\n",
        "|                             | `prod()`                | Compute the product of array elements.                                         |\n",
        "|                             | `mean()`                | Compute the mean of array elements.                                            |\n",
        "|                             | `std()`                 | Compute the standard deviation of array elements.                               |\n",
        "|                             | `var()`                 | Compute the variance of array elements.                                        |\n",
        "|                             | `median()`              | Compute the median of array elements.                                          |\n",
        "|                             | `argmin()`              | Return the indices of the minimum value.                                       |\n",
        "|                             | `argmax()`              | Return the indices of the maximum value.                                       |\n",
        "|                             | `cumsum()`              | Compute the cumulative sum of array elements.                                  |\n",
        "|                             | `cumprod()`             | Compute the cumulative product of array elements.                               |\n",
        "|                             | `corrcoef()`            | Returns the Pearson correlation coefficient matrix.                             |\n",
        "|                             | `cov()`                 | Calculates the covariance matrix.                                              |\n",
        "|                             | `ptp()`                 | Returns the range (max - min) of values along an axis.                          |\n",
        "| **Logical Functions**       | `all()`                 | Test whether all elements evaluate to `True`.                                   |\n",
        "|                             | `any()`                 | Test whether any element evaluates to `True`.                                   |\n",
        "|                             | `logical_and()`         | Compute the logical AND operation element-wise.                                 |\n",
        "|                             | `logical_or()`          | Compute the logical OR operation element-wise.                                  |\n",
        "|                             | `logical_not()`         | Compute the logical NOT operation element-wise.                                 |\n",
        "|                             | `greater()`             | Return `True` for elements greater than the second input.                       |\n",
        "|                             | `less()`                | Return `True` for elements less than the second input.                          |\n",
        "| **Random Functions**        | `random.rand()`         | Generate random numbers from a uniform distribution.                            |\n",
        "|                             | `random.randn()`        | Generate random numbers from a normal distribution.                             |\n",
        "|                             | `random.randint()`      | Generate random integers.                                                      |\n",
        "|                             | `random.choice()`       | Generate a random sample from a 1D array.                                      |\n",
        "|                             | `random.seed()`         | Seed the random number generator.                                              |\n",
        "|                             | `random.shuffle()`      | Shuffle an array in place.                                                     |\n",
        "|                             | `random.permutation()`  | Randomly permute a sequence.                                                   |\n",
        "| **Linear Algebra**          | `dot()`                 | Compute the dot product of two arrays.                                         |\n",
        "|                             | `matmul()`              | Perform matrix multiplication.                                                 |\n",
        "|                             | `inv()`                 | Compute the inverse of a matrix.                                               |\n",
        "|                             | `det()`                 | Compute the determinant of a matrix.                                           |\n",
        "|                             | `eig()`                 | Compute the eigenvalues and eigenvectors of a matrix.                           |\n",
        "|                             | `trace()`               | Return the sum of the diagonal elements of a matrix.                            |\n",
        "|                             | `matrix_rank()`         | Calculate the rank of a matrix.                                                |\n",
        "| **Fourier Transform**       | `fft.fft()`             | Compute the one-dimensional FFT.                                               |\n",
        "|                             | `fft.ifft()`            | Compute the one-dimensional inverse FFT.                                        |\n",
        "|                             | `fft.rfft()`            | Compute the one-dimensional FFT for real input.                                 |\n",
        "|                             | `fft.irfft()`           | Compute the inverse FFT for real input.                                        |\n",
        "|                             | `fft.fftshift()`        | Shift the zero-frequency component to the center of the spectrum.               |\n",
        "| **I/O Functions**           | `loadtxt()`             | Load data from a text file.                                                    |\n",
        "|                             | `savetxt()`             | Save data to a text file.                                                      |\n",
        "|                             | `save()`                | Save arrays to a binary `.npy` file.                                           |\n",
        "|                             | `load()`                | Load arrays from a binary `.npy` file.                                         |\n",
        "\n",
        "---\n",
        "\n"
      ]
    },
    {
      "cell_type": "code",
      "execution_count": null,
      "id": "e5561fb1-7f52-4216-847b-df69fb9955b2",
      "metadata": {
        "colab": {
          "base_uri": "https://localhost:8080/"
        },
        "id": "e5561fb1-7f52-4216-847b-df69fb9955b2",
        "outputId": "3aa93eb1-9de5-4aa9-aae5-db531847fbf7"
      },
      "outputs": [
        {
          "output_type": "stream",
          "name": "stdout",
          "text": [
            "[1 2 3 4 5 6 7 8 9]\n"
          ]
        }
      ],
      "source": [
        "# Important\n",
        "# copy() function and broadcasting\n",
        "arr = np.array([1,2,3,4,5,6,7,8,9])\n",
        "print(arr)"
      ]
    },
    {
      "cell_type": "code",
      "execution_count": null,
      "id": "61bcb393-0f81-4221-ab3f-dc9ee25aceb4",
      "metadata": {
        "id": "61bcb393-0f81-4221-ab3f-dc9ee25aceb4"
      },
      "outputs": [],
      "source": [
        "arr[3:] = 100"
      ]
    },
    {
      "cell_type": "code",
      "execution_count": null,
      "id": "4382e4b3-85fb-42c0-a1f3-0282be9cfbab",
      "metadata": {
        "colab": {
          "base_uri": "https://localhost:8080/"
        },
        "id": "4382e4b3-85fb-42c0-a1f3-0282be9cfbab",
        "outputId": "a5ad7536-aa81-4cd0-b0c7-2aa9f56843cf"
      },
      "outputs": [
        {
          "output_type": "stream",
          "name": "stdout",
          "text": [
            "[  1   2   3 100 100 100 100 100 100]\n"
          ]
        }
      ],
      "source": [
        "print(arr)"
      ]
    },
    {
      "cell_type": "code",
      "execution_count": null,
      "id": "6dd31f4b-318e-4fa1-8ba7-04737d6726a5",
      "metadata": {
        "colab": {
          "base_uri": "https://localhost:8080/"
        },
        "id": "6dd31f4b-318e-4fa1-8ba7-04737d6726a5",
        "outputId": "2e38176b-d344-4b90-f9fb-692a294ccd8d"
      },
      "outputs": [
        {
          "output_type": "stream",
          "name": "stdout",
          "text": [
            "[  1   2   3 100 100 100 100 100 100]\n",
            "[  1   2   3 100 100 100 100 100 100]\n"
          ]
        }
      ],
      "source": [
        "arr1 = arr\n",
        "print(arr)\n",
        "print(arr1)"
      ]
    },
    {
      "cell_type": "code",
      "execution_count": null,
      "id": "b0c92db8-5b2a-4532-9f0c-a08f6b4e364b",
      "metadata": {
        "colab": {
          "base_uri": "https://localhost:8080/"
        },
        "id": "b0c92db8-5b2a-4532-9f0c-a08f6b4e364b",
        "outputId": "d834abd6-82c5-4377-8cd7-7a4732613780"
      },
      "outputs": [
        {
          "output_type": "stream",
          "name": "stdout",
          "text": [
            "[  1   2   3 500 500 500 500 500 500]\n"
          ]
        }
      ],
      "source": [
        "arr1[3:] = 500\n",
        "print(arr1)"
      ]
    },
    {
      "cell_type": "code",
      "execution_count": null,
      "id": "82e65ecd-5f51-4f20-9a82-997dad7b6107",
      "metadata": {
        "colab": {
          "base_uri": "https://localhost:8080/"
        },
        "id": "82e65ecd-5f51-4f20-9a82-997dad7b6107",
        "outputId": "8439e32f-3691-45d4-d153-0dfbb117beb4"
      },
      "outputs": [
        {
          "output_type": "stream",
          "name": "stdout",
          "text": [
            "[  1   2   3 500 500 500 500 500 500]\n",
            "[  1   2   3 500 500 500 500 500 500]\n"
          ]
        }
      ],
      "source": [
        "print(arr)\n",
        "print(arr1)"
      ]
    },
    {
      "cell_type": "markdown",
      "id": "03378377-f9a0-4ac0-8abd-3737eff89566",
      "metadata": {
        "id": "03378377-f9a0-4ac0-8abd-3737eff89566"
      },
      "source": [
        "#### **Why Use copy()?**\n",
        "Without explicitly copying an array, assigning one array to another (e.g., arr2 = arr1) creates a reference. Any changes made to the new array (arr2) will also affect the original (arr1), as they both point to the same memory location. Using copy() avoids this issue"
      ]
    },
    {
      "cell_type": "code",
      "execution_count": null,
      "id": "699be5fe-a492-479d-8ca5-c2e87f55949b",
      "metadata": {
        "id": "699be5fe-a492-479d-8ca5-c2e87f55949b"
      },
      "outputs": [],
      "source": [
        "arr1= arr.copy()"
      ]
    },
    {
      "cell_type": "code",
      "execution_count": null,
      "id": "da621359-c828-48f3-99ab-700f82b30f8b",
      "metadata": {
        "colab": {
          "base_uri": "https://localhost:8080/"
        },
        "id": "da621359-c828-48f3-99ab-700f82b30f8b",
        "outputId": "b2ae9b78-e338-4be3-9a90-2b6dfb7210c9"
      },
      "outputs": [
        {
          "output_type": "stream",
          "name": "stdout",
          "text": [
            "[  1   2   3 500 500 500 500 500 500]\n",
            "[   1    2    3 1000 1000 1000 1000 1000 1000]\n"
          ]
        }
      ],
      "source": [
        "arr1[3:]=1000\n",
        "print(arr)\n",
        "print(arr1)"
      ]
    },
    {
      "cell_type": "code",
      "execution_count": null,
      "id": "23e6858e-e485-44c8-9c15-d0e9a14aeac0",
      "metadata": {
        "colab": {
          "base_uri": "https://localhost:8080/"
        },
        "id": "23e6858e-e485-44c8-9c15-d0e9a14aeac0",
        "outputId": "ffcdeb2c-1f42-437e-e725-31a3d6be2548"
      },
      "outputs": [
        {
          "output_type": "execute_result",
          "data": {
            "text/plain": [
              "array([ True, False, False, False, False, False, False, False, False])"
            ]
          },
          "metadata": {},
          "execution_count": 76
        }
      ],
      "source": [
        "# Some conditions very useful in Exploratory Data Analysis\n",
        "arr < 2"
      ]
    },
    {
      "cell_type": "code",
      "execution_count": null,
      "id": "cb8b134e-7292-43be-b4de-0189ab4b5523",
      "metadata": {
        "colab": {
          "base_uri": "https://localhost:8080/"
        },
        "id": "cb8b134e-7292-43be-b4de-0189ab4b5523",
        "outputId": "bb5e19a3-cabe-4856-99ba-db43657ab670"
      },
      "outputs": [
        {
          "output_type": "execute_result",
          "data": {
            "text/plain": [
              "array([False, False, False,  True,  True,  True,  True,  True,  True])"
            ]
          },
          "metadata": {},
          "execution_count": 77
        }
      ],
      "source": [
        "arr > 450"
      ]
    },
    {
      "cell_type": "code",
      "execution_count": null,
      "id": "a6ad661f-34b3-4741-ae8d-de726d47fe32",
      "metadata": {
        "colab": {
          "base_uri": "https://localhost:8080/"
        },
        "id": "a6ad661f-34b3-4741-ae8d-de726d47fe32",
        "outputId": "217faafa-2d9b-4056-b8b8-15ba714e7b4e"
      },
      "outputs": [
        {
          "output_type": "execute_result",
          "data": {
            "text/plain": [
              "array([   8,   16,   24, 4000, 4000, 4000, 4000, 4000, 4000])"
            ]
          },
          "metadata": {},
          "execution_count": 78
        }
      ],
      "source": [
        "arr*8"
      ]
    },
    {
      "cell_type": "code",
      "execution_count": null,
      "id": "153e3d34-2c40-46a2-976a-50cd0551016d",
      "metadata": {
        "colab": {
          "base_uri": "https://localhost:8080/"
        },
        "id": "153e3d34-2c40-46a2-976a-50cd0551016d",
        "outputId": "e7ad98f6-72f1-4a18-8cc1-daa67aa00c2e"
      },
      "outputs": [
        {
          "output_type": "execute_result",
          "data": {
            "text/plain": [
              "array([1, 0, 1, 0, 0, 0, 0, 0, 0])"
            ]
          },
          "metadata": {},
          "execution_count": 79
        }
      ],
      "source": [
        "arr%2"
      ]
    },
    {
      "cell_type": "code",
      "execution_count": null,
      "id": "aa4b14a9-a1ba-44d9-bcfb-aabe89639535",
      "metadata": {
        "colab": {
          "base_uri": "https://localhost:8080/"
        },
        "id": "aa4b14a9-a1ba-44d9-bcfb-aabe89639535",
        "outputId": "183c6ce8-0d3d-4112-f37f-7e0c91ab3c16"
      },
      "outputs": [
        {
          "output_type": "execute_result",
          "data": {
            "text/plain": [
              "array([  0.5,   1. ,   1.5, 250. , 250. , 250. , 250. , 250. , 250. ])"
            ]
          },
          "metadata": {},
          "execution_count": 80
        }
      ],
      "source": [
        "arr/2"
      ]
    },
    {
      "cell_type": "code",
      "execution_count": null,
      "id": "6e71acdd-fe09-4aad-b3ac-a52db8f63148",
      "metadata": {
        "colab": {
          "base_uri": "https://localhost:8080/"
        },
        "id": "6e71acdd-fe09-4aad-b3ac-a52db8f63148",
        "outputId": "d941d737-171f-4d0c-f102-7e469d7b7518"
      },
      "outputs": [
        {
          "output_type": "execute_result",
          "data": {
            "text/plain": [
              "array([  1,   2,   3, 500, 500, 500, 500, 500, 500])"
            ]
          },
          "metadata": {},
          "execution_count": 81
        }
      ],
      "source": [
        "arr[arr<600]"
      ]
    },
    {
      "cell_type": "code",
      "execution_count": null,
      "id": "a0f8f31b-8211-45f1-aded-3609773238b4",
      "metadata": {
        "colab": {
          "base_uri": "https://localhost:8080/"
        },
        "id": "a0f8f31b-8211-45f1-aded-3609773238b4",
        "outputId": "5153a60c-f873-4222-9ed7-7d58f2966784"
      },
      "outputs": [
        {
          "output_type": "execute_result",
          "data": {
            "text/plain": [
              "array([1, 2, 3])"
            ]
          },
          "metadata": {},
          "execution_count": 82
        }
      ],
      "source": [
        "arr[arr<100]"
      ]
    },
    {
      "cell_type": "code",
      "execution_count": null,
      "id": "18cbd2af-af68-491a-b06b-d3c34a9deea2",
      "metadata": {
        "id": "18cbd2af-af68-491a-b06b-d3c34a9deea2"
      },
      "outputs": [],
      "source": [
        "arr = np.arange(1,10)"
      ]
    },
    {
      "cell_type": "code",
      "execution_count": null,
      "id": "6ccd4dbf-db8f-4cda-b34a-32b62b103d89",
      "metadata": {
        "colab": {
          "base_uri": "https://localhost:8080/"
        },
        "id": "6ccd4dbf-db8f-4cda-b34a-32b62b103d89",
        "outputId": "cd0bd495-3d5d-474c-abad-53ff6846734b"
      },
      "outputs": [
        {
          "output_type": "stream",
          "name": "stdout",
          "text": [
            "[1 2 3 4 5 6 7 8 9]\n"
          ]
        }
      ],
      "source": [
        "print(arr)"
      ]
    },
    {
      "cell_type": "code",
      "execution_count": null,
      "id": "be5dce1e-6278-4593-9008-b9c1438a1362",
      "metadata": {
        "id": "be5dce1e-6278-4593-9008-b9c1438a1362"
      },
      "outputs": [],
      "source": [
        "arr = np.arange(1,10,2)"
      ]
    },
    {
      "cell_type": "code",
      "execution_count": null,
      "id": "94e44747-f678-4cda-9910-59e88077a7be",
      "metadata": {
        "colab": {
          "base_uri": "https://localhost:8080/"
        },
        "id": "94e44747-f678-4cda-9910-59e88077a7be",
        "outputId": "07d9b8aa-d26c-4f34-bbed-e9d98ef58489"
      },
      "outputs": [
        {
          "output_type": "stream",
          "name": "stdout",
          "text": [
            "[1 3 5 7 9]\n"
          ]
        }
      ],
      "source": [
        "print(arr)"
      ]
    },
    {
      "cell_type": "code",
      "execution_count": null,
      "id": "360427fa-a338-4e58-a02e-d523a5ce720a",
      "metadata": {
        "colab": {
          "base_uri": "https://localhost:8080/"
        },
        "id": "360427fa-a338-4e58-a02e-d523a5ce720a",
        "outputId": "0d7405ca-1a3b-4ab7-e827-ef5eada4d531"
      },
      "outputs": [
        {
          "output_type": "execute_result",
          "data": {
            "text/plain": [
              "array([ 1.        ,  1.18367347,  1.36734694,  1.55102041,  1.73469388,\n",
              "        1.91836735,  2.10204082,  2.28571429,  2.46938776,  2.65306122,\n",
              "        2.83673469,  3.02040816,  3.20408163,  3.3877551 ,  3.57142857,\n",
              "        3.75510204,  3.93877551,  4.12244898,  4.30612245,  4.48979592,\n",
              "        4.67346939,  4.85714286,  5.04081633,  5.2244898 ,  5.40816327,\n",
              "        5.59183673,  5.7755102 ,  5.95918367,  6.14285714,  6.32653061,\n",
              "        6.51020408,  6.69387755,  6.87755102,  7.06122449,  7.24489796,\n",
              "        7.42857143,  7.6122449 ,  7.79591837,  7.97959184,  8.16326531,\n",
              "        8.34693878,  8.53061224,  8.71428571,  8.89795918,  9.08163265,\n",
              "        9.26530612,  9.44897959,  9.63265306,  9.81632653, 10.        ])"
            ]
          },
          "metadata": {},
          "execution_count": 87
        }
      ],
      "source": [
        "np.linspace(1,10,50) # equally spaced points between 1 and 10"
      ]
    },
    {
      "cell_type": "markdown",
      "id": "fc7956b5-0c9c-4903-801d-0e9668f7db1e",
      "metadata": {
        "id": "fc7956b5-0c9c-4903-801d-0e9668f7db1e"
      },
      "source": [
        "These 50 points are including 1 and 10."
      ]
    }
  ],
  "metadata": {
    "kernelspec": {
      "display_name": "Python 3 (ipykernel)",
      "language": "python",
      "name": "python3"
    },
    "language_info": {
      "codemirror_mode": {
        "name": "ipython",
        "version": 3
      },
      "file_extension": ".py",
      "mimetype": "text/x-python",
      "name": "python",
      "nbconvert_exporter": "python",
      "pygments_lexer": "ipython3",
      "version": "3.12.7"
    },
    "colab": {
      "provenance": [],
      "include_colab_link": true
    }
  },
  "nbformat": 4,
  "nbformat_minor": 5
}