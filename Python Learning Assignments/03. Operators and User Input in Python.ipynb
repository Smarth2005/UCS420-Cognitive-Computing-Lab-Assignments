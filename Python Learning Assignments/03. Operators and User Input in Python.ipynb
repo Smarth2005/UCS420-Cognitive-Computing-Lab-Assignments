{
 "cells": [
  {
   "cell_type": "markdown",
   "id": "d708d189-c78f-4ca6-967c-16c4a5d97ca8",
   "metadata": {
    "editable": true,
    "slideshow": {
     "slide_type": ""
    },
    "tags": []
   },
   "source": [
    "## 3. Input, Operate, Execute: Understanding Operators and User Input in Python"
   ]
  },
  {
   "cell_type": "markdown",
   "id": "e9a97189-d1ee-4088-90d8-42f8c492afcb",
   "metadata": {},
   "source": [
    "#### Variable Assignment and Basic Arithmetic Operations"
   ]
  },
  {
   "cell_type": "markdown",
   "id": "093365d5-1473-4c66-b680-0fdc3861909a",
   "metadata": {},
   "source": [
    "**Binary Operators**"
   ]
  },
  {
   "cell_type": "code",
   "execution_count": 1,
   "id": "52437398-72b3-45c3-86db-1f16638ee2e9",
   "metadata": {},
   "outputs": [
    {
     "data": {
      "text/plain": [
       "30"
      ]
     },
     "execution_count": 1,
     "metadata": {},
     "output_type": "execute_result"
    }
   ],
   "source": [
    "a = 24\n",
    "b = 6\n",
    "a + b # No Semicolon"
   ]
  },
  {
   "cell_type": "code",
   "execution_count": 2,
   "id": "d9fe20b6-78b2-4071-88f4-d9a437acb2de",
   "metadata": {},
   "outputs": [
    {
     "data": {
      "text/plain": [
       "18"
      ]
     },
     "execution_count": 2,
     "metadata": {},
     "output_type": "execute_result"
    }
   ],
   "source": [
    "a - b"
   ]
  },
  {
   "cell_type": "code",
   "execution_count": 3,
   "id": "4577ecc6-cc5a-4159-a861-c430fc5cedbe",
   "metadata": {},
   "outputs": [
    {
     "data": {
      "text/plain": [
       "144"
      ]
     },
     "execution_count": 3,
     "metadata": {},
     "output_type": "execute_result"
    }
   ],
   "source": [
    "a*b"
   ]
  },
  {
   "cell_type": "code",
   "execution_count": 4,
   "id": "2556e5ef-5081-43a1-aeb5-c7a2878a9f00",
   "metadata": {},
   "outputs": [
    {
     "data": {
      "text/plain": [
       "4.0"
      ]
     },
     "execution_count": 4,
     "metadata": {},
     "output_type": "execute_result"
    }
   ],
   "source": [
    "a/b # returns a floating value"
   ]
  },
  {
   "cell_type": "code",
   "execution_count": 5,
   "id": "9735938e-35ca-45e6-aaee-3835ff3f1854",
   "metadata": {},
   "outputs": [
    {
     "data": {
      "text/plain": [
       "4"
      ]
     },
     "execution_count": 5,
     "metadata": {},
     "output_type": "execute_result"
    }
   ],
   "source": [
    "a//b # returns an integer"
   ]
  },
  {
   "cell_type": "code",
   "execution_count": 6,
   "id": "dfed8a65-d49f-4cce-b44a-84a716451c04",
   "metadata": {},
   "outputs": [
    {
     "data": {
      "text/plain": [
       "0"
      ]
     },
     "execution_count": 6,
     "metadata": {},
     "output_type": "execute_result"
    }
   ],
   "source": [
    "a%2"
   ]
  },
  {
   "cell_type": "code",
   "execution_count": 7,
   "id": "24a3e349-93b9-4716-b26a-dc7aa6b053ec",
   "metadata": {},
   "outputs": [
    {
     "data": {
      "text/plain": [
       "0"
      ]
     },
     "execution_count": 7,
     "metadata": {},
     "output_type": "execute_result"
    }
   ],
   "source": [
    "a%b"
   ]
  },
  {
   "cell_type": "code",
   "execution_count": 8,
   "id": "3e4d5062-1bb0-4fd9-9346-7ea9faa8dd81",
   "metadata": {},
   "outputs": [
    {
     "data": {
      "text/plain": [
       "1024"
      ]
     },
     "execution_count": 8,
     "metadata": {},
     "output_type": "execute_result"
    }
   ],
   "source": [
    "p = 2\n",
    "q = 10\n",
    "p**q # exponentiation #p raised to power q\n"
   ]
  },
  {
   "cell_type": "markdown",
   "id": "82fee3fb-4b91-4e5c-b4b5-3bbc3e53ffe8",
   "metadata": {},
   "source": [
    "**Unary Operators**"
   ]
  },
  {
   "cell_type": "code",
   "execution_count": 50,
   "id": "721960e3-6718-478d-b9a3-2f296b35d992",
   "metadata": {},
   "outputs": [
    {
     "name": "stdout",
     "output_type": "stream",
     "text": [
      "r = -28\n",
      "s = -2\n",
      "-t = 43\n"
     ]
    }
   ],
   "source": [
    "r = -q\n",
    "s = -p\n",
    "t = -43\n",
    "print(\"r =\",r)\n",
    "print(\"s =\",s)\n",
    "print(\"-t =\",-t)"
   ]
  },
  {
   "cell_type": "markdown",
   "id": "9274ad47-7aba-45d4-9851-16c629fc76c2",
   "metadata": {},
   "source": [
    "#### User Input"
   ]
  },
  {
   "cell_type": "code",
   "execution_count": 10,
   "id": "8b915e56-f5a0-47e3-921f-6850e498f11f",
   "metadata": {},
   "outputs": [
    {
     "name": "stdin",
     "output_type": "stream",
     "text": [
      "Enter a number:  7.8\n"
     ]
    },
    {
     "ename": "ValueError",
     "evalue": "invalid literal for int() with base 10: '7.8'",
     "output_type": "error",
     "traceback": [
      "\u001b[1;31m---------------------------------------------------------------------------\u001b[0m",
      "\u001b[1;31mValueError\u001b[0m                                Traceback (most recent call last)",
      "Cell \u001b[1;32mIn[10], line 1\u001b[0m\n\u001b[1;32m----> 1\u001b[0m f \u001b[38;5;241m=\u001b[39m \u001b[38;5;28mint\u001b[39m(\u001b[38;5;28minput\u001b[39m(\u001b[38;5;124m\"\u001b[39m\u001b[38;5;124mEnter a number: \u001b[39m\u001b[38;5;124m\"\u001b[39m))\n",
      "\u001b[1;31mValueError\u001b[0m: invalid literal for int() with base 10: '7.8'"
     ]
    }
   ],
   "source": [
    "f = int(input(\"Enter a number: \"))\n"
   ]
  },
  {
   "cell_type": "code",
   "execution_count": 11,
   "id": "43b45468-efd1-48d7-b2de-213f9a50d10b",
   "metadata": {},
   "outputs": [
    {
     "name": "stdin",
     "output_type": "stream",
     "text": [
      "Enter a number:  11\n"
     ]
    }
   ],
   "source": [
    "f = int(input(\"Enter a number: \"))\n"
   ]
  },
  {
   "cell_type": "code",
   "execution_count": 12,
   "id": "e3f5c419-edc1-42fa-a99d-66443823870a",
   "metadata": {},
   "outputs": [
    {
     "name": "stdin",
     "output_type": "stream",
     "text": [
      "Enter another number:  4\n"
     ]
    }
   ],
   "source": [
    "g = int(input('Enter another number: '))"
   ]
  },
  {
   "cell_type": "code",
   "execution_count": 13,
   "id": "4a33ba99-26df-4146-baaf-403094def6be",
   "metadata": {},
   "outputs": [
    {
     "name": "stdout",
     "output_type": "stream",
     "text": [
      "15\n",
      "7\n",
      "44\n",
      "14641\n",
      "2.75\n",
      "2\n",
      "3\n"
     ]
    }
   ],
   "source": [
    "print(f+g)\n",
    "print(f-g)\n",
    "print(f*g)\n",
    "print(f**g)\n",
    "print(f/g)\n",
    "print(f//g)\n",
    "print(f%g)"
   ]
  },
  {
   "cell_type": "code",
   "execution_count": 55,
   "id": "6feb7e74-5b1f-4f14-8855-00edd1822ca6",
   "metadata": {},
   "outputs": [
    {
     "name": "stdin",
     "output_type": "stream",
     "text": [
      "Enter a string:  Add Love and Subtract Hatred\n"
     ]
    }
   ],
   "source": [
    "string = input(\"Enter a string: \")"
   ]
  },
  {
   "cell_type": "code",
   "execution_count": 56,
   "id": "50875684-8f15-4c42-b88b-11ae86949920",
   "metadata": {},
   "outputs": [
    {
     "name": "stdout",
     "output_type": "stream",
     "text": [
      "You entered: Add Love and Subtract Hatred\n"
     ]
    }
   ],
   "source": [
    "print(\"You entered:\",string)"
   ]
  },
  {
   "cell_type": "markdown",
   "id": "fb4dc98d-7722-4e41-ad6b-280031d861ed",
   "metadata": {},
   "source": [
    "#### Assignment Operators"
   ]
  },
  {
   "cell_type": "code",
   "execution_count": 16,
   "id": "cb47e58e-7005-48d6-99ee-8fb1e1ea7978",
   "metadata": {},
   "outputs": [
    {
     "name": "stdout",
     "output_type": "stream",
     "text": [
      "a = 9\n"
     ]
    }
   ],
   "source": [
    "a = 5\n",
    "a += 4\n",
    "print(\"a =\",a)"
   ]
  },
  {
   "cell_type": "code",
   "execution_count": 17,
   "id": "e8ce51ca-9109-4b29-ac80-adc9e2303222",
   "metadata": {},
   "outputs": [
    {
     "name": "stdout",
     "output_type": "stream",
     "text": [
      "a = 7\n"
     ]
    }
   ],
   "source": [
    "a -= 2\n",
    "print(\"a =\",a)"
   ]
  },
  {
   "cell_type": "code",
   "execution_count": 18,
   "id": "bd8fa1db-8483-4b86-a366-72db717d43a3",
   "metadata": {},
   "outputs": [
    {
     "name": "stdout",
     "output_type": "stream",
     "text": [
      "a = 21\n"
     ]
    }
   ],
   "source": [
    "a *= 3\n",
    "print(\"a =\",a)"
   ]
  },
  {
   "cell_type": "code",
   "execution_count": 19,
   "id": "9340ddd9-dc6f-4a64-ae33-108065eb3ecd",
   "metadata": {},
   "outputs": [
    {
     "name": "stdout",
     "output_type": "stream",
     "text": [
      "a = 3.0\n"
     ]
    }
   ],
   "source": [
    "a /= 7\n",
    "print(\"a =\",a)"
   ]
  },
  {
   "cell_type": "code",
   "execution_count": 20,
   "id": "61a7e625-48ec-42d7-8e52-16f5a17288b6",
   "metadata": {},
   "outputs": [
    {
     "name": "stdout",
     "output_type": "stream",
     "text": [
      "a = 1.0\n"
     ]
    }
   ],
   "source": [
    "a //= 3\n",
    "print(\"a =\",a)"
   ]
  },
  {
   "cell_type": "code",
   "execution_count": 21,
   "id": "285a7de5-53a1-45f9-b9f4-873b57518a7b",
   "metadata": {},
   "outputs": [
    {
     "name": "stdout",
     "output_type": "stream",
     "text": [
      "a = 21.0\n"
     ]
    }
   ],
   "source": [
    "a *= 21\n",
    "print(\"a =\",a)"
   ]
  },
  {
   "cell_type": "code",
   "execution_count": 22,
   "id": "43225e2c-5ec9-4d68-99de-043938c1ef3e",
   "metadata": {},
   "outputs": [
    {
     "name": "stdout",
     "output_type": "stream",
     "text": [
      "a = 21\n"
     ]
    }
   ],
   "source": [
    "a = int(a)\n",
    "print(\"a =\",a)"
   ]
  },
  {
   "cell_type": "code",
   "execution_count": 23,
   "id": "ca85c1cb-9c49-49bb-a7ef-57649d236d86",
   "metadata": {},
   "outputs": [
    {
     "name": "stdout",
     "output_type": "stream",
     "text": [
      "a = 3\n"
     ]
    }
   ],
   "source": [
    "a //= 7\n",
    "print(\"a =\",a)"
   ]
  },
  {
   "cell_type": "code",
   "execution_count": 24,
   "id": "697d3fff-e9b0-439c-aa02-69a32df7cec4",
   "metadata": {},
   "outputs": [
    {
     "name": "stdout",
     "output_type": "stream",
     "text": [
      "1\n"
     ]
    }
   ],
   "source": [
    "a %= 2\n",
    "print(a)"
   ]
  },
  {
   "cell_type": "code",
   "execution_count": 25,
   "id": "44e83437-9ad4-4ad1-a23a-f8ffa7decfba",
   "metadata": {},
   "outputs": [
    {
     "name": "stdout",
     "output_type": "stream",
     "text": [
      "16\n"
     ]
    }
   ],
   "source": [
    "a += 3\n",
    "a **= 2\n",
    "print(a)"
   ]
  },
  {
   "cell_type": "markdown",
   "id": "77325cf0-7e08-41d2-b06d-0aad7b82da3f",
   "metadata": {},
   "source": [
    "#### Logical or Boolean Operators"
   ]
  },
  {
   "cell_type": "code",
   "execution_count": 26,
   "id": "7c1f2fb6-a2aa-4e58-90fd-24dc9c9c111e",
   "metadata": {},
   "outputs": [
    {
     "name": "stdout",
     "output_type": "stream",
     "text": [
      "False\n",
      "False\n",
      "True\n",
      "False\n",
      "False\n",
      "False\n"
     ]
    }
   ],
   "source": [
    "state1 = True\n",
    "state2 = False\n",
    "state3 = False\n",
    "state4 = True\n",
    "print(state1 and state2)\n",
    "print(state1 and state3)\n",
    "print(state1 and state4)\n",
    "print(state2 and state3)\n",
    "print(state2 and state4)\n",
    "print(state3 and state4)"
   ]
  },
  {
   "cell_type": "code",
   "execution_count": 27,
   "id": "670b4753-e295-4d9d-9d75-a3e49f3fcb02",
   "metadata": {},
   "outputs": [
    {
     "name": "stdout",
     "output_type": "stream",
     "text": [
      "True\n",
      "True\n",
      "True\n",
      "False\n",
      "True\n",
      "True\n"
     ]
    }
   ],
   "source": [
    "print(state1 or state2)\n",
    "print(state1 or state3)\n",
    "print(state1 or state4)\n",
    "print(state2 or state3)\n",
    "print(state2 or state4)\n",
    "print(state3 or state4)"
   ]
  },
  {
   "cell_type": "code",
   "execution_count": 28,
   "id": "d72e17d9-57c2-41ff-8629-13f17afde0ef",
   "metadata": {},
   "outputs": [
    {
     "name": "stdout",
     "output_type": "stream",
     "text": [
      "False\n",
      "False\n",
      "True\n",
      "True\n"
     ]
    }
   ],
   "source": [
    "print(not state1)\n",
    "print(not state4)\n",
    "print(not state3)\n",
    "print(not state2)"
   ]
  },
  {
   "cell_type": "code",
   "execution_count": 29,
   "id": "bde8a2e9-49d7-4791-b59d-eb23508522d9",
   "metadata": {},
   "outputs": [
    {
     "name": "stdout",
     "output_type": "stream",
     "text": [
      "False\n"
     ]
    }
   ],
   "source": [
    "print(state1 and state2 and state3 and state4)"
   ]
  },
  {
   "cell_type": "code",
   "execution_count": 30,
   "id": "a0d08404-ad50-4e6b-9e6d-2b3affe9c656",
   "metadata": {},
   "outputs": [
    {
     "name": "stdout",
     "output_type": "stream",
     "text": [
      "True\n"
     ]
    }
   ],
   "source": [
    "print(state1 or state2 or state3 or state4)"
   ]
  },
  {
   "cell_type": "code",
   "execution_count": 31,
   "id": "101bd9e4-2a6d-40c2-8482-5ff4f0ff1658",
   "metadata": {},
   "outputs": [
    {
     "name": "stdout",
     "output_type": "stream",
     "text": [
      "True\n"
     ]
    }
   ],
   "source": [
    "print((state1 and state4) or state3)"
   ]
  },
  {
   "cell_type": "code",
   "execution_count": 32,
   "id": "bd7cd480-bf52-40ba-9d6d-adc2501277fd",
   "metadata": {},
   "outputs": [
    {
     "name": "stdout",
     "output_type": "stream",
     "text": [
      "True\n"
     ]
    }
   ],
   "source": [
    "print((state1 or state2) and state4)"
   ]
  },
  {
   "cell_type": "code",
   "execution_count": 33,
   "id": "a75a013f-ff52-4e74-bb5e-dafff217431d",
   "metadata": {},
   "outputs": [
    {
     "name": "stdout",
     "output_type": "stream",
     "text": [
      "True\n"
     ]
    }
   ],
   "source": [
    "print((not state4) or state1)"
   ]
  },
  {
   "cell_type": "code",
   "execution_count": 34,
   "id": "6ca8393a-7419-4685-b7ba-59d94e0e9388",
   "metadata": {},
   "outputs": [
    {
     "name": "stdout",
     "output_type": "stream",
     "text": [
      "True\n"
     ]
    }
   ],
   "source": [
    "print(((not state1) or (not state3)) and (not state2)) #(False or True) and True ----> True"
   ]
  },
  {
   "cell_type": "markdown",
   "id": "4a154090-b11f-4c4e-9e5b-f74623c218e3",
   "metadata": {},
   "source": [
    "#### Relational Operators"
   ]
  },
  {
   "cell_type": "code",
   "execution_count": 35,
   "id": "2da98e4e-49d7-4312-bc04-65380894318c",
   "metadata": {},
   "outputs": [
    {
     "name": "stdout",
     "output_type": "stream",
     "text": [
      "The numbers are 2 and 28\n"
     ]
    }
   ],
   "source": [
    "p = 2\n",
    "q = 28\n",
    "print('The numbers are {} and {}'.format(p,q))"
   ]
  },
  {
   "cell_type": "code",
   "execution_count": 36,
   "id": "08e3bc0d-ceb6-4c1e-8704-985327d7b938",
   "metadata": {},
   "outputs": [
    {
     "name": "stdout",
     "output_type": "stream",
     "text": [
      "False\n"
     ]
    }
   ],
   "source": [
    "print(p>q)"
   ]
  },
  {
   "cell_type": "code",
   "execution_count": 37,
   "id": "5d3f1b3c-2dc9-427e-bda6-256e78f8ce0b",
   "metadata": {},
   "outputs": [
    {
     "name": "stdout",
     "output_type": "stream",
     "text": [
      "False\n"
     ]
    }
   ],
   "source": [
    "print(p>=q)"
   ]
  },
  {
   "cell_type": "code",
   "execution_count": 38,
   "id": "81115645-c3db-47bc-aed2-4a2641f47ce8",
   "metadata": {},
   "outputs": [
    {
     "name": "stdout",
     "output_type": "stream",
     "text": [
      "True\n"
     ]
    }
   ],
   "source": [
    "print(p<q)"
   ]
  },
  {
   "cell_type": "code",
   "execution_count": 39,
   "id": "9fd8f47a-08e9-4c9d-8f71-461288e0ee9c",
   "metadata": {},
   "outputs": [
    {
     "name": "stdout",
     "output_type": "stream",
     "text": [
      "True\n"
     ]
    }
   ],
   "source": [
    "print(p<=q)"
   ]
  },
  {
   "cell_type": "code",
   "execution_count": 40,
   "id": "cbfeb11a-fadd-483c-9fce-7f1c96e8e024",
   "metadata": {},
   "outputs": [
    {
     "name": "stdout",
     "output_type": "stream",
     "text": [
      "False\n"
     ]
    }
   ],
   "source": [
    "print(p==q)"
   ]
  },
  {
   "cell_type": "code",
   "execution_count": 41,
   "id": "b70c33d3-b502-4315-ae2f-ada282177c51",
   "metadata": {},
   "outputs": [
    {
     "name": "stdout",
     "output_type": "stream",
     "text": [
      "True\n"
     ]
    }
   ],
   "source": [
    "print(p!=q)"
   ]
  },
  {
   "cell_type": "code",
   "execution_count": 42,
   "id": "15f86cd5-a846-46ff-86d3-667e59c2b013",
   "metadata": {},
   "outputs": [
    {
     "name": "stdout",
     "output_type": "stream",
     "text": [
      "True\n"
     ]
    }
   ],
   "source": [
    "print(p!=q or p>q)"
   ]
  },
  {
   "cell_type": "code",
   "execution_count": 43,
   "id": "7615e9c6-8d99-4277-aa3e-48b7e80e364b",
   "metadata": {},
   "outputs": [
    {
     "name": "stdout",
     "output_type": "stream",
     "text": [
      "False\n"
     ]
    }
   ],
   "source": [
    "print(p!=q and p>q)"
   ]
  },
  {
   "cell_type": "code",
   "execution_count": 44,
   "id": "a2816c0e-f638-46f1-90ed-4349533cb4af",
   "metadata": {},
   "outputs": [
    {
     "name": "stdout",
     "output_type": "stream",
     "text": [
      "True\n"
     ]
    }
   ],
   "source": [
    "print(p<q or p>q)"
   ]
  },
  {
   "cell_type": "code",
   "execution_count": 45,
   "id": "ffd36cbd-7e00-4469-a80b-9a6ab81ccf98",
   "metadata": {},
   "outputs": [
    {
     "name": "stdout",
     "output_type": "stream",
     "text": [
      "True\n"
     ]
    }
   ],
   "source": [
    "print(p<100 and q<100 and p<q)"
   ]
  },
  {
   "cell_type": "code",
   "execution_count": 46,
   "id": "c0ebb432-d2e1-4df6-a22d-4296e58426eb",
   "metadata": {},
   "outputs": [
    {
     "name": "stdout",
     "output_type": "stream",
     "text": [
      "False\n"
     ]
    }
   ],
   "source": [
    "print(p<100 and p>q)"
   ]
  },
  {
   "cell_type": "code",
   "execution_count": 47,
   "id": "de3fc008-4a32-4d47-a21b-54b858e340f8",
   "metadata": {},
   "outputs": [
    {
     "name": "stdout",
     "output_type": "stream",
     "text": [
      "False\n"
     ]
    }
   ],
   "source": [
    "print(not p<100)"
   ]
  },
  {
   "cell_type": "markdown",
   "id": "b30b37a2-112d-4f13-a94e-382a2a29c4b0",
   "metadata": {},
   "source": [
    "#### String Operators"
   ]
  },
  {
   "cell_type": "markdown",
   "id": "e47d2b57-0dbf-46e6-84f5-6890aafed854",
   "metadata": {},
   "source": [
    "#### (i) Concatenation(+) : It is used to join two string values."
   ]
  },
  {
   "cell_type": "code",
   "execution_count": 48,
   "id": "debf224c-b25a-4ed2-a008-d51644621096",
   "metadata": {},
   "outputs": [
    {
     "name": "stdout",
     "output_type": "stream",
     "text": [
      "Learning   +  Python  -------->  Learning Python\n"
     ]
    }
   ],
   "source": [
    "string1 = \"Learning \"\n",
    "string2 = \"Python\"\n",
    "Concatenated = string1+string2\n",
    "print(string1, \" + \", string2, \" --------> \", Concatenated)"
   ]
  },
  {
   "cell_type": "markdown",
   "id": "eacae08f-be9b-49a3-831a-cfa37afe239e",
   "metadata": {},
   "source": [
    "#### (ii) Replication(*) : It is used to repeat a string for a number of times."
   ]
  },
  {
   "cell_type": "code",
   "execution_count": 49,
   "id": "b8fc2d53-6a0e-4716-8094-8eadd570fbef",
   "metadata": {},
   "outputs": [
    {
     "data": {
      "text/plain": [
       "'Pi Pi Pi Pi Pi Pi Pi Pi Pi Pi '"
      ]
     },
     "execution_count": 49,
     "metadata": {},
     "output_type": "execute_result"
    }
   ],
   "source": [
    "string = \"Pi \"\n",
    "10 * string"
   ]
  },
  {
   "cell_type": "markdown",
   "id": "a290a836-ffad-49cf-a403-17ad9ce78195",
   "metadata": {},
   "source": [
    "**Assignment 1: WAP to input three numbers from the user and print their sum.**"
   ]
  },
  {
   "cell_type": "code",
   "execution_count": 51,
   "id": "3cffcb19-b15f-4a97-ad3a-5359e3c21700",
   "metadata": {},
   "outputs": [
    {
     "name": "stdin",
     "output_type": "stream",
     "text": [
      "Enter first number:  45\n",
      "Enter second number:  32\n",
      "Enter third number:  11\n"
     ]
    },
    {
     "name": "stdout",
     "output_type": "stream",
     "text": [
      "45  +  32  +  11  =  88\n"
     ]
    }
   ],
   "source": [
    "x = int(input(\"Enter first number: \"))\n",
    "y = int(input(\"Enter second number: \"))\n",
    "z = int(input(\"Enter third number: \"))\n",
    "print(x, \" + \", y, \" + \", z, \" = \",x+y+z)"
   ]
  },
  {
   "cell_type": "markdown",
   "id": "730c1dc9-5e57-4c37-a23d-04d2fe169c26",
   "metadata": {},
   "source": [
    "**Assignment 2: WAP to concatenate three strings, taken inputs from the user and print the result.**"
   ]
  },
  {
   "cell_type": "code",
   "execution_count": 52,
   "id": "b51cf057-bab5-4e97-a685-fb76d7994ab8",
   "metadata": {},
   "outputs": [
    {
     "name": "stdin",
     "output_type": "stream",
     "text": [
      "Enter first string:  Patiala\n",
      "Enter second string:  Pun\n",
      "Enter third string:  Bus\n"
     ]
    },
    {
     "name": "stdout",
     "output_type": "stream",
     "text": [
      "Resultant string =  PatialaPunBus\n"
     ]
    }
   ],
   "source": [
    "a = input(\"Enter first string: \")\n",
    "b = input(\"Enter second string: \")\n",
    "c = input(\"Enter third string: \")\n",
    "result = a + b + c\n",
    "print(\"Resultant string = \",result)"
   ]
  },
  {
   "cell_type": "markdown",
   "id": "62c645c3-f1b1-4fe7-a3dc-f08e2eb6cc5e",
   "metadata": {},
   "source": [
    "#### Concatenating a string with number"
   ]
  },
  {
   "cell_type": "code",
   "execution_count": 53,
   "id": "f844d7db-c78f-4219-9c13-8d51e1d6cf84",
   "metadata": {},
   "outputs": [
    {
     "ename": "TypeError",
     "evalue": "'str' object is not callable",
     "output_type": "error",
     "traceback": [
      "\u001b[1;31m---------------------------------------------------------------------------\u001b[0m",
      "\u001b[1;31mTypeError\u001b[0m                                 Traceback (most recent call last)",
      "Cell \u001b[1;32mIn[53], line 3\u001b[0m\n\u001b[0;32m      1\u001b[0m a \u001b[38;5;241m=\u001b[39m \u001b[38;5;124m\"\u001b[39m\u001b[38;5;124mBhagat\u001b[39m\u001b[38;5;124m\"\u001b[39m\n\u001b[0;32m      2\u001b[0m b \u001b[38;5;241m=\u001b[39m \u001b[38;5;241m100\u001b[39m\n\u001b[1;32m----> 3\u001b[0m c \u001b[38;5;241m=\u001b[39m a \u001b[38;5;241m+\u001b[39m \u001b[38;5;28mstr\u001b[39m(b) \u001b[38;5;66;03m# Concatenate string with number\u001b[39;00m\n\u001b[0;32m      4\u001b[0m \u001b[38;5;28mprint\u001b[39m(a, \u001b[38;5;124m\"\u001b[39m\u001b[38;5;124m + \u001b[39m\u001b[38;5;124m\"\u001b[39m, b, \u001b[38;5;124m\"\u001b[39m\u001b[38;5;124m ----> \u001b[39m\u001b[38;5;124m\"\u001b[39m, c)\n",
      "\u001b[1;31mTypeError\u001b[0m: 'str' object is not callable"
     ]
    }
   ],
   "source": [
    "a = \"Bhagat\"\n",
    "b = 100\n",
    "c = a + str(b) # Concatenate string with number\n",
    "print(a, \" + \", b, \" ----> \", c)"
   ]
  },
  {
   "cell_type": "code",
   "execution_count": 57,
   "id": "ebaef50f-e806-4ff0-bf24-1c235924ddfd",
   "metadata": {},
   "outputs": [
    {
     "ename": "TypeError",
     "evalue": "'str' object is not callable",
     "output_type": "error",
     "traceback": [
      "\u001b[1;31m---------------------------------------------------------------------------\u001b[0m",
      "\u001b[1;31mTypeError\u001b[0m                                 Traceback (most recent call last)",
      "Cell \u001b[1;32mIn[57], line 3\u001b[0m\n\u001b[0;32m      1\u001b[0m a \u001b[38;5;241m=\u001b[39m \u001b[38;5;124m\"\u001b[39m\u001b[38;5;124mBhagat\u001b[39m\u001b[38;5;124m\"\u001b[39m\n\u001b[0;32m      2\u001b[0m b \u001b[38;5;241m=\u001b[39m \u001b[38;5;241m100\u001b[39m\n\u001b[1;32m----> 3\u001b[0m c \u001b[38;5;241m=\u001b[39m a \u001b[38;5;241m+\u001b[39m \u001b[38;5;28mstr\u001b[39m(b)  \u001b[38;5;66;03m# Concatenate string with number\u001b[39;00m\n\u001b[0;32m      4\u001b[0m \u001b[38;5;28mprint\u001b[39m(a, \u001b[38;5;124m\"\u001b[39m\u001b[38;5;124m + \u001b[39m\u001b[38;5;124m\"\u001b[39m, b, \u001b[38;5;124m\"\u001b[39m\u001b[38;5;124m ----> \u001b[39m\u001b[38;5;124m\"\u001b[39m, c)\n",
      "\u001b[1;31mTypeError\u001b[0m: 'str' object is not callable"
     ]
    }
   ],
   "source": [
    "a = \"Bhagat\"\n",
    "b = 100\n",
    "c = a + str(b)  # Concatenate string with number\n",
    "print(a, \" + \", b, \" ----> \", c)\n"
   ]
  },
  {
   "cell_type": "code",
   "execution_count": 62,
   "id": "e7ccb19a-8a4f-4fa6-9a18-0f85a4617ed0",
   "metadata": {},
   "outputs": [
    {
     "name": "stdout",
     "output_type": "stream",
     "text": [
      "<class 'type'>\n"
     ]
    }
   ],
   "source": [
    "print(type(str)) # Check for Variable shadowing... # This should output <class 'type'>"
   ]
  },
  {
   "cell_type": "markdown",
   "id": "4970ef4e-ad31-4e2c-8760-4f34113ab6aa",
   "metadata": {},
   "source": [
    "*If the output is not <class 'type'>  but something like <class 'str'>, then str has been redefined.*"
   ]
  },
  {
   "cell_type": "code",
   "execution_count": 60,
   "id": "5173a784-ee29-4730-a681-522c7bdb0b8d",
   "metadata": {},
   "outputs": [],
   "source": [
    "del str  # Remove the variable shadowing the built-in str function"
   ]
  },
  {
   "cell_type": "code",
   "execution_count": 61,
   "id": "a1fd05f5-06de-4333-a30a-add03548f465",
   "metadata": {},
   "outputs": [
    {
     "name": "stdout",
     "output_type": "stream",
     "text": [
      "Bhagat  +  100  ---->  Bhagat100\n"
     ]
    }
   ],
   "source": [
    "a = \"Bhagat\"\n",
    "b = 100\n",
    "c = a + str(b)  # Concatenate string with number\n",
    "print(a, \" + \", b, \" ----> \", c)"
   ]
  },
  {
   "cell_type": "markdown",
   "id": "2f9c9663-0222-47db-b8fe-cc01880a1322",
   "metadata": {},
   "source": [
    "*Rechecked the output of print(type(str)) in cell no. 62... Now, the output is obtained as expected.*"
   ]
  },
  {
   "cell_type": "markdown",
   "id": "ea4f7bc7-cb80-4f4e-b3a5-e71701a205f5",
   "metadata": {},
   "source": [
    "#### Typecasting (Type Conversion)"
   ]
  },
  {
   "cell_type": "code",
   "execution_count": 64,
   "id": "5ddead7d-9589-4f0c-9af9-d9042f1754e4",
   "metadata": {},
   "outputs": [
    {
     "data": {
      "text/plain": [
       "4"
      ]
     },
     "execution_count": 64,
     "metadata": {},
     "output_type": "execute_result"
    }
   ],
   "source": [
    "int(4.2456)"
   ]
  },
  {
   "cell_type": "code",
   "execution_count": 65,
   "id": "79a53f30-5155-41b7-a636-fa28bbab58cf",
   "metadata": {},
   "outputs": [
    {
     "data": {
      "text/plain": [
       "4"
      ]
     },
     "execution_count": 65,
     "metadata": {},
     "output_type": "execute_result"
    }
   ],
   "source": [
    "int(4.78)"
   ]
  },
  {
   "cell_type": "code",
   "execution_count": 66,
   "id": "3037c0df-2b07-42e7-a1ee-8527b7512281",
   "metadata": {},
   "outputs": [
    {
     "data": {
      "text/plain": [
       "9.0"
      ]
     },
     "execution_count": 66,
     "metadata": {},
     "output_type": "execute_result"
    }
   ],
   "source": [
    "float(9)"
   ]
  },
  {
   "cell_type": "code",
   "execution_count": 67,
   "id": "ff1d6e29-e708-404a-ba6f-0c5c3946b1d5",
   "metadata": {},
   "outputs": [
    {
     "data": {
      "text/plain": [
       "'100'"
      ]
     },
     "execution_count": 67,
     "metadata": {},
     "output_type": "execute_result"
    }
   ],
   "source": [
    "str(100)"
   ]
  },
  {
   "cell_type": "code",
   "execution_count": 68,
   "id": "f4414688-5e55-44ef-9870-95e25bad25e4",
   "metadata": {},
   "outputs": [
    {
     "data": {
      "text/plain": [
       "'3.6'"
      ]
     },
     "execution_count": 68,
     "metadata": {},
     "output_type": "execute_result"
    }
   ],
   "source": [
    "str(3.6)"
   ]
  },
  {
   "cell_type": "code",
   "execution_count": 69,
   "id": "7f24ee26-ab2d-47f2-985d-2b6e4ad99cf0",
   "metadata": {},
   "outputs": [
    {
     "data": {
      "text/plain": [
       "2.0"
      ]
     },
     "execution_count": 69,
     "metadata": {},
     "output_type": "execute_result"
    }
   ],
   "source": [
    "float('2')"
   ]
  },
  {
   "cell_type": "code",
   "execution_count": 70,
   "id": "b646bac8-c5c7-4f31-b6ac-78e726817c29",
   "metadata": {},
   "outputs": [
    {
     "data": {
      "text/plain": [
       "34"
      ]
     },
     "execution_count": 70,
     "metadata": {},
     "output_type": "execute_result"
    }
   ],
   "source": [
    "int(\"34\")"
   ]
  },
  {
   "cell_type": "code",
   "execution_count": 71,
   "id": "7de40f5a-cee5-4e6e-aa01-42937fe766a1",
   "metadata": {},
   "outputs": [
    {
     "data": {
      "text/plain": [
       "'78'"
      ]
     },
     "execution_count": 71,
     "metadata": {},
     "output_type": "execute_result"
    }
   ],
   "source": [
    "str(78)"
   ]
  },
  {
   "cell_type": "code",
   "execution_count": 72,
   "id": "48ab6447-47fc-4db8-a1f4-ca994262444b",
   "metadata": {},
   "outputs": [
    {
     "ename": "ValueError",
     "evalue": "invalid literal for int() with base 10: 'A'",
     "output_type": "error",
     "traceback": [
      "\u001b[1;31m---------------------------------------------------------------------------\u001b[0m",
      "\u001b[1;31mValueError\u001b[0m                                Traceback (most recent call last)",
      "Cell \u001b[1;32mIn[72], line 1\u001b[0m\n\u001b[1;32m----> 1\u001b[0m \u001b[38;5;28mint\u001b[39m(\u001b[38;5;124m'\u001b[39m\u001b[38;5;124mA\u001b[39m\u001b[38;5;124m'\u001b[39m)\n",
      "\u001b[1;31mValueError\u001b[0m: invalid literal for int() with base 10: 'A'"
     ]
    }
   ],
   "source": [
    "int('A')"
   ]
  },
  {
   "cell_type": "code",
   "execution_count": 74,
   "id": "10e56449-7b4b-4b2d-9db9-a7b24b302054",
   "metadata": {},
   "outputs": [
    {
     "data": {
      "text/plain": [
       "(45+0j)"
      ]
     },
     "execution_count": 74,
     "metadata": {},
     "output_type": "execute_result"
    }
   ],
   "source": [
    "complex(45)"
   ]
  },
  {
   "cell_type": "code",
   "execution_count": 75,
   "id": "2b7b0c01-3292-4d33-b2e6-21d5444b9b24",
   "metadata": {},
   "outputs": [
    {
     "ename": "TypeError",
     "evalue": "int() argument must be a string, a bytes-like object or a real number, not 'complex'",
     "output_type": "error",
     "traceback": [
      "\u001b[1;31m---------------------------------------------------------------------------\u001b[0m",
      "\u001b[1;31mTypeError\u001b[0m                                 Traceback (most recent call last)",
      "Cell \u001b[1;32mIn[75], line 1\u001b[0m\n\u001b[1;32m----> 1\u001b[0m \u001b[38;5;28mint\u001b[39m(\u001b[38;5;241m7\u001b[39m\u001b[38;5;241m+\u001b[39m\u001b[38;5;241m8\u001b[39mj)\n",
      "\u001b[1;31mTypeError\u001b[0m: int() argument must be a string, a bytes-like object or a real number, not 'complex'"
     ]
    }
   ],
   "source": [
    "int(7+8j)"
   ]
  },
  {
   "cell_type": "markdown",
   "id": "230eaac3-6926-4e0b-bd4a-28e6bc63776b",
   "metadata": {},
   "source": [
    "#### Precedence of Operators (Descending Order):  \n",
    "**1.** ()  \n",
    "**2.** **  \n",
    "**3.** * , /, %, //  \n",
    "**4.** +,-  \n",
    "**5.** Relational / Boolean / Comparison Operators  \n",
    "**6.** Assignment Operators  \n",
    "**7.** Logical Operators"
   ]
  },
  {
   "cell_type": "markdown",
   "id": "db8a8f9c-f3df-414e-aba6-506becf234f2",
   "metadata": {},
   "source": [
    "**WAP to calculate the average marks scored in four subjects.**"
   ]
  },
  {
   "cell_type": "code",
   "execution_count": 2,
   "id": "4fce7885-a239-49d8-b1cf-21bef408e1dc",
   "metadata": {},
   "outputs": [
    {
     "name": "stdout",
     "output_type": "stream",
     "text": [
      "Enter the marks scored out of 100:\n"
     ]
    },
    {
     "name": "stdin",
     "output_type": "stream",
     "text": [
      "Subject 1 =  96\n",
      "Subject 2 =  87\n",
      "Subject 3 =  97\n",
      "Subject 4 =  88\n"
     ]
    },
    {
     "name": "stdout",
     "output_type": "stream",
     "text": [
      "Average Marks = 92.0\n"
     ]
    }
   ],
   "source": [
    "print(\"Enter the marks scored out of 100:\")\n",
    "sub1 = float(input(\"Subject 1 = \"))\n",
    "sub2 = float(input(\"Subject 2 = \"))\n",
    "sub3 = float(input(\"Subject 3 = \"))\n",
    "sub4 = float(input(\"Subject 4 = \"))\n",
    "average = (sub1 + sub2 + sub3 + sub4) / 4\n",
    "print(\"Average Marks =\", average)"
   ]
  },
  {
   "cell_type": "markdown",
   "id": "f9e7b3da-695f-416f-947f-7e0cb7e337a6",
   "metadata": {},
   "source": [
    "**WAP to calculate the area and perimeter of a rectangle.**"
   ]
  },
  {
   "cell_type": "code",
   "execution_count": 3,
   "id": "03b0edb1-8408-4941-a382-fcf94b0be663",
   "metadata": {},
   "outputs": [
    {
     "name": "stdin",
     "output_type": "stream",
     "text": [
      "Enter the length of the rectangle:  20\n",
      "Enter the breadth of the rectangle:  12\n"
     ]
    },
    {
     "name": "stdout",
     "output_type": "stream",
     "text": [
      "The area of rectangle is 240.0\n",
      "The perimeter of rectangle is 64.0\n"
     ]
    }
   ],
   "source": [
    "l = float(input(\"Enter the length of the rectangle: \"))\n",
    "b = float(input(\"Enter the breadth of the rectangle: \"))\n",
    "\n",
    "area = l*b\n",
    "perimeter = 2*(l+b)\n",
    "\n",
    "print(\"The area of rectangle is\",area)\n",
    "print(\"The perimeter of rectangle is\",perimeter)"
   ]
  },
  {
   "cell_type": "code",
   "execution_count": 4,
   "id": "14d51f3b-af5a-44fb-a119-8091b1e8879f",
   "metadata": {},
   "outputs": [
    {
     "name": "stdin",
     "output_type": "stream",
     "text": [
      "Enter the length of the rectangle:  10.6\n",
      "Enter the breadth of the rectangle:  7.4\n"
     ]
    },
    {
     "name": "stdout",
     "output_type": "stream",
     "text": [
      "The area of rectangle is 78.44\n",
      "The perimeter of rectangle is 36.0\n"
     ]
    }
   ],
   "source": [
    "exec(In[3])"
   ]
  },
  {
   "cell_type": "code",
   "execution_count": null,
   "id": "d8c63d2e-2f11-460c-8cc5-150c6f22cdd9",
   "metadata": {},
   "outputs": [],
   "source": []
  }
 ],
 "metadata": {
  "kernelspec": {
   "display_name": "Python 3 (ipykernel)",
   "language": "python",
   "name": "python3"
  },
  "language_info": {
   "codemirror_mode": {
    "name": "ipython",
    "version": 3
   },
   "file_extension": ".py",
   "mimetype": "text/x-python",
   "name": "python",
   "nbconvert_exporter": "python",
   "pygments_lexer": "ipython3",
   "version": "3.12.7"
  }
 },
 "nbformat": 4,
 "nbformat_minor": 5
}
