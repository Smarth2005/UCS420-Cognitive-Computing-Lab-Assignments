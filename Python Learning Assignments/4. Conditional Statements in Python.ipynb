{
 "cells": [
  {
   "cell_type": "markdown",
   "id": "4e810171-4096-4769-8451-8e6c74fe20b0",
   "metadata": {},
   "source": [
    "## 4. Decisions in Code: Conditional Checks with If...Else in Python"
   ]
  },
  {
   "cell_type": "markdown",
   "id": "85f02790-cb99-4fa6-b08d-5dd526de0083",
   "metadata": {},
   "source": [
    "**Learning**"
   ]
  },
  {
   "cell_type": "markdown",
   "id": "693f65cc-ed63-4449-bc8e-1f2ddbe6522a",
   "metadata": {},
   "source": [
    "#### The if statement and the if...else statement"
   ]
  },
  {
   "cell_type": "code",
   "execution_count": 1,
   "id": "c5230faa-83bc-478d-936f-27305f48be7f",
   "metadata": {},
   "outputs": [
    {
     "name": "stdout",
     "output_type": "stream",
     "text": [
      "Yes\n"
     ]
    }
   ],
   "source": [
    "if 10 > 5:\n",
    "    print('Yes')\n",
    "else:\n",
    "    print('No')"
   ]
  },
  {
   "cell_type": "code",
   "execution_count": 2,
   "id": "631e0a20-3102-46fc-ba63-f8dd26bb430b",
   "metadata": {},
   "outputs": [
    {
     "name": "stdout",
     "output_type": "stream",
     "text": [
      "no\n"
     ]
    }
   ],
   "source": [
    "i = 10\n",
    "j = 5\n",
    "if (i < 5):\n",
    "    print(\"yes\")\n",
    "else:\n",
    "    print(\"no\")"
   ]
  },
  {
   "cell_type": "code",
   "execution_count": 3,
   "id": "a9866d25-5a37-4364-a07f-8c3879e25aad",
   "metadata": {},
   "outputs": [
    {
     "name": "stdout",
     "output_type": "stream",
     "text": [
      "Atleast one condition is false\n"
     ]
    }
   ],
   "source": [
    "if i != 10 and j > 2: # Logical AND\n",
    "    print(\"Both conditions are true\")\n",
    "else:\n",
    "    print(\"Atleast one condition is false\")"
   ]
  },
  {
   "cell_type": "code",
   "execution_count": 4,
   "id": "5e72118c-7ce5-4e69-ba3a-0209f0902f29",
   "metadata": {},
   "outputs": [
    {
     "name": "stdout",
     "output_type": "stream",
     "text": [
      "Atleast one condition is true\n"
     ]
    }
   ],
   "source": [
    "if i != 10 or j > 2: # Logical OR\n",
    "    print(\"Atleast one condition is true\")\n",
    "else:\n",
    "    print(\"Both the conditions are false\")"
   ]
  },
  {
   "cell_type": "code",
   "execution_count": 5,
   "id": "89e30902-5232-472b-93fe-8f0212e2145d",
   "metadata": {},
   "outputs": [
    {
     "name": "stdout",
     "output_type": "stream",
     "text": [
      "True\n"
     ]
    }
   ],
   "source": [
    "if not(i < 5): # Logical NOT\n",
    "    print(\"True\")"
   ]
  },
  {
   "cell_type": "markdown",
   "id": "84031f7b-8c95-446a-b1ae-b7571702926e",
   "metadata": {},
   "source": [
    "**Note:**  \n",
    "In other programming languages, indentation is used for readability only. Python uses indentation to indicate a block of code. Skipping indentation will result in error."
   ]
  },
  {
   "cell_type": "code",
   "execution_count": 7,
   "id": "00d3bb47-6720-4135-b0ba-fe7adbe799c9",
   "metadata": {},
   "outputs": [
    {
     "ename": "IndentationError",
     "evalue": "expected an indented block after 'if' statement on line 1 (3200626750.py, line 2)",
     "output_type": "error",
     "traceback": [
      "\u001b[1;36m  Cell \u001b[1;32mIn[7], line 2\u001b[1;36m\u001b[0m\n\u001b[1;33m    print('Yes')\u001b[0m\n\u001b[1;37m    ^\u001b[0m\n\u001b[1;31mIndentationError\u001b[0m\u001b[1;31m:\u001b[0m expected an indented block after 'if' statement on line 1\n"
     ]
    }
   ],
   "source": [
    "if 10 > 5:\n",
    "print('Yes')\n",
    "else:\n",
    "print('No')"
   ]
  },
  {
   "cell_type": "markdown",
   "id": "a134cb08-dbb5-4350-b1b7-5499f9c35f5e",
   "metadata": {},
   "source": [
    "**4.1 Program to check whether a number is even or odd.**"
   ]
  },
  {
   "cell_type": "code",
   "execution_count": 17,
   "id": "923ce983-bb69-4dce-b64e-f077027552e4",
   "metadata": {},
   "outputs": [
    {
     "name": "stdin",
     "output_type": "stream",
     "text": [
      "Enter a number:  19\n"
     ]
    },
    {
     "name": "stdout",
     "output_type": "stream",
     "text": [
      "19  is odd\n"
     ]
    }
   ],
   "source": [
    "n = int(input(\"Enter a number: \"))\n",
    "if n % 2 == 0:\n",
    "    print(n, \" is even\")\n",
    "else:\n",
    "    print(n, \" is odd\")"
   ]
  },
  {
   "cell_type": "code",
   "execution_count": 18,
   "id": "7a3c114b-c7bf-4d95-b8dd-19057c710e85",
   "metadata": {},
   "outputs": [
    {
     "name": "stdin",
     "output_type": "stream",
     "text": [
      "Enter a number:  288\n"
     ]
    },
    {
     "name": "stdout",
     "output_type": "stream",
     "text": [
      "288  is even\n"
     ]
    }
   ],
   "source": [
    "exec(In[17])"
   ]
  },
  {
   "cell_type": "markdown",
   "id": "1ab2bf93-b789-4e08-90a4-baf5ebe8f693",
   "metadata": {},
   "source": [
    "**4.2 Program to check whether a number is positive or negative.**"
   ]
  },
  {
   "cell_type": "code",
   "execution_count": 19,
   "id": "879e19c7-a64a-46d5-84e2-b10cdf2fd29a",
   "metadata": {},
   "outputs": [
    {
     "name": "stdin",
     "output_type": "stream",
     "text": [
      "Enter a number:  0\n"
     ]
    },
    {
     "name": "stdout",
     "output_type": "stream",
     "text": [
      "0  is positive\n"
     ]
    }
   ],
   "source": [
    "n = int(input(\"Enter a number: \"))\n",
    "if n >= 0:\n",
    "    print(n, \" is positive\")\n",
    "else:\n",
    "    print(n, \" is negative\")"
   ]
  },
  {
   "cell_type": "code",
   "execution_count": 20,
   "id": "f7176ca5-deb0-41f1-9cd7-027c5ad22810",
   "metadata": {},
   "outputs": [
    {
     "name": "stdin",
     "output_type": "stream",
     "text": [
      "Enter a number:  96\n"
     ]
    },
    {
     "name": "stdout",
     "output_type": "stream",
     "text": [
      "96  is positive\n"
     ]
    }
   ],
   "source": [
    "exec(In[19])"
   ]
  },
  {
   "cell_type": "code",
   "execution_count": 21,
   "id": "2f0e9ba1-7573-4e2b-9199-1e7dfeb88ee5",
   "metadata": {},
   "outputs": [
    {
     "name": "stdin",
     "output_type": "stream",
     "text": [
      "Enter a number:  -42\n"
     ]
    },
    {
     "name": "stdout",
     "output_type": "stream",
     "text": [
      "-42  is negative\n"
     ]
    }
   ],
   "source": [
    "exec(In[19])"
   ]
  },
  {
   "cell_type": "markdown",
   "id": "a5699066-4ed3-43bb-b377-95da9c2ec45c",
   "metadata": {},
   "source": [
    "**4.3 Program to find out if the student is selected for the college based on the following conditions:**  \n",
    "- Selected if age > 18 and marks >= 65\n",
    "- Not selected if age > 18 and marks < 65\n",
    "- Not selected if age < 18"
   ]
  },
  {
   "cell_type": "code",
   "execution_count": 22,
   "id": "a3498574-2e72-4579-b965-5d717c920908",
   "metadata": {},
   "outputs": [
    {
     "name": "stdin",
     "output_type": "stream",
     "text": [
      "Enter your age:  19\n",
      "Enter your marks obtained in the qualifying test:  65.1\n"
     ]
    },
    {
     "name": "stdout",
     "output_type": "stream",
     "text": [
      "You are selected\n"
     ]
    }
   ],
   "source": [
    "age = int(input(\"Enter your age: \"))\n",
    "marks = float(input(\"Enter your marks obtained in the qualifying test: \"))\n",
    "if age > 18 and marks >= 65:\n",
    "    print(\"You are selected\")\n",
    "else:\n",
    "    print(\"Sorry, Not selected\")"
   ]
  },
  {
   "cell_type": "code",
   "execution_count": 23,
   "id": "05a6f94d-97a6-435d-983e-67eec0237dc9",
   "metadata": {},
   "outputs": [
    {
     "name": "stdin",
     "output_type": "stream",
     "text": [
      "Enter your age:  17\n",
      "Enter your marks obtained in the qualifying test:  94\n"
     ]
    },
    {
     "name": "stdout",
     "output_type": "stream",
     "text": [
      "Sorry, Not selected\n"
     ]
    }
   ],
   "source": [
    "exec(In[22])"
   ]
  },
  {
   "cell_type": "code",
   "execution_count": 24,
   "id": "7b34a33d-ad60-42af-8833-32ef8e37a280",
   "metadata": {},
   "outputs": [
    {
     "name": "stdin",
     "output_type": "stream",
     "text": [
      "Enter your age:  20\n",
      "Enter your marks obtained in the qualifying test:  64.9\n"
     ]
    },
    {
     "name": "stdout",
     "output_type": "stream",
     "text": [
      "Sorry, Not selected\n"
     ]
    }
   ],
   "source": [
    "exec(In[22])"
   ]
  },
  {
   "cell_type": "markdown",
   "id": "46d2086c-a7d0-4a8b-8bc3-769027fb9ad4",
   "metadata": {},
   "source": [
    "#### The if...elif...else ladder"
   ]
  },
  {
   "cell_type": "markdown",
   "id": "f8026ff6-5e6b-4b35-b8ff-84d54e94db2e",
   "metadata": {},
   "source": [
    "**4.4 Input two numbers from the user and compare them.**"
   ]
  },
  {
   "cell_type": "code",
   "execution_count": 8,
   "id": "e05e877f-57e5-48f4-96dc-a284798359f3",
   "metadata": {},
   "outputs": [
    {
     "name": "stdin",
     "output_type": "stream",
     "text": [
      "Enter the first number:  10\n",
      "Enter the second number:  77\n"
     ]
    },
    {
     "name": "stdout",
     "output_type": "stream",
     "text": [
      "10  <  77\n"
     ]
    }
   ],
   "source": [
    "a = int(input(\"Enter the first number: \"))\n",
    "b = int(input(\"Enter the second number: \"))\n",
    "if a>b:\n",
    "    print(a, \" > \", b)\n",
    "elif a<b:\n",
    "    print(a, \" < \", b)\n",
    "else:\n",
    "    print(\"Both numbers are equal\")"
   ]
  },
  {
   "cell_type": "markdown",
   "id": "5b6fe42f-dadb-4fa9-9259-1a948477ed40",
   "metadata": {},
   "source": [
    "**4.5 Program to check whether a given number is a two-digit, three-digit or four-digit number.**"
   ]
  },
  {
   "cell_type": "code",
   "execution_count": 25,
   "id": "c49a1773-94d4-4cb9-af35-34c501b1498c",
   "metadata": {},
   "outputs": [
    {
     "name": "stdin",
     "output_type": "stream",
     "text": [
      "Enter a number:  20\n"
     ]
    },
    {
     "name": "stdout",
     "output_type": "stream",
     "text": [
      "20  is a two-digit number\n"
     ]
    }
   ],
   "source": [
    "n = int(input(\"Enter a number: \"))\n",
    "if n >= 0 and n < 10:\n",
    "    print(n, \" is a single-digit number\")\n",
    "elif n >= 10 and n <= 99:\n",
    "    print(n, \" is a two-digit number\")\n",
    "elif n >= 100 and n <= 999:\n",
    "    print(n, \" is a three-digit number\")\n",
    "elif n >= 1000 and n <= 9999:\n",
    "    print(n, \" is a four-digit number\")"
   ]
  },
  {
   "cell_type": "code",
   "execution_count": 26,
   "id": "d87776be-23f8-4773-b478-f43ae0e5f1a9",
   "metadata": {},
   "outputs": [
    {
     "name": "stdin",
     "output_type": "stream",
     "text": [
      "Enter a number:  434\n"
     ]
    },
    {
     "name": "stdout",
     "output_type": "stream",
     "text": [
      "434  is a three-digit number\n"
     ]
    }
   ],
   "source": [
    "exec(In[25])"
   ]
  },
  {
   "cell_type": "code",
   "execution_count": 27,
   "id": "5af9b167-5c41-4f85-bc89-265d8e01a944",
   "metadata": {},
   "outputs": [
    {
     "name": "stdin",
     "output_type": "stream",
     "text": [
      "Enter a number:  9998\n"
     ]
    },
    {
     "name": "stdout",
     "output_type": "stream",
     "text": [
      "9998  is a four-digit number\n"
     ]
    }
   ],
   "source": [
    "exec(In[25])"
   ]
  },
  {
   "cell_type": "code",
   "execution_count": 28,
   "id": "5b4fbabb-bfe1-4269-9dfb-ce08e33479f4",
   "metadata": {},
   "outputs": [
    {
     "name": "stdin",
     "output_type": "stream",
     "text": [
      "Enter a number:  100000\n"
     ]
    }
   ],
   "source": [
    "exec(In[25])"
   ]
  },
  {
   "cell_type": "markdown",
   "id": "bd935476-81ef-48bb-9641-e426edff5479",
   "metadata": {},
   "source": [
    "**4.6 Program to display the name of the month according to the number given by the user (for the first 6 months).**"
   ]
  },
  {
   "cell_type": "code",
   "execution_count": 9,
   "id": "d6b624da-4408-4021-aed4-bc9cb6abdb39",
   "metadata": {},
   "outputs": [
    {
     "name": "stdin",
     "output_type": "stream",
     "text": [
      "Enter the number of the month:  5\n"
     ]
    },
    {
     "name": "stdout",
     "output_type": "stream",
     "text": [
      "May\n"
     ]
    }
   ],
   "source": [
    "num = int(input(\"Enter the number of the month: \"))\n",
    "if num == 1:\n",
    "    print(\"January\")\n",
    "elif num == 2:\n",
    "    print(\"February\")\n",
    "elif num == 3:\n",
    "    print(\"March\")\n",
    "elif num == 4:\n",
    "    print(\"April\")\n",
    "elif num == 5:\n",
    "    print(\"May\")\n",
    "elif num == 6:\n",
    "    print(\"June\")\n",
    "else:\n",
    "    print(\"Invalid Input\")"
   ]
  },
  {
   "cell_type": "code",
   "execution_count": 11,
   "id": "21123be5-efe2-4e14-8aa6-65b6e62b2bcd",
   "metadata": {},
   "outputs": [
    {
     "name": "stdin",
     "output_type": "stream",
     "text": [
      "Enter the number of the month:  12\n"
     ]
    },
    {
     "name": "stdout",
     "output_type": "stream",
     "text": [
      "Invalid Input\n"
     ]
    }
   ],
   "source": [
    "# Re-running a previous cell using input history\n",
    "exec(In[9])  # This will re-run the code in cell 9\n"
   ]
  },
  {
   "cell_type": "markdown",
   "id": "d18442a9-90aa-46e1-a26b-82dee9424389",
   "metadata": {},
   "source": [
    "**4.7 Program to print the grade of a student based on the average marks scored in five subjects. Follow the given criteria. Give releveant Remarks as well.** \n",
    "\n",
    "| **Percentage** | **Grade** |\n",
    "|----------------|-----------|\n",
    "| 91 - 100       | A1        |\n",
    "| 81 - 90        | A2        |\n",
    "| 71 - 80        | B1        |\n",
    "| 61 - 70        | B2        |\n",
    "| 51 - 60        | C1        |\n",
    "| 41 - 50        | C2        |\n",
    "| 33 - 40        | D         |\n",
    "| 32 and below   | E         |\n"
   ]
  },
  {
   "cell_type": "code",
   "execution_count": 15,
   "id": "245afbc5-70ee-4588-81db-fe9054025189",
   "metadata": {},
   "outputs": [
    {
     "name": "stdout",
     "output_type": "stream",
     "text": [
      "Enter the marks out of 100: \n"
     ]
    },
    {
     "name": "stdin",
     "output_type": "stream",
     "text": [
      "Subject 1 =  91\n",
      "Subject 2 =  83\n",
      "Subject 3 =  94\n",
      "Subject 4 =  88\n",
      "Subject 5 =  92\n"
     ]
    },
    {
     "name": "stdout",
     "output_type": "stream",
     "text": [
      "Average marks (or percentage) = 89.6\n",
      "Grade obtained = A2\n",
      "Remarks :  Very Good performance!\n"
     ]
    }
   ],
   "source": [
    "print(\"Enter the marks out of 100: \")\n",
    "sub1 = float(input(\"Subject 1 = \"))\n",
    "sub2 = float(input(\"Subject 2 = \"))\n",
    "sub3 = float(input(\"Subject 3 = \"))\n",
    "sub4 = float(input(\"Subject 4 = \"))\n",
    "sub5 = float(input(\"Subject 5 = \"))\n",
    "average = (sub1 + sub2 + sub3 + sub4 + sub5)/5\n",
    "print(\"Average marks (or percentage) =\", average)\n",
    "if average >= 91 and average <= 100:\n",
    "    Grade = \"A1\"\n",
    "    Remarks = \"Excellent performance!\"\n",
    "elif average >= 81 and average <= 90:\n",
    "    Grade = \"A2\"\n",
    "    Remarks = \"Very Good performance!\"\n",
    "elif average >= 71 and average <= 80:\n",
    "    Grade = \"B1\"\n",
    "    Remarks = \"Good performance!\"\n",
    "elif average >= 61 and average <= 70:\n",
    "    Grade = \"B2\"\n",
    "    Remarks = \"Stands above average\"\n",
    "elif average >= 51 and average <= 60:\n",
    "    Grade = \"C1\"\n",
    "    Remarks = \"Satisfactory Performance!\"\n",
    "elif average >= 41 and average <= 50:\n",
    "    Grade = \"C2\"\n",
    "    Remarks = \"Needs Improvement\"\n",
    "elif average >= 33 and average <= 40:\n",
    "    Grade = \"D\"\n",
    "    Remarks = \"Below average, try harder!\"\n",
    "else:\n",
    "    Grade = \"F\"\n",
    "    Remarks = \"Failed, requires signicant effort!\"\n",
    "\n",
    "print(\"Grade obtained =\", Grade)\n",
    "print(\"Remarks : \",Remarks)\n",
    "    "
   ]
  },
  {
   "cell_type": "markdown",
   "id": "62518dab-b0c4-43b8-9ef2-e1d1f319a9d4",
   "metadata": {},
   "source": [
    "**4.8 Conditional Checking- Compare Strings**"
   ]
  },
  {
   "cell_type": "code",
   "execution_count": 32,
   "id": "7246ca09-78af-45a7-81b5-bc730771068c",
   "metadata": {},
   "outputs": [
    {
     "name": "stdin",
     "output_type": "stream",
     "text": [
      "Enter first string:  Eco\n",
      "Enter second string:  Friendly\n"
     ]
    },
    {
     "name": "stdout",
     "output_type": "stream",
     "text": [
      "a < b\n"
     ]
    }
   ],
   "source": [
    "a = input(\"Enter first string: \")\n",
    "b = input(\"Enter second string: \")\n",
    "if a == b:\n",
    "    print(\"a == b\")\n",
    "elif a >= b:\n",
    "    print(\"a > b\")\n",
    "else:\n",
    "    print(\"a < b\")"
   ]
  },
  {
   "cell_type": "code",
   "execution_count": 35,
   "id": "135271cd-b3e1-4020-be61-6c8ad84dec85",
   "metadata": {},
   "outputs": [
    {
     "name": "stdin",
     "output_type": "stream",
     "text": [
      "Enter first string:  Sun\n",
      "Enter second string:  Shine\n"
     ]
    },
    {
     "name": "stdout",
     "output_type": "stream",
     "text": [
      "a > b\n"
     ]
    }
   ],
   "source": [
    "exec(In[32])"
   ]
  },
  {
   "cell_type": "code",
   "execution_count": 36,
   "id": "4297b1cf-285b-455e-8a68-4a313acdaa9d",
   "metadata": {},
   "outputs": [
    {
     "name": "stdin",
     "output_type": "stream",
     "text": [
      "Enter first string:  Cognition\n",
      "Enter second string:  Cognition\n"
     ]
    },
    {
     "name": "stdout",
     "output_type": "stream",
     "text": [
      "a == b\n"
     ]
    }
   ],
   "source": [
    "exec(In[32])"
   ]
  },
  {
   "cell_type": "code",
   "execution_count": 1,
   "id": "83778c45-f32f-466c-b482-e9078460389a",
   "metadata": {},
   "outputs": [
    {
     "name": "stdout",
     "output_type": "stream",
     "text": [
      "3.12.7 | packaged by Anaconda, Inc. | (main, Oct  4 2024, 13:17:27) [MSC v.1929 64 bit (AMD64)]\n"
     ]
    }
   ],
   "source": [
    "import sys\n",
    "print(sys.version)"
   ]
  },
  {
   "cell_type": "markdown",
   "id": "2525bd65-efde-451f-9601-48784165b925",
   "metadata": {},
   "source": [
    "**Starting with Python 3.10, you can use the match-case statement, which provides a syntax similar to switch-case in other languages:**"
   ]
  },
  {
   "cell_type": "code",
   "execution_count": 2,
   "id": "dd713fd6-c1ae-45fd-9c82-71d3570aad7b",
   "metadata": {},
   "outputs": [
    {
     "name": "stdin",
     "output_type": "stream",
     "text": [
      "Enter a number:  3\n"
     ]
    },
    {
     "name": "stdout",
     "output_type": "stream",
     "text": [
      "This is the default case\n"
     ]
    }
   ],
   "source": [
    "value = int(input(\"Enter a number: \"))\n",
    "\n",
    "match value:\n",
    "    case 1:\n",
    "        print(\"This is case 1\")\n",
    "    case 2:\n",
    "        print(\"This is case 2\")\n",
    "    case _:\n",
    "        print(\"This is the default case\") # The _ acts as a default case, matching any value not handled by the previous cases.\n",
    "        "
   ]
  },
  {
   "cell_type": "code",
   "execution_count": 3,
   "id": "4f9d17c6-34be-4582-a5f2-112f3327dc91",
   "metadata": {},
   "outputs": [
    {
     "name": "stdin",
     "output_type": "stream",
     "text": [
      "Enter a number:  2\n"
     ]
    },
    {
     "name": "stdout",
     "output_type": "stream",
     "text": [
      "This is case 2\n"
     ]
    }
   ],
   "source": [
    "exec(In[2])"
   ]
  },
  {
   "cell_type": "markdown",
   "id": "01272c32-2c86-42df-ba19-3a3c131d8249",
   "metadata": {},
   "source": [
    "**Note:**  \n",
    "Each case block in Python is self-contained, and execution does not \"fall through\" to the next case unless explicitly programmed (e.g., using function calls or match statements inside cases). Hence, there is no need to use `break` in Python's match-case construct. Unlike switch-case in languages like C, C++ or Java, Python's match-case automatically exits after executing the matching case, eliminating the need for an explicit break.\n"
   ]
  },
  {
   "cell_type": "code",
   "execution_count": null,
   "id": "c42f4f6f-8a09-4693-88aa-e5242ef0428e",
   "metadata": {},
   "outputs": [],
   "source": []
  }
 ],
 "metadata": {
  "kernelspec": {
   "display_name": "Python 3 (ipykernel)",
   "language": "python",
   "name": "python3"
  },
  "language_info": {
   "codemirror_mode": {
    "name": "ipython",
    "version": 3
   },
   "file_extension": ".py",
   "mimetype": "text/x-python",
   "name": "python",
   "nbconvert_exporter": "python",
   "pygments_lexer": "ipython3",
   "version": "3.12.7"
  }
 },
 "nbformat": 4,
 "nbformat_minor": 5
}
