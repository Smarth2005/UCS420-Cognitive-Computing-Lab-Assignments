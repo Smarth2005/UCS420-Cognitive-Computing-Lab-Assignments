{
 "cells": [
  {
   "cell_type": "markdown",
   "id": "662c6934-9cdd-43ea-aef3-90b0d151027d",
   "metadata": {},
   "source": [
    "## 9. Random Numbers: The Building Blocks of Unpredictability "
   ]
  },
  {
   "cell_type": "markdown",
   "id": "8fda41fb-f38f-4f59-b44c-fe4bc99cb8ab",
   "metadata": {},
   "source": [
    "#### Key Functions in the `random` module:"
   ]
  },
  {
   "cell_type": "markdown",
   "id": "fe174300-cd4f-4506-986b-01d6bc7d9ca0",
   "metadata": {},
   "source": [
    "#### 9.1 random(): Generates a random floating-point number between 0.0 (inclusive) and 1.0 (exclusive)."
   ]
  },
  {
   "cell_type": "code",
   "execution_count": 1,
   "id": "9288f5ed-3211-44a5-a8c7-67f1016302c6",
   "metadata": {},
   "outputs": [
    {
     "name": "stdout",
     "output_type": "stream",
     "text": [
      "0.23498593277503177\n",
      "0.8938329038839371\n",
      "0.4122\n"
     ]
    }
   ],
   "source": [
    "import random as r\n",
    "print(r.random())\n",
    "print(r.random())\n",
    "print(round(r.random(),4))"
   ]
  },
  {
   "cell_type": "markdown",
   "id": "29a9ddf4-2422-4484-8e2a-a38215d1f6ec",
   "metadata": {},
   "source": [
    "#### 9.2 randint(a, b): Returns a random integer between a and b (both inclusive)."
   ]
  },
  {
   "cell_type": "code",
   "execution_count": 3,
   "id": "8206f0f0-e7e3-4eee-ba97-9b9ec6910ba8",
   "metadata": {},
   "outputs": [
    {
     "name": "stdout",
     "output_type": "stream",
     "text": [
      "75\n",
      "85\n",
      "-6\n",
      "9\n",
      "109\n"
     ]
    }
   ],
   "source": [
    "import random as r\n",
    "print(r.randint(1,100))\n",
    "print(r.randint(1,100))\n",
    "print(r.randint(-10,10))\n",
    "print(r.randint(-10,10))\n",
    "print(r.randint(7, 110))"
   ]
  },
  {
   "cell_type": "markdown",
   "id": "e21c817e-b886-4d9e-8701-c57ce7ffd5ca",
   "metadata": {},
   "source": [
    "#### 9.3 uniform(a, b): Generates a random floating-point number between a and b."
   ]
  },
  {
   "cell_type": "code",
   "execution_count": 4,
   "id": "7ad16ef4-e038-41eb-a3c4-0f73538f5afd",
   "metadata": {},
   "outputs": [
    {
     "name": "stdout",
     "output_type": "stream",
     "text": [
      "97.30212184644087\n",
      "5.457615329745595\n",
      "2.9613936489371113\n",
      "7.913099157779779\n",
      "4.84\n"
     ]
    }
   ],
   "source": [
    "import random as r\n",
    "print(r.uniform(1,100))\n",
    "print(r.uniform(1,100))\n",
    "print(r.uniform(-10,10))\n",
    "print(r.uniform(-10,10))\n",
    "print(round(r.uniform(-10,10),2))"
   ]
  },
  {
   "cell_type": "markdown",
   "id": "756b825f-567d-4129-9106-4a5559172a6f",
   "metadata": {},
   "source": [
    "#### 9.4 choice(sequence): Selects a random element from a non-empty sequence (e.g., list, tuple, string)."
   ]
  },
  {
   "cell_type": "code",
   "execution_count": 7,
   "id": "0ab861f5-ff94-42c7-bbc1-ccd1bb7726e2",
   "metadata": {},
   "outputs": [
    {
     "name": "stdout",
     "output_type": "stream",
     "text": [
      "3\n",
      "30\n"
     ]
    }
   ],
   "source": [
    "import random as r\n",
    "print(r.choice([1, 2, 3, 4]))\n",
    "\n",
    "a = [10, 20, 30, 40, 50, 67.8, 34.7]\n",
    "print(r.choice(a))"
   ]
  },
  {
   "cell_type": "markdown",
   "id": "f7c5738a-3343-423c-94d4-4d1ce63f02ed",
   "metadata": {},
   "source": [
    "#### 9.5 shuffle(sequence): Shuffles a mutable sequence in place (e.g., list)."
   ]
  },
  {
   "cell_type": "code",
   "execution_count": 8,
   "id": "55e437fe-cb61-4634-9dc2-647c115bd4a3",
   "metadata": {},
   "outputs": [
    {
     "name": "stdout",
     "output_type": "stream",
     "text": [
      "[1, 4, 2, 3]\n"
     ]
    }
   ],
   "source": [
    "lst = [1, 2, 3, 4]\n",
    "r.shuffle(lst) #library is already imported in the previous cell. Then next cell(s) mein nhi bhi likhenge to chalega\n",
    "print(lst)"
   ]
  },
  {
   "cell_type": "code",
   "execution_count": 10,
   "id": "00a6ea13-e665-4bb3-b4c2-67af169900c6",
   "metadata": {},
   "outputs": [
    {
     "name": "stdout",
     "output_type": "stream",
     "text": [
      "None\n"
     ]
    }
   ],
   "source": [
    "lst2 = r.shuffle(lst)\n",
    "print(lst2)"
   ]
  },
  {
   "cell_type": "code",
   "execution_count": 11,
   "id": "b161fcd1-02a6-4db2-9234-de68d67b566e",
   "metadata": {},
   "outputs": [
    {
     "name": "stdout",
     "output_type": "stream",
     "text": [
      "None\n"
     ]
    }
   ],
   "source": [
    "exec(In[10])"
   ]
  },
  {
   "cell_type": "markdown",
   "id": "387d9ee6-34fa-4c3b-b2d7-b96c8dbb04e8",
   "metadata": {},
   "source": [
    "##### The reason print(lst2) is printing None is because the random.shuffle() function in Python modifies the list in place and does not return a new list."
   ]
  },
  {
   "cell_type": "markdown",
   "id": "97d336d3-80de-4939-962f-22fb67b6f665",
   "metadata": {},
   "source": [
    "#### 9.5 sample(population, k): Returns a list of k unique random elements from a population."
   ]
  },
  {
   "cell_type": "code",
   "execution_count": 12,
   "id": "2e848f6e-87ee-4890-a9e2-ba872819c2a6",
   "metadata": {},
   "outputs": [
    {
     "name": "stdout",
     "output_type": "stream",
     "text": [
      "[8, 2, 10, 3]\n",
      "[4, 6]\n",
      "[97, 4]\n",
      "[55, -62, -81, -88, 66]\n"
     ]
    }
   ],
   "source": [
    "A = [1,2,3,4,5,6,7,8,9,10]\n",
    "\n",
    "print(r.sample(A,4))\n",
    "print(r.sample(A,2))\n",
    "print(r.sample(range(0,100),2))\n",
    "print(r.sample(range(-100,100),5))"
   ]
  },
  {
   "cell_type": "markdown",
   "id": "15230d5a-272f-403d-8461-b96e79dc067d",
   "metadata": {},
   "source": [
    "#### 9.6 randrange(start, stop[, step]): Returns a randomly selected integer from the specified range [start, stop), optionally with a step size."
   ]
  },
  {
   "cell_type": "code",
   "execution_count": 1,
   "id": "ae946339-a94e-4bc9-bf29-b41b9e67d1cd",
   "metadata": {},
   "outputs": [
    {
     "name": "stdout",
     "output_type": "stream",
     "text": [
      "8\n",
      "3\n"
     ]
    }
   ],
   "source": [
    "import random as r\n",
    "print(r.randrange(1, 10))     # Random integer between 1 and 9 (inclusive of 1, exclusive of 10)\n",
    "print(r.randrange(1, 10, 2))  # Random number with step 2 (e.g., 1, 3, 5, 7, 9)\n"
   ]
  },
  {
   "cell_type": "markdown",
   "id": "0ef0caba-5648-4083-a038-7a11af3ba9af",
   "metadata": {},
   "source": [
    "#### 9.7 seed(a=None): Sets the seed for random number generation to produce reproducible results."
   ]
  },
  {
   "cell_type": "code",
   "execution_count": 2,
   "id": "15126a0c-1f82-4698-8bc0-52fce96937c6",
   "metadata": {},
   "outputs": [
    {
     "name": "stdout",
     "output_type": "stream",
     "text": [
      "0.6394267984578837\n"
     ]
    }
   ],
   "source": [
    "r.seed(42)\n",
    "print(r.random())  # Same output if run again\n"
   ]
  },
  {
   "cell_type": "code",
   "execution_count": 3,
   "id": "d5a41696-dfae-4fe1-8356-a473dbf09238",
   "metadata": {},
   "outputs": [
    {
     "name": "stdout",
     "output_type": "stream",
     "text": [
      "0.6394267984578837\n"
     ]
    }
   ],
   "source": [
    "exec(In[2])"
   ]
  },
  {
   "cell_type": "code",
   "execution_count": 4,
   "id": "8e0ca2b3-86e7-439f-aa06-477597b8cc8e",
   "metadata": {},
   "outputs": [
    {
     "name": "stdout",
     "output_type": "stream",
     "text": [
      "0.6394267984578837\n"
     ]
    }
   ],
   "source": [
    "exec(In[2])"
   ]
  },
  {
   "cell_type": "markdown",
   "id": "dcf91179-91f8-4f1a-9dc4-469d32c23f85",
   "metadata": {},
   "source": [
    "#### 9.8 Generate random string"
   ]
  },
  {
   "cell_type": "code",
   "execution_count": 5,
   "id": "b7182cbb-ea38-4ff4-a51a-37030397e3cf",
   "metadata": {},
   "outputs": [
    {
     "name": "stdout",
     "output_type": "stream",
     "text": [
      "String        -->  abcdefghijklmnopqrstuvwxyzABCDEFGHIJKLMNOPQRSTUVWXYZ\n",
      "Selected Char -->  ['b', 'V', 'r', 'p', 'o', 'i']\n",
      "passwd1       -->  bVrpoi\n",
      "passwd2       -->  b+V+r+p+o+i\n",
      "passwd3       -->  b*V*r*p*o*i\n"
     ]
    }
   ],
   "source": [
    "import string as s\n",
    "import random as r\n",
    "print(\"String        --> \",s.ascii_letters)\n",
    "\n",
    "passwd = r.sample(s.ascii_letters,6)\n",
    "print('Selected Char --> ',passwd)\n",
    "\n",
    "passwd1 = \"\".join(passwd)\n",
    "print(\"passwd1       --> \",passwd1)\n",
    "\n",
    "passwd2 = \"+\".join(passwd)\n",
    "print(\"passwd2       --> \",passwd2)\n",
    "\n",
    "passwd3 = \"*\".join(passwd)\n",
    "print(\"passwd3       --> \",passwd3)"
   ]
  },
  {
   "cell_type": "code",
   "execution_count": 6,
   "id": "5e374561-9eb6-4f90-8845-5150eb2cc72b",
   "metadata": {},
   "outputs": [
    {
     "name": "stdout",
     "output_type": "stream",
     "text": [
      "passwd4       -->  b#V#r#p#o#i\n"
     ]
    }
   ],
   "source": [
    "passwd4 = \"#\".join(passwd)\n",
    "print(\"passwd4       --> \",passwd4)"
   ]
  },
  {
   "cell_type": "code",
   "execution_count": 7,
   "id": "8083e56c-0030-4c0f-a13e-de61f6a5cce5",
   "metadata": {},
   "outputs": [
    {
     "name": "stdout",
     "output_type": "stream",
     "text": [
      "b % # % V % # % r % # % p % # % o % # % i\n"
     ]
    }
   ],
   "source": [
    "passwd5 = \" % \".join(passwd4)\n",
    "print(passwd5)"
   ]
  },
  {
   "cell_type": "markdown",
   "id": "5500780f-1322-4fed-be28-c8186f2c116c",
   "metadata": {},
   "source": [
    "#### 9.9 Generate random digits"
   ]
  },
  {
   "cell_type": "code",
   "execution_count": 8,
   "id": "8482f010-52e1-4dda-97b3-38c54dd04cd2",
   "metadata": {},
   "outputs": [
    {
     "name": "stdout",
     "output_type": "stream",
     "text": [
      "Digits        -->  0123456789\n",
      "Selected num1 -->  ['1', '8', '9', '4', '3', '0']\n",
      "otp           -->  189430\n",
      "Selected num2 -->  ['0', '1', '3', '8', '4', '5']\n",
      "otp           -->  013845\n",
      "Selected num3 -->  ['0', '8', '3', '5', '6', '4']\n",
      "otp           -->  083564\n"
     ]
    }
   ],
   "source": [
    "import string as s\n",
    "import random as r\n",
    "print(\"Digits        --> \",s.digits)\n",
    "\n",
    "otp = r.sample(s.digits,6)\n",
    "print(\"Selected num1 --> \",otp)\n",
    "otp = \"\".join(otp)\n",
    "print(\"otp           --> \",otp)\n",
    "\n",
    "otp = r.sample(s.digits,6)\n",
    "print(\"Selected num2 --> \",otp)\n",
    "otp = \"\".join(otp)\n",
    "print(\"otp           --> \",otp)\n",
    "\n",
    "otp = r.sample(s.digits,6)\n",
    "print(\"Selected num3 --> \",otp)\n",
    "otp = \"\".join(otp)\n",
    "print(\"otp           --> \",otp)"
   ]
  },
  {
   "cell_type": "markdown",
   "id": "a8424e38-89c4-4815-9fe5-a450c0857a54",
   "metadata": {},
   "source": [
    "#### 9.10 Generate random string + digits"
   ]
  },
  {
   "cell_type": "code",
   "execution_count": 9,
   "id": "1ab6723c-2286-4059-ae14-f4c392d3c286",
   "metadata": {},
   "outputs": [
    {
     "name": "stdout",
     "output_type": "stream",
     "text": [
      "String + Digits -->  abcdefghijklmnopqrstuvwxyzABCDEFGHIJKLMNOPQRSTUVWXYZ0123456789\n",
      "\n",
      "Selected str1 -->  ['A', 'o', 'C', 'L', 'r']\n",
      "mixPasswd1    -->  AoCLr\n",
      "\n",
      "Selected str2 -->  ['Z', '3', 'a', 'W', 'k']\n",
      "mixPasswd2    -->  Z3aWk\n"
     ]
    }
   ],
   "source": [
    "import string as s\n",
    "import random as r\n",
    "print(\"String + Digits --> \", s.ascii_letters + s.digits)\n",
    "\n",
    "mixPasswd = r.sample(s.ascii_letters + s.digits, 5)\n",
    "print(\"\\nSelected str1 --> \",mixPasswd)\n",
    "mixPasswd = \"\".join(mixPasswd)\n",
    "print(\"mixPasswd1    --> \",mixPasswd)\n",
    "\n",
    "mixPasswd = r.sample(s.ascii_letters + s.digits, 5)\n",
    "print(\"\\nSelected str2 --> \",mixPasswd)\n",
    "mixPasswd = \"\".join(mixPasswd)\n",
    "print(\"mixPasswd2    --> \",mixPasswd)"
   ]
  },
  {
   "cell_type": "code",
   "execution_count": 11,
   "id": "e283e010-a0b0-4a30-8cf9-1c2798ec942a",
   "metadata": {},
   "outputs": [
    {
     "name": "stdout",
     "output_type": "stream",
     "text": [
      "\n",
      "Selected str3 -->  ['B', '=', 'y', 'x', '4', 'm', '^', 'L']\n",
      "mixPasswd3    -->  B=yx4m^L\n"
     ]
    }
   ],
   "source": [
    "splChar = \"@#!$%^&*()_+=-[]{}|~?\"\n",
    "mixPasswd = r.sample(splChar + s.ascii_letters + s.digits, 8)\n",
    "print(\"\\nSelected str3 --> \",mixPasswd)\n",
    "mixPasswd = \"\".join(mixPasswd)\n",
    "print(\"mixPasswd3    --> \",mixPasswd)"
   ]
  },
  {
   "cell_type": "code",
   "execution_count": 12,
   "id": "a681bf63-068e-4b4f-b7a7-31b1d0e4a0e8",
   "metadata": {},
   "outputs": [
    {
     "name": "stdout",
     "output_type": "stream",
     "text": [
      "\n",
      "Selected str3 -->  ['V', ']', 'B', '_', 'X', 'q', 'z', '0']\n",
      "mixPasswd3    -->  V]B_Xqz0\n"
     ]
    }
   ],
   "source": [
    "exec(In[11])"
   ]
  },
  {
   "cell_type": "code",
   "execution_count": null,
   "id": "0c5d202c-43fd-4471-a690-12f6a6d7441f",
   "metadata": {},
   "outputs": [],
   "source": []
  }
 ],
 "metadata": {
  "kernelspec": {
   "display_name": "Python 3 (ipykernel)",
   "language": "python",
   "name": "python3"
  },
  "language_info": {
   "codemirror_mode": {
    "name": "ipython",
    "version": 3
   },
   "file_extension": ".py",
   "mimetype": "text/x-python",
   "name": "python",
   "nbconvert_exporter": "python",
   "pygments_lexer": "ipython3",
   "version": "3.12.7"
  }
 },
 "nbformat": 4,
 "nbformat_minor": 5
}
