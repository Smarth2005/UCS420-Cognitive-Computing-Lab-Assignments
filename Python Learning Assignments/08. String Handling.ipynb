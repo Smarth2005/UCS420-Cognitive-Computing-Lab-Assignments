{
 "cells": [
  {
   "cell_type": "markdown",
   "id": "8ac820d8-9e93-42f4-815f-798e3f256124",
   "metadata": {},
   "source": [
    "## 8. String Handling"
   ]
  },
  {
   "cell_type": "markdown",
   "id": "86cb3478-9fb8-42cb-8da6-6be7ee6bf1f2",
   "metadata": {},
   "source": [
    "#### 8.1 Indexing in String"
   ]
  },
  {
   "cell_type": "code",
   "execution_count": 1,
   "id": "7a4006ff-64bc-42f8-8c7d-77d567116a93",
   "metadata": {},
   "outputs": [
    {
     "name": "stdout",
     "output_type": "stream",
     "text": [
      "var      -->  Hello World!\n",
      "var[0]   -->  H\n",
      "var[1:5] -->  ello\n",
      "var[:-5] -->  Hello W\n"
     ]
    }
   ],
   "source": [
    "var = 'Hello World!'\n",
    "print(\"var      --> \", var)\n",
    "print(\"var[0]   --> \", var[0])\n",
    "print(\"var[1:5] --> \", var[1:5])\n",
    "print(\"var[:-5] --> \", var[:-5])"
   ]
  },
  {
   "cell_type": "markdown",
   "id": "f2bbb55a-b858-440b-83fa-382f11c8200d",
   "metadata": {},
   "source": [
    "#### 8.2 String length, upper, lower "
   ]
  },
  {
   "cell_type": "code",
   "execution_count": 2,
   "id": "cb7a92a5-d6ff-4389-a8f1-534a90401d81",
   "metadata": {},
   "outputs": [
    {
     "name": "stdout",
     "output_type": "stream",
     "text": [
      "String        -->  Hello World!\n",
      "String length -->  12\n",
      "upper         -->  HELLO WORLD!\n",
      "lower         -->  hello world!\n"
     ]
    }
   ],
   "source": [
    "var = 'Hello World!'\n",
    "print(\"String        --> \", var)\n",
    "print(\"String length --> \", len(var))\n",
    "print(\"upper         --> \", var.upper())\n",
    "print(\"lower         --> \", var.lower())"
   ]
  },
  {
   "cell_type": "markdown",
   "id": "ed150414-6326-4805-ae8d-9c958d961b7c",
   "metadata": {},
   "source": [
    "#### 8.3 String formatting"
   ]
  },
  {
   "cell_type": "code",
   "execution_count": 3,
   "id": "564582af-b0cc-4dae-8a5c-b892b59da63a",
   "metadata": {},
   "outputs": [
    {
     "name": "stdin",
     "output_type": "stream",
     "text": [
      "Enter your name:  Smarth\n",
      "Enter your age:  19\n",
      "Enter the book price:  499.99\n"
     ]
    },
    {
     "name": "stdout",
     "output_type": "stream",
     "text": [
      "\n",
      "Your name is SMARTH, age is 19 and book price is 499.990000\n"
     ]
    }
   ],
   "source": [
    "name = input(\"Enter your name: \")\n",
    "age = int(input(\"Enter your age: \"))\n",
    "price = float(input(\"Enter the book price: \"))\n",
    "s = \"\\nYour name is %s, age is %d and book price is %f\" %(name.upper(),age,price)\n",
    "print(s)"
   ]
  },
  {
   "cell_type": "markdown",
   "id": "ac3c63ec-9655-4edb-861a-884302e407f6",
   "metadata": {},
   "source": [
    "#### 8.4 String in Triple Quotes"
   ]
  },
  {
   "cell_type": "code",
   "execution_count": 4,
   "id": "6e49d852-8970-476a-af3c-7430c5c1d5a6",
   "metadata": {},
   "outputs": [
    {
     "name": "stdout",
     "output_type": "stream",
     "text": [
      "This is a long string that is made up of\n",
      "several lines and non-printable characters such as \n",
      "TAB (\t) and they will show up that way when displayed.\n",
      "NEWLINEs within the string, whether explicitly given like this within the brackets [\n",
      "], \n",
      "or just a NEWLINE within the variable assignment will also show up.\n"
     ]
    }
   ],
   "source": [
    "para_str = \"\"\"This is a long string that is made up of\n",
    "several lines and non-printable characters such as \n",
    "TAB (\\t) and they will show up that way when displayed.\n",
    "NEWLINEs within the string, whether explicitly given like this within the brackets [\\n], \n",
    "or just a NEWLINE within the variable assignment will also show up.\"\"\"\n",
    "\n",
    "print(para_str)"
   ]
  },
  {
   "cell_type": "markdown",
   "id": "5d83dc94-a554-4cd2-ba9f-64bfe2a53c57",
   "metadata": {},
   "source": [
    "#### 8.5 String strip"
   ]
  },
  {
   "cell_type": "code",
   "execution_count": 5,
   "id": "2bc57fc7-94f4-48c3-9e66-dc2b255e5a0a",
   "metadata": {},
   "outputs": [
    {
     "name": "stdout",
     "output_type": "stream",
     "text": [
      "String        -->    Indian     Army       \n",
      "String length -->  24\n",
      "var strip     -->  Indian     Army\n",
      "Length of var after strip() -->  15\n"
     ]
    }
   ],
   "source": [
    "var = \"  Indian     Army       \" # 2,5,7 spaces respectively\n",
    "print(\"String        --> \", var)\n",
    "print(\"String length --> \", len(var))\n",
    "print(\"var strip     --> \", var.strip()) \n",
    "print(\"Length of var after strip() --> \", len(var.strip()))"
   ]
  },
  {
   "cell_type": "markdown",
   "id": "856e2ac9-ad72-4921-a46a-2eccce4d673e",
   "metadata": {},
   "source": [
    "Use Case: The strip() method in Python is used to remove leading and trailing characters (whitespace by default) from a string. It’s commonly used for cleaning up user input or processing text data."
   ]
  },
  {
   "cell_type": "code",
   "execution_count": 6,
   "id": "ea0389c4-32b6-48b4-bd4d-686754237f72",
   "metadata": {},
   "outputs": [
    {
     "name": "stdout",
     "output_type": "stream",
     "text": [
      "Greetings\n"
     ]
    }
   ],
   "source": [
    "text = \"###Greetings###\"\n",
    "print(text.strip(\"#\"))"
   ]
  },
  {
   "cell_type": "code",
   "execution_count": 7,
   "id": "67c33ab2-c915-4a79-9a5c-6052203aafa8",
   "metadata": {},
   "outputs": [
    {
     "name": "stdout",
     "output_type": "stream",
     "text": [
      "Sometimes you just have to go with the flow and let life take you where it wants to go.\n"
     ]
    }
   ],
   "source": [
    "message = '@@@@@@Sometimes you just have to go with the flow and let life take you where it wants to go.@@@'\n",
    "print(message.strip('@'))"
   ]
  },
  {
   "cell_type": "markdown",
   "id": "809a1905-b50e-4b13-a4e0-63a70df6e9b4",
   "metadata": {},
   "source": [
    "#### 8.6 String split"
   ]
  },
  {
   "cell_type": "code",
   "execution_count": 9,
   "id": "94f01670-54a6-4ab2-a76e-d5e39f53ad42",
   "metadata": {},
   "outputs": [
    {
     "name": "stdout",
     "output_type": "stream",
     "text": [
      "String        -->    Indian,     Army   \n",
      "String length -->  21\n",
      "var split     -->  ['Indian,', 'Army']\n",
      "var split     -->  ['', '', 'Indian,', '', '', '', '', 'Army', '', '', '']\n",
      "var split     -->  ['  Indian', '     Army   ']\n"
     ]
    }
   ],
   "source": [
    "var = '  Indian,     Army   ' # 2,5,3 spaces respectively\n",
    "print(\"String        --> \", var)\n",
    "print(\"String length --> \", len(var))\n",
    "print(\"var split     --> \", var.split()) \n",
    "print(\"var split     --> \", var.split(' '))\n",
    "print(\"var split     --> \", var.split(','))"
   ]
  },
  {
   "cell_type": "code",
   "execution_count": 10,
   "id": "3a8c86ab-2bd2-48e9-9a19-1eeacab8eea1",
   "metadata": {},
   "outputs": [
    {
     "name": "stdout",
     "output_type": "stream",
     "text": [
      "var split    -->  ['Indian', '     Army']\n"
     ]
    }
   ],
   "source": [
    "# strip + split\n",
    "print(\"var split    --> \", var.strip().split(','))"
   ]
  },
  {
   "cell_type": "markdown",
   "id": "a6b13b3b-51e5-408b-a856-8c4175319d63",
   "metadata": {},
   "source": [
    "The split() method in Python is used to divide a string into a list of substrings based on a specified delimiter (separator). If no delimiter is provided, it splits the string at whitespace by default.\n",
    "\n",
    "##### _Syntax : string.split( [separator], [maxsplit] )_\n",
    "\n",
    "separator (optional): Specifies the delimiter where the string is split. By default, it is whitespace.\n",
    "maxsplit (optional): Specifies the maximum number of splits. If not provided, there is no limit on the number of splits.\n"
   ]
  },
  {
   "cell_type": "code",
   "execution_count": 13,
   "id": "2d23f3a9-332b-45af-a0f1-6d7f002fa101",
   "metadata": {},
   "outputs": [
    {
     "name": "stdout",
     "output_type": "stream",
     "text": [
      "['Hello', 'world!', 'Welcome', 'to', 'Python.']\n"
     ]
    }
   ],
   "source": [
    "# Split by default (Whitespace)\n",
    "text = \"Hello world! Welcome to Python.\"\n",
    "result = text.split()\n",
    "print(result)"
   ]
  },
  {
   "cell_type": "code",
   "execution_count": 14,
   "id": "01015354-1cb4-4d45-b876-1650888d58b0",
   "metadata": {},
   "outputs": [
    {
     "name": "stdout",
     "output_type": "stream",
     "text": [
      "['apple', 'banana', 'cherry']\n"
     ]
    }
   ],
   "source": [
    "# Split by a specific separator\n",
    "text = \"apple,banana,cherry\"\n",
    "result = text.split(\",\")\n",
    "print(result)"
   ]
  },
  {
   "cell_type": "code",
   "execution_count": 15,
   "id": "6b9a2238-4ae7-4e4a-84d5-1b3dcf67e0b1",
   "metadata": {},
   "outputs": [
    {
     "name": "stdout",
     "output_type": "stream",
     "text": [
      "['one', 'two', 'three, four, five']\n"
     ]
    }
   ],
   "source": [
    "# Split with a limit (maxsplit)\n",
    "text = \"one, two, three, four, five\"\n",
    "result = text.split(\", \", 2)\n",
    "print(result)"
   ]
  },
  {
   "cell_type": "code",
   "execution_count": 16,
   "id": "d1154f31-2eb8-4e00-8ea5-7f55b7c926bd",
   "metadata": {},
   "outputs": [
    {
     "name": "stdout",
     "output_type": "stream",
     "text": [
      "['Python', 'is', 'fun']\n"
     ]
    }
   ],
   "source": [
    "# Split without specifying separator\n",
    "text = \"   Python  is   fun   \"\n",
    "result = text.split()\n",
    "print(result)"
   ]
  },
  {
   "cell_type": "code",
   "execution_count": 17,
   "id": "104461cd-0bd5-4c49-8012-e14206f4b978",
   "metadata": {},
   "outputs": [
    {
     "name": "stdout",
     "output_type": "stream",
     "text": [
      "['name', 'age', 'city']\n"
     ]
    }
   ],
   "source": [
    "# Split using a custom delimiter\n",
    "text = \"name|age|city\"\n",
    "result = text.split(\"|\")\n",
    "print(result)"
   ]
  },
  {
   "cell_type": "markdown",
   "id": "43ea4c59-4b8d-473e-99b1-f509a24e25c2",
   "metadata": {},
   "source": [
    "#### 8.7 Count in string"
   ]
  },
  {
   "cell_type": "code",
   "execution_count": 18,
   "id": "ec228d97-13f1-45e3-835d-de62ccd24e60",
   "metadata": {},
   "outputs": [
    {
     "name": "stdout",
     "output_type": "stream",
     "text": [
      "String -->  Party all night\n",
      "Count of ' ' -->  2\n",
      "Count of 'a' -->  2\n",
      "Count of 'p' -->  0\n"
     ]
    }
   ],
   "source": [
    "myString = \"Party all night\"\n",
    "print(\"String --> \", myString)\n",
    "print(\"Count of ' ' --> \", myString.count(' '))\n",
    "print(\"Count of 'a' --> \", myString.count('a'))\n",
    "print(\"Count of 'p' --> \", myString.count('p'))"
   ]
  },
  {
   "cell_type": "markdown",
   "id": "2c2948dd-3508-4d50-b259-9faebed619f1",
   "metadata": {},
   "source": [
    "#### 8.8 Reverse a String"
   ]
  },
  {
   "cell_type": "code",
   "execution_count": 19,
   "id": "17242135-9da6-4b22-b96c-282923d0d3eb",
   "metadata": {},
   "outputs": [
    {
     "name": "stdout",
     "output_type": "stream",
     "text": [
      "String     -->  Mobiles are the cigarettes of the digital age\n",
      "text[::1]  -->  Mobiles are the cigarettes of the digital age\n",
      "text[::2]  -->  Mblsaetecgrte ftedgtlae\n",
      "text[::-1] -->  ega latigid eht fo setteragic eht era seliboM\n",
      "text[::-2] -->  ealtgdetf etrgceteaslbM\n",
      "String after reverse -->  ega latigid eht fo setteragic eht era seliboM\n"
     ]
    }
   ],
   "source": [
    "text = \"Mobiles are the cigarettes of the digital age\"\n",
    "print(\"String     --> \", text)\n",
    "print(\"text[::1]  --> \", text[::1])\n",
    "print(\"text[::2]  --> \", text[::2])\n",
    "print(\"text[::-1] --> \", text[::-1])\n",
    "print(\"text[::-2] --> \", text[::-2])\n",
    "\n",
    "text = text[::-1]\n",
    "print(\"String after reverse --> \", text)"
   ]
  },
  {
   "cell_type": "markdown",
   "id": "4a2452e2-50fe-47d5-8c96-eab4794492b9",
   "metadata": {},
   "source": [
    "#### 8.9 Palindrome"
   ]
  },
  {
   "cell_type": "code",
   "execution_count": 21,
   "id": "67afa1be-b6fb-4c42-adb3-c5ba9dfd719e",
   "metadata": {},
   "outputs": [
    {
     "name": "stdout",
     "output_type": "stream",
     "text": [
      "s1 -->  True\n",
      "s2 -->  False\n",
      "s3 -->  True\n",
      "s4 -->  True\n",
      "s5 -->  True\n",
      "s6 -->  False\n",
      "s7 -->  True\n",
      "s8 -->  False\n"
     ]
    }
   ],
   "source": [
    "s1 = \"malayalam\"\n",
    "s2 = 'team'\n",
    "s3 = \"madam\"\n",
    "s4 = 'racecar'\n",
    "s5 = \"dogeeseseegod\"\n",
    "s6 = \"Do Geese see God\"\n",
    "s7 = \"NOLEMONNOMELON\"\n",
    "s8 = \"No Lemon No Melon\"\n",
    "\n",
    "print(\"s1 --> \", s1 == s1[::-1])\n",
    "print(\"s2 --> \", s2 == s2[::-1])\n",
    "print(\"s3 --> \", s3 == s3[::-1])\n",
    "print(\"s4 --> \", s4 == s4[::-1])\n",
    "print(\"s5 --> \", s5 == s5[::-1])\n",
    "print(\"s6 --> \", s6 == s6[::-1])\n",
    "print(\"s7 --> \", s7 == s7[::-1])\n",
    "print(\"s8 --> \", s8 == s8[::-1])\n"
   ]
  }
 ],
 "metadata": {
  "kernelspec": {
   "display_name": "Python 3 (ipykernel)",
   "language": "python",
   "name": "python3"
  },
  "language_info": {
   "codemirror_mode": {
    "name": "ipython",
    "version": 3
   },
   "file_extension": ".py",
   "mimetype": "text/x-python",
   "name": "python",
   "nbconvert_exporter": "python",
   "pygments_lexer": "ipython3",
   "version": "3.12.7"
  }
 },
 "nbformat": 4,
 "nbformat_minor": 5
}
