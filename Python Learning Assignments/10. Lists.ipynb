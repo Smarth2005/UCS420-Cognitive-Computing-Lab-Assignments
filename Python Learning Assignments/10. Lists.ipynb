{
 "cells": [
  {
   "cell_type": "markdown",
   "id": "323720fd-c13e-4793-98f9-5988068fb03a",
   "metadata": {},
   "source": [
    "## 10. Data Structure 1 - List"
   ]
  },
  {
   "cell_type": "markdown",
   "id": "709c4153-023f-417f-a991-098072676966",
   "metadata": {},
   "source": [
    "#### 10.1 List Declaration"
   ]
  },
  {
   "cell_type": "code",
   "execution_count": 1,
   "id": "0ff91a2c-d92c-48e7-93ff-0faf6c1d4f52",
   "metadata": {},
   "outputs": [
    {
     "name": "stdout",
     "output_type": "stream",
     "text": [
      "Original List:  ['Pratham', 'Sharma', 3.14, 3]\n",
      "Number of elements in list:  4\n"
     ]
    }
   ],
   "source": [
    "L = [\"Pratham\", 'Sharma', 3.14, 3]\n",
    "print(\"Original List: \", L)\n",
    "print(\"Number of elements in list: \", len(L))"
   ]
  },
  {
   "cell_type": "code",
   "execution_count": 2,
   "id": "563ef8d3-e817-4f39-abe6-f2bad0260186",
   "metadata": {},
   "outputs": [
    {
     "name": "stdout",
     "output_type": "stream",
     "text": [
      "Pratham\n",
      "3\n"
     ]
    }
   ],
   "source": [
    "print(L[0])\n",
    "print(L[3])"
   ]
  },
  {
   "cell_type": "markdown",
   "id": "402d6efa-ce87-48dc-90a4-5e55779179e0",
   "metadata": {},
   "source": [
    "#### 10.2 List Iteration"
   ]
  },
  {
   "cell_type": "markdown",
   "id": "008292e3-852f-4af7-9ada-b4fb6c1f6fca",
   "metadata": {},
   "source": [
    "#### 10.2.1 Iteration using While loop"
   ]
  },
  {
   "cell_type": "code",
   "execution_count": 3,
   "id": "42cce70e-6e5e-4a92-9f42-d51cd4385379",
   "metadata": {},
   "outputs": [
    {
     "name": "stdout",
     "output_type": "stream",
     "text": [
      "Original List:  ['Pratham', 'Sharma', 3.14, 3]\n",
      "Pratham\n",
      "Sharma\n",
      "3.14\n",
      "3\n"
     ]
    }
   ],
   "source": [
    "L = [\"Pratham\", 'Sharma', 3.14, 3]\n",
    "print(\"Original List: \", L)\n",
    "i = 0\n",
    "while i < len(L):\n",
    "    print(L[i])\n",
    "    i += 1"
   ]
  },
  {
   "cell_type": "markdown",
   "id": "04650b67-4439-4c9c-aade-0d33013a03b4",
   "metadata": {},
   "source": [
    "#### 10.2.2 Iteration using for loop - Version 1"
   ]
  },
  {
   "cell_type": "code",
   "execution_count": 4,
   "id": "84041988-d15f-4986-a9e9-a2351184bdac",
   "metadata": {},
   "outputs": [
    {
     "name": "stdout",
     "output_type": "stream",
     "text": [
      "Pratham\n",
      "Sharma\n",
      "3.14\n",
      "3\n"
     ]
    }
   ],
   "source": [
    "for i in range(0,len(L)):\n",
    "    print(L[i])"
   ]
  },
  {
   "cell_type": "markdown",
   "id": "e9962ec3-6361-4bf4-b292-958cee1e08f7",
   "metadata": {},
   "source": [
    "#### 10.2.3 Iteration using for loop - Version 2"
   ]
  },
  {
   "cell_type": "code",
   "execution_count": 5,
   "id": "0442e6c3-2c3b-4f2a-a9d5-8cc860605b5c",
   "metadata": {},
   "outputs": [
    {
     "name": "stdout",
     "output_type": "stream",
     "text": [
      "Pratham\n",
      "Sharma\n",
      "3.14\n",
      "3\n"
     ]
    }
   ],
   "source": [
    "for s in L:\n",
    "    print(s)"
   ]
  },
  {
   "cell_type": "markdown",
   "id": "03296268-632d-4c04-8068-81f3657bc1bf",
   "metadata": {},
   "source": [
    "#### 10.3 Adding and deleting from list"
   ]
  },
  {
   "cell_type": "code",
   "execution_count": 6,
   "id": "86f097b3-12f7-4a32-821c-814e5e5f6e9c",
   "metadata": {},
   "outputs": [
    {
     "name": "stdout",
     "output_type": "stream",
     "text": [
      "Original list       -->  ['Pratham', 'Sharma', 3.14, 3]\n",
      "List after adding   -->  ['Pratham', 'Sharma', 3.14, 3, 'Rahul']\n",
      "List after deleting -->  ['Pratham', 3.14, 3, 'Rahul']\n"
     ]
    }
   ],
   "source": [
    "L = [\"Pratham\",'Sharma',3.14,3]\n",
    "print(\"Original list       --> \",L)\n",
    "\n",
    "L.append(\"Rahul\")\n",
    "print(\"List after adding   --> \", L)\n",
    "\n",
    "del L[1]\n",
    "print(\"List after deleting --> \", L)"
   ]
  },
  {
   "cell_type": "code",
   "execution_count": 7,
   "id": "4a179eea-7fc2-4868-b59a-57ee9f896a86",
   "metadata": {},
   "outputs": [
    {
     "data": {
      "text/plain": [
       "'Rahul'"
      ]
     },
     "execution_count": 7,
     "metadata": {},
     "output_type": "execute_result"
    }
   ],
   "source": [
    "L.pop()"
   ]
  },
  {
   "cell_type": "code",
   "execution_count": 8,
   "id": "865e055b-a07e-43d0-a237-74ffa82594b5",
   "metadata": {},
   "outputs": [
    {
     "name": "stdout",
     "output_type": "stream",
     "text": [
      "List after pop operation:  ['Pratham', 3.14, 3]\n"
     ]
    }
   ],
   "source": [
    "print(\"List after pop operation: \",L)"
   ]
  },
  {
   "cell_type": "markdown",
   "id": "f3b71e42-44bf-4180-a314-b6bdc96c2948",
   "metadata": {},
   "source": [
    "#### 10.4 Sum/Average of List"
   ]
  },
  {
   "cell_type": "code",
   "execution_count": 9,
   "id": "c4ba12d8-72a2-4c4d-8409-b51d28497957",
   "metadata": {},
   "outputs": [
    {
     "name": "stdout",
     "output_type": "stream",
     "text": [
      "Original list -->  [3, 6, 9, 12, 5, 3, 2]\n",
      "Sum           -->  40\n",
      "Average       -->  5.714285714285714\n",
      "Average       -->  5\n",
      "L * 3         -->  [3, 6, 9, 12, 5, 3, 2, 3, 6, 9, 12, 5, 3, 2, 3, 6, 9, 12, 5, 3, 2]\n",
      "L + L         -->  [3, 6, 9, 12, 5, 3, 2, 3, 6, 9, 12, 5, 3, 2]\n"
     ]
    }
   ],
   "source": [
    "L = [3,6,9,12,5,3,2]\n",
    "print(\"Original list --> \",L)\n",
    "\n",
    "print(\"Sum           --> \",sum(L))\n",
    "print(\"Average       --> \",sum(L)/len(L))\n",
    "print(\"Average       --> \",sum(L)//len(L))\n",
    "print(\"L * 3         --> \",L*3)             # Every element gets tripled\n",
    "print(\"L + L         --> \",L+L)             # Every element gets doubled"
   ]
  },
  {
   "cell_type": "markdown",
   "id": "7d33c130-8101-4d17-a499-81809b713a37",
   "metadata": {},
   "source": [
    "#### 10.5 Min / Max / Sort / Reverse the list"
   ]
  },
  {
   "cell_type": "code",
   "execution_count": 11,
   "id": "6ea1b5f0-bd7b-4998-9aa4-c5c32c486319",
   "metadata": {},
   "outputs": [
    {
     "name": "stdout",
     "output_type": "stream",
     "text": [
      "Original list:  [12, 9, 6, 5, 3, 3, 2]\n",
      "maximum element :  12\n",
      "minimum element :  3\n",
      "\n",
      "Before Sort            :  [3, 6, 9, 12, 5, 8, 4, 7]\n",
      "After Sort (Ascending) :  [3, 4, 5, 6, 7, 8, 9, 12]\n",
      "After Sort (Descending):  [12, 9, 8, 7, 6, 5, 4, 3]\n"
     ]
    }
   ],
   "source": [
    "lst = [3,6,9,12,5,8,4,7]\n",
    "print(\"Original list: \",L)\n",
    "\n",
    "print(\"maximum element : \",max(lst))\n",
    "print(\"minimum element : \",min(lst))\n",
    "\n",
    "print(\"\\nBefore Sort            : \",lst)\n",
    "lst.sort()\n",
    "print(\"After Sort (Ascending) : \",lst)\n",
    "\n",
    "lst.sort(reverse= True)\n",
    "print(\"After Sort (Descending): \",lst)"
   ]
  },
  {
   "cell_type": "code",
   "execution_count": 13,
   "id": "cfaa94e3-3532-4673-8032-9a7aebbfc42b",
   "metadata": {},
   "outputs": [
    {
     "name": "stdout",
     "output_type": "stream",
     "text": [
      "Original list:  [12, 34, 67, 98, 11, 8]\n",
      "Reversed list:  [8, 11, 98, 67, 34, 12]\n"
     ]
    }
   ],
   "source": [
    "lst = [12, 34, 67, 98, 11, 8]\n",
    "print(\"Original list: \",lst)\n",
    "\n",
    "lst.reverse()\n",
    "print(\"Reversed list: \",lst)"
   ]
  },
  {
   "cell_type": "markdown",
   "id": "05fac959-440f-4be1-b183-e7230e0304ef",
   "metadata": {},
   "source": [
    "#### 10.6 Merge lists and select elements"
   ]
  },
  {
   "cell_type": "code",
   "execution_count": 15,
   "id": "23d3b853-b075-447b-a809-c7bd4204bd08",
   "metadata": {},
   "outputs": [
    {
     "name": "stdout",
     "output_type": "stream",
     "text": [
      "L1 :  [3, 6, 9]\n",
      "L2 :  [12, 5, 3, 2]\n",
      "L3 :  [3, 6, 9, 12, 5, 3, 2]\n",
      "\n",
      "L3[2:]  :  [9, 12, 5, 3, 2]\n",
      "L3[2:5] :  [9, 12, 5]\n",
      "L3[:-1] :  [3, 6, 9, 12, 5, 3]\n",
      "L3[::2] :  [3, 9, 5, 2]\n"
     ]
    }
   ],
   "source": [
    "L1 = [3,6,9]\n",
    "L2 = [12,5,3,2]\n",
    "L3 = L1 + L2\n",
    "print(\"L1 : \",L1)\n",
    "print(\"L2 : \",L2)\n",
    "print(\"L3 : \",L3)\n",
    "\n",
    "print(\"\\nL3[2:]  : \",L3[2:])\n",
    "print(\"L3[2:5] : \", L3[2:5])\n",
    "print(\"L3[:-1] : \", L3[:-1])\n",
    "print(\"L3[::2] : \", L3[::2])"
   ]
  },
  {
   "cell_type": "markdown",
   "id": "87fd9c8f-d638-4984-ae20-8d2a20695ca8",
   "metadata": {},
   "source": [
    "#### 10.7 Multiply all elements of the list by a constant"
   ]
  },
  {
   "cell_type": "code",
   "execution_count": 16,
   "id": "985214b5-1185-4461-bd5a-b596994c11c8",
   "metadata": {},
   "outputs": [
    {
     "name": "stdout",
     "output_type": "stream",
     "text": [
      "Original list:  [12, 5, 3, 2, 7]\n",
      "List after multiplying with constant :  [60, 25, 15, 10, 35]\n"
     ]
    }
   ],
   "source": [
    "L = [12,5,3,2,7]\n",
    "print(\"Original list: \",L)\n",
    "\n",
    "newL = [i * 5 for i in L]\n",
    "print(\"List after multiplying with constant : \",newL)"
   ]
  },
  {
   "cell_type": "markdown",
   "id": "220a1aa2-5787-4ff1-9351-c5c1d8de07cc",
   "metadata": {},
   "source": [
    "#### 10.8 Searching in the list"
   ]
  },
  {
   "cell_type": "code",
   "execution_count": 17,
   "id": "164e0336-9548-4e91-9bac-fb09611c8e12",
   "metadata": {},
   "outputs": [
    {
     "name": "stdout",
     "output_type": "stream",
     "text": [
      "True\n",
      "False\n",
      "False\n",
      "True\n",
      "Present\n",
      "Not Present\n"
     ]
    }
   ],
   "source": [
    "L = [3,6,12,5,3,2,7]\n",
    "print(6 in L) # Use of the 'in' operator\n",
    "print(14 in L)\n",
    "print(10 in L)\n",
    "print(7 in L)\n",
    "\n",
    "if (6 in L) == True:\n",
    "    print(\"Present\")\n",
    "else: \n",
    "    print(\"Not Present\")\n",
    "\n",
    "if (10 in L) == False:\n",
    "    print(\"Not Present\")\n",
    "else:\n",
    "    print(\"Present\")"
   ]
  },
  {
   "cell_type": "code",
   "execution_count": 18,
   "id": "b5b3b071-a6e4-4085-9b12-e64aeeac9e69",
   "metadata": {},
   "outputs": [
    {
     "name": "stdout",
     "output_type": "stream",
     "text": [
      "Present\n"
     ]
    }
   ],
   "source": [
    "if 10 in L == False:\n",
    "    print(\"Not Present\")\n",
    "else:\n",
    "    print(\"Present\")"
   ]
  },
  {
   "cell_type": "markdown",
   "id": "642486bd-fdd4-443b-b697-0f9797f3e2ae",
   "metadata": {},
   "source": [
    "**Discuss**"
   ]
  },
  {
   "cell_type": "markdown",
   "id": "ea779aa7-8a11-4d05-8298-b94494c39769",
   "metadata": {},
   "source": [
    "#### Exploring more about lists:"
   ]
  },
  {
   "cell_type": "markdown",
   "id": "bf2dbcc8-5abb-4cd6-88dd-aa9b948968b8",
   "metadata": {},
   "source": [
    "#### List Operations in Python\n",
    "\n",
    "| **Operation**     | **Syntax**            | **Description**                                |\n",
    "|--------------------|-----------------------|------------------------------------------------|\n",
    "| **Access**         | `list[index]`        | Get an item at a specific index.              |\n",
    "| **Slice**          | `list[start:end]`    | Extract a sublist from `start` to `end-1`.    |\n",
    "| **Append**         | `list.append(x)`     | Add `x` to the end of the list.               |\n",
    "| **Extend**         | `list.extend(iter)`  | Add elements from an iterable to the list.    |\n",
    "| **Insert**         | `list.insert(i, x)`  | Insert `x` at index `i`.                      |\n",
    "| **Remove**         | `list.remove(x)`     | Remove the first occurrence of `x`.           |\n",
    "| **Pop**            | `list.pop([i])`      | Remove and return the item at index `i`.      |\n",
    "| **Sort**           | `list.sort()`        | Sort the list in ascending order.             |\n",
    "| **Reverse**        | `list.reverse()`     | Reverse the order of elements in the list.    |\n",
    "| **Length**         | `len(list)`          | Get the number of elements in the list.       |\n"
   ]
  },
  {
   "cell_type": "code",
   "execution_count": 2,
   "id": "5a9e94f2-1dfe-4360-9f6c-c00e62cbeb0e",
   "metadata": {},
   "outputs": [
    {
     "name": "stdout",
     "output_type": "stream",
     "text": [
      "Printing the original list             :  ['apple', 'mango', 'kiwi', 'orange', 'banana', 'cherry', 'strawberry']\n",
      "Length of the list                     :  7\n",
      "\n",
      "\n",
      "Appending pineapple to the fruit basket:  ['apple', 'mango', 'kiwi', 'orange', 'banana', 'cherry', 'strawberry', 'pineapple']\n",
      "Inserting blueberry at index 5         :  ['apple', 'mango', 'kiwi', 'orange', 'banana', 'blueberry', 'cherry', 'strawberry', 'pineapple']\n",
      "Popping out the fruit at index 3       :  ['apple', 'mango', 'kiwi', 'banana', 'blueberry', 'cherry', 'strawberry', 'pineapple']\n",
      "Removing cherry from the fruit basket  :  ['apple', 'mango', 'kiwi', 'banana', 'blueberry', 'strawberry', 'pineapple']\n",
      "After Pop() on the fruit basket        :  ['apple', 'mango', 'kiwi', 'banana', 'blueberry', 'strawberry']\n",
      "Extending the basket to include gava and paya :  ['apple', 'mango', 'kiwi', 'banana', 'blueberry', 'strawberry', 'guava', 'papaya']\n",
      "Having Grapes in the basket            :  ['apple', 'mango', 'kiwi', 'banana', 'blueberry', 'strawberry', 'guava', 'papaya', 'grapes']\n",
      "Length of the list now                 :  9\n",
      "Reversed list                          :  ['grapes', 'papaya', 'guava', 'strawberry', 'blueberry', 'banana', 'kiwi', 'mango', 'apple']\n",
      "Fruit basket after sorting             :  ['apple', 'banana', 'blueberry', 'grapes', 'guava', 'kiwi', 'mango', 'papaya', 'strawberry']\n"
     ]
    }
   ],
   "source": [
    "fruits = [\"apple\", \"mango\", \"kiwi\", \"orange\", \"banana\", \"cherry\", \"strawberry\"]\n",
    "\n",
    "print(\"Printing the original list             : \",fruits)\n",
    "print(\"Length of the list                     : \",len(fruits))\n",
    "print(\"\\n\")\n",
    "\n",
    "fruits.append(\"pineapple\")\n",
    "print(\"Appending pineapple to the fruit basket: \",fruits)\n",
    "\n",
    "fruits.insert(5,\"blueberry\")\n",
    "print(\"Inserting blueberry at index 5         : \",fruits)\n",
    "\n",
    "fruits.pop(3)\n",
    "print(\"Popping out the fruit at index 3       : \",fruits)\n",
    "\n",
    "fruits.remove(\"cherry\")\n",
    "print(\"Removing cherry from the fruit basket  : \",fruits)\n",
    "\n",
    "fruits.pop()\n",
    "print(\"After Pop() on the fruit basket        : \",fruits)\n",
    "\n",
    "fruits.extend((\"guava\",\"papaya\"))\n",
    "print(\"Extending the basket to include gava and paya : \",fruits)\n",
    "\n",
    "if (\"grapes\" in fruits)== False:\n",
    "    fruits.append(\"grapes\")\n",
    "else:\n",
    "    print(\"Grapes are already there in your fruit basket\")\n",
    "\n",
    "print(\"Having Grapes in the basket            : \",fruits)\n",
    "print(\"Length of the list now                 : \",len(fruits))\n",
    "\n",
    "fruits.reverse()\n",
    "print(\"Reversed list                          : \",fruits)\n",
    "\n",
    "fruits.sort()\n",
    "print(\"Fruit basket after sorting             : \",fruits)\n",
    "\n"
   ]
  },
  {
   "cell_type": "code",
   "execution_count": 3,
   "id": "65879237-9a52-4162-a059-7110613b0ea6",
   "metadata": {},
   "outputs": [
    {
     "name": "stdout",
     "output_type": "stream",
     "text": [
      "Oops! You forgot 'date' in your basket. Don't forget to plan a sweet date with your girlfriend!\n"
     ]
    },
    {
     "name": "stdin",
     "output_type": "stream",
     "text": [
      "Would you like to add 'date' to your fruit basket? (Y/N):  y\n"
     ]
    },
    {
     "name": "stdout",
     "output_type": "stream",
     "text": [
      "Aha, 'Date' is now in your basket! Now, don't let it be the only date you care about.\n"
     ]
    }
   ],
   "source": [
    "if 'date' not in fruits:\n",
    "    print(\"Oops! You forgot 'date' in your basket. Don't forget to plan a sweet date with your girlfriend!\")\n",
    "    reply = input(\"Would you like to add 'date' to your fruit basket? (Y/N): \")\n",
    "    if reply.lower() == 'y':    # Accept 'Y' or 'y' as valid inputs\n",
    "        fruits.append('date')\n",
    "        print(\"Aha, 'Date' is now in your basket! Now, don't let it be the only date you care about.\")\n",
    "    elif reply.lower() == 'n':  # Accept 'N' or 'n' as valid inputs\n",
    "        print(\"Alright, no 'date' added. Just don't forget to sweeten your day with something else!\")\n",
    "    else:\n",
    "        print(\"Invalid input. Please respond with 'Y' or 'N'.\")\n",
    "else:\n",
    "    print(\"'Date' is in your basket! Now, don't forget to make time for a sweet date!\")\n",
    "\n",
    "\n",
    "    "
   ]
  },
  {
   "cell_type": "code",
   "execution_count": 4,
   "id": "a1e7ae5c-96de-4083-b543-d2b5b6fbe5dc",
   "metadata": {},
   "outputs": [
    {
     "name": "stdout",
     "output_type": "stream",
     "text": [
      "[1, 2, [3, 4]]\n"
     ]
    }
   ],
   "source": [
    "lst = [1,2]\n",
    "lst.append([3,4])\n",
    "print(lst)"
   ]
  },
  {
   "cell_type": "code",
   "execution_count": 5,
   "id": "386591ca-ee50-4d58-80f7-494ce359a38b",
   "metadata": {},
   "outputs": [
    {
     "name": "stdout",
     "output_type": "stream",
     "text": [
      "[1, 2, 3, 4]\n"
     ]
    }
   ],
   "source": [
    "lst = [1,2]\n",
    "lst.extend([3,4])\n",
    "print(lst)"
   ]
  },
  {
   "cell_type": "code",
   "execution_count": 6,
   "id": "78564166-b924-4fff-9943-5b0bcab50aa4",
   "metadata": {},
   "outputs": [
    {
     "ename": "TypeError",
     "evalue": "list.count() takes exactly one argument (0 given)",
     "output_type": "error",
     "traceback": [
      "\u001b[1;31m---------------------------------------------------------------------------\u001b[0m",
      "\u001b[1;31mTypeError\u001b[0m                                 Traceback (most recent call last)",
      "Cell \u001b[1;32mIn[6], line 1\u001b[0m\n\u001b[1;32m----> 1\u001b[0m lst\u001b[38;5;241m.\u001b[39mcount()\n",
      "\u001b[1;31mTypeError\u001b[0m: list.count() takes exactly one argument (0 given)"
     ]
    }
   ],
   "source": [
    "lst.count()"
   ]
  },
  {
   "cell_type": "code",
   "execution_count": 7,
   "id": "b88fcade-b1c3-4464-9c7c-9669d7a64488",
   "metadata": {},
   "outputs": [
    {
     "data": {
      "text/plain": [
       "0"
      ]
     },
     "execution_count": 7,
     "metadata": {},
     "output_type": "execute_result"
    }
   ],
   "source": [
    "lst.count(5)"
   ]
  },
  {
   "cell_type": "code",
   "execution_count": 8,
   "id": "67a2cbed-fdd8-47b5-9de1-23f68db2e83c",
   "metadata": {},
   "outputs": [
    {
     "data": {
      "text/plain": [
       "1"
      ]
     },
     "execution_count": 8,
     "metadata": {},
     "output_type": "execute_result"
    }
   ],
   "source": [
    "lst.count(4)"
   ]
  },
  {
   "cell_type": "code",
   "execution_count": 9,
   "id": "dd6b0412-4855-449a-ae3e-cca4e9c810c2",
   "metadata": {},
   "outputs": [
    {
     "name": "stdout",
     "output_type": "stream",
     "text": [
      "[1, 2, 3, 4]\n"
     ]
    }
   ],
   "source": [
    "ls = lst.copy()\n",
    "print(ls)"
   ]
  },
  {
   "cell_type": "code",
   "execution_count": 10,
   "id": "1443e1e9-b2f0-421b-8637-c96302800cd6",
   "metadata": {},
   "outputs": [
    {
     "data": {
      "text/plain": [
       "1"
      ]
     },
     "execution_count": 10,
     "metadata": {},
     "output_type": "execute_result"
    }
   ],
   "source": [
    "ls.index(2)"
   ]
  },
  {
   "cell_type": "code",
   "execution_count": 11,
   "id": "3916204d-9bce-435c-a655-0364a90d25a5",
   "metadata": {},
   "outputs": [
    {
     "name": "stdout",
     "output_type": "stream",
     "text": [
      "Updated list -->  [1, 2, 3, 4, 4, 5]\n",
      "Count of 4 -->  2\n",
      "Index of 4 -->  3\n"
     ]
    }
   ],
   "source": [
    "#list.index(element) returns the index at which the 'element' is present in the list\n",
    "ls.append(4)\n",
    "ls.append(5)\n",
    "print(\"Updated list --> \",ls)\n",
    "print(\"Count of 4 --> \",ls.count(4))\n",
    "print(\"Index of 4 --> \",ls.index(4))"
   ]
  },
  {
   "cell_type": "code",
   "execution_count": null,
   "id": "ffc9062b-eba4-4c5b-872f-c77ec9f4a36e",
   "metadata": {},
   "outputs": [],
   "source": []
  }
 ],
 "metadata": {
  "kernelspec": {
   "display_name": "Python 3 (ipykernel)",
   "language": "python",
   "name": "python3"
  },
  "language_info": {
   "codemirror_mode": {
    "name": "ipython",
    "version": 3
   },
   "file_extension": ".py",
   "mimetype": "text/x-python",
   "name": "python",
   "nbconvert_exporter": "python",
   "pygments_lexer": "ipython3",
   "version": "3.12.7"
  }
 },
 "nbformat": 4,
 "nbformat_minor": 5
}
