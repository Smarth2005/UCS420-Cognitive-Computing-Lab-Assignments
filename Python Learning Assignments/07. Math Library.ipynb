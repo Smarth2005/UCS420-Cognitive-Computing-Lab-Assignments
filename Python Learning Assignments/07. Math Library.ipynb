{
 "cells": [
  {
   "cell_type": "markdown",
   "id": "1d0d1f44-5ee6-4c07-97a4-82a7d8ba1ea5",
   "metadata": {},
   "source": [
    "## 7. Math Library"
   ]
  },
  {
   "cell_type": "markdown",
   "id": "a1cf6dc7-435f-4098-98fa-49e99ec98d56",
   "metadata": {},
   "source": [
    "#### **Learning:** Importing the 'math' library and exploring its key features."
   ]
  },
  {
   "cell_type": "markdown",
   "id": "d091307e-b1f5-4168-a8c1-4ae01fc84506",
   "metadata": {},
   "source": [
    "##### **Math Library Functions**\n",
    "\n",
    "| **Category**            | **Function/Constant**    | **Description**                             |\n",
    "|-------------------------|--------------------------|---------------------------------------------|\n",
    "| **Mathematical Constants** | `math.pi`              | The value of π (3.14159...)                 |\n",
    "|                         | `math.e`                | The base of natural logarithms              |\n",
    "|                         | `math.tau`              | The value of 2π                             |\n",
    "|                         | `math.inf`              | Represents infinity                         |\n",
    "|                         | `math.nan`              | Represents \"Not a Number\"                   |\n",
    "| **Trigonometric Functions** | `math.sin(x)`         | Sine of angle `x` (in radians)              |\n",
    "|                         | `math.cos(x)`           | Cosine of angle `x`                         |\n",
    "|                         | `math.tan(x)`           | Tangent of angle `x`                        |\n",
    "|                         | `math.asin(x)`          | Inverse sine of `x`                         |\n",
    "|                         | `math.acos(x)`          | Inverse cosine of `x`                       |\n",
    "|                         | `math.atan(x)`          | Inverse tangent of `x`                      |\n",
    "|                         | `math.radians(x)`       | Convert degrees to radians                  |\n",
    "|                         | `math.degrees(x)`       | Convert radians to degrees                  |\n",
    "| **Logarithmic and Exponential Functions** | `math.log(x)` | Natural logarithm of `x` (base `e`)         |\n",
    "|                         | `math.log(x, base)`     | Logarithm of `x` with specified `base`      |\n",
    "|                         | `math.log10(x)`         | Logarithm base 10 of `x`                    |\n",
    "|                         | `math.exp(x)`           | `e` raised to the power `x` (`e^x`)         |\n",
    "|                         | `math.pow(x, y)`        | `x` raised to the power `y` (`x^y`)         |\n",
    "| **Power and Root Functions** | `math.sqrt(x)`      | Square root of `x`                          |\n",
    "|                         | `math.pow(x, y)`        | `x` raised to the power `y` (`x^y`)         |\n",
    "|                         | `math.isqrt(x)`         | Integer square root of `x`                  |\n",
    "| **Rounding and Absolute Value** | `math.ceil(x)`   | Smallest integer ≥ `x`                      |\n",
    "|                         | `math.floor(x)`         | Largest integer ≤ `x`                       |\n",
    "|                         | `math.trunc(x)`         | Truncate the decimal part of `x`            |\n",
    "|                         | `math.fabs(x)`          | Absolute value of `x`                       |\n",
    "| **Factorial and Combinatorics** | `math.factorial(x)` | Factorial of `x`                          |\n",
    "|                         | `math.comb(n, k)`       | Number of combinations (`nCk`)              |\n",
    "|                         | `math.perm(n, k)`       | Number of permutations (`nPk`)              |\n",
    "| **Special Functions**   | `math.gcd(x, y)`        | Greatest common divisor of `x` and `y`      |\n",
    "|                         | `math.lcm(x, y)`        | Least common multiple of `x` and `y`        |\n",
    "|                         | `math.isclose(a, b)`    | Check if `a` is close to `b`                |\n"
   ]
  },
  {
   "cell_type": "code",
   "execution_count": 1,
   "id": "34b0c6ea-f470-44b6-8292-a6e7ad51dd30",
   "metadata": {},
   "outputs": [
    {
     "name": "stdout",
     "output_type": "stream",
     "text": [
      "m.exp(-200)   -->  1.3838965267367376e-87\n",
      "m.log(100,2)  -->  6.643856189774725\n",
      "m.log(100,10) -->  2.0\n",
      "m.log10(100)  -->  2.0\n",
      "m.cos(30)     -->  0.15425144988758405\n",
      "m.sin(30)     -->  -0.9880316240928618\n",
      "m.tan(30)     -->  -6.405331196646276\n",
      "m.sqrt(324)   -->  18.0\n",
      "m.ceil(89.9)  -->  90\n",
      "m.floor(89.9) -->  89\n"
     ]
    }
   ],
   "source": [
    "import math as m\n",
    "print(\"m.exp(-200)   --> \",m.exp(-200))   # Exponential function\n",
    "print(\"m.log(100,2)  --> \",m.log(100,2))  # Log\n",
    "print(\"m.log(100,10) --> \",m.log(100,10)) # Log\n",
    "print(\"m.log10(100)  --> \",m.log10(100))  # Log 10\n",
    "print(\"m.cos(30)     --> \",m.cos(30))\n",
    "print(\"m.sin(30)     --> \",m.sin(30))\n",
    "print(\"m.tan(30)     --> \",m.tan(30))\n",
    "print(\"m.sqrt(324)   --> \",m.sqrt(324))\n",
    "print(\"m.ceil(89.9)  --> \",m.ceil(89.9))\n",
    "print(\"m.floor(89.9) --> \",m.floor(89.9))\n"
   ]
  },
  {
   "cell_type": "code",
   "execution_count": 2,
   "id": "2cbbe75d-94a3-47b3-ac24-19a6c1819324",
   "metadata": {},
   "outputs": [
    {
     "name": "stdout",
     "output_type": "stream",
     "text": [
      "m.lcm(30,45)  -->  90\n",
      "m.gcd(30,45)  -->  15\n",
      "m.pow(2,10)   -->  1024.0\n",
      "m.factorial(5)-->  120\n",
      "m.trunc(9.456)-->  9\n",
      "m.comb(4,2)   -->  6\n",
      "m.perm(4,2)   -->  12\n",
      "m.radians(60) -->  1.0471975511965976\n",
      "m.degrees(3.14)--> 179.9087476710785\n"
     ]
    }
   ],
   "source": [
    "import math as m\n",
    "print(\"m.lcm(30,45)  --> \",m.lcm(30,45))\n",
    "print(\"m.gcd(30,45)  --> \",m.gcd(30,45))\n",
    "print(\"m.pow(2,10)   --> \",m.pow(2,10))\n",
    "print(\"m.factorial(5)--> \",m.factorial(5))\n",
    "print(\"m.trunc(9.456)--> \",m.trunc(9.456))\n",
    "print(\"m.comb(4,2)   --> \",m.comb(4,2))\n",
    "print(\"m.perm(4,2)   --> \",m.perm(4,2))\n",
    "print(\"m.radians(60) --> \",m.radians(60))\n",
    "print(\"m.degrees(3.14)-->\",m.degrees(3.14))"
   ]
  },
  {
   "cell_type": "code",
   "execution_count": 3,
   "id": "d05ff6c7-0a86-4074-b8bd-0919dfb174cf",
   "metadata": {},
   "outputs": [
    {
     "name": "stdout",
     "output_type": "stream",
     "text": [
      "pi  =  3.141592653589793\n",
      "e   =  2.718281828459045\n",
      "tau =  6.283185307179586\n",
      "inf =  inf\n",
      "nan =  nan\n"
     ]
    }
   ],
   "source": [
    "import math as m\n",
    "print(\"pi  = \",m.pi)\n",
    "print(\"e   = \",m.e)\n",
    "print(\"tau = \",m.tau)\n",
    "print(\"inf = \",m.inf)\n",
    "print(\"nan = \",m.nan)"
   ]
  },
  {
   "cell_type": "code",
   "execution_count": null,
   "id": "031a0f0b-87b4-4f0b-9169-af5c48790360",
   "metadata": {},
   "outputs": [],
   "source": []
  }
 ],
 "metadata": {
  "kernelspec": {
   "display_name": "Python 3 (ipykernel)",
   "language": "python",
   "name": "python3"
  },
  "language_info": {
   "codemirror_mode": {
    "name": "ipython",
    "version": 3
   },
   "file_extension": ".py",
   "mimetype": "text/x-python",
   "name": "python",
   "nbconvert_exporter": "python",
   "pygments_lexer": "ipython3",
   "version": "3.12.7"
  }
 },
 "nbformat": 4,
 "nbformat_minor": 5
}
