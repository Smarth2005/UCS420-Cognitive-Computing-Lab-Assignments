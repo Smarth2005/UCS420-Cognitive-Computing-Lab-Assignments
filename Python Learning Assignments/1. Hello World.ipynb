{
 "cells": [
  {
   "cell_type": "markdown",
   "id": "2f9e2fd6-f865-49bd-86ab-b5839e65d711",
   "metadata": {},
   "source": [
    "### 1. Hello World"
   ]
  },
  {
   "cell_type": "markdown",
   "id": "136dd8fc-20d4-451c-ab2f-7f5a90fe57af",
   "metadata": {},
   "source": [
    "**Learning :** How to print and run Python Program"
   ]
  },
  {
   "cell_type": "code",
   "execution_count": 1,
   "id": "0173af53-a10f-467f-bd42-eab44d911a31",
   "metadata": {},
   "outputs": [
    {
     "name": "stdout",
     "output_type": "stream",
     "text": [
      "Hello World\n"
     ]
    }
   ],
   "source": [
    "print(\"Hello World\")"
   ]
  },
  {
   "cell_type": "code",
   "execution_count": 2,
   "id": "e28b7b8c-767c-4adf-a756-0e4a6ea4c69c",
   "metadata": {},
   "outputs": [
    {
     "name": "stdout",
     "output_type": "stream",
     "text": [
      "Hello World\n"
     ]
    }
   ],
   "source": [
    "print('Hello World')"
   ]
  },
  {
   "cell_type": "code",
   "execution_count": 3,
   "id": "45ddc0aa-1f22-4f76-8f37-9b2c985ceea2",
   "metadata": {},
   "outputs": [
    {
     "name": "stdout",
     "output_type": "stream",
     "text": [
      "Hello World\n"
     ]
    }
   ],
   "source": [
    "print('''Hello World''')"
   ]
  },
  {
   "cell_type": "markdown",
   "id": "61f1b6bb-9db7-4d6e-855f-20ab9fba3014",
   "metadata": {},
   "source": [
    "**Assignment:** WAP to print your name three times"
   ]
  },
  {
   "cell_type": "code",
   "execution_count": 4,
   "id": "8623fcda-1ef4-45ba-8181-4f6ea4b72adc",
   "metadata": {},
   "outputs": [
    {
     "name": "stdout",
     "output_type": "stream",
     "text": [
      "Smarth Kaushal\n",
      "Smarth Kaushal\n",
      "Smarth Kaushal\n"
     ]
    }
   ],
   "source": [
    "print(\"Smarth Kaushal\")\n",
    "print(\"Smarth Kaushal\")\n",
    "print(\"Smarth Kaushal\")"
   ]
  },
  {
   "cell_type": "code",
   "execution_count": 5,
   "id": "cc19a79a-64ea-44fe-82e4-b43788076240",
   "metadata": {},
   "outputs": [
    {
     "name": "stdout",
     "output_type": "stream",
     "text": [
      "Smarth Kaushal\n",
      "Smarth Kaushal\n",
      "Smarth Kaushal\n"
     ]
    }
   ],
   "source": [
    "i = 0\n",
    "while i<3:\n",
    "    print(\"Smarth Kaushal\")\n",
    "    i = i+1"
   ]
  },
  {
   "cell_type": "code",
   "execution_count": null,
   "id": "e0cf4aa6-496f-400c-8615-94757d04592b",
   "metadata": {},
   "outputs": [],
   "source": []
  }
 ],
 "metadata": {
  "kernelspec": {
   "display_name": "Python 3 (ipykernel)",
   "language": "python",
   "name": "python3"
  },
  "language_info": {
   "codemirror_mode": {
    "name": "ipython",
    "version": 3
   },
   "file_extension": ".py",
   "mimetype": "text/x-python",
   "name": "python",
   "nbconvert_exporter": "python",
   "pygments_lexer": "ipython3",
   "version": "3.12.7"
  }
 },
 "nbformat": 4,
 "nbformat_minor": 5
}
