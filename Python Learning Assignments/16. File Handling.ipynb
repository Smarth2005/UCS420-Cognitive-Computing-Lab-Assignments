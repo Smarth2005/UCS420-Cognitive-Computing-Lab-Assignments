{
 "cells": [
  {
   "cell_type": "markdown",
   "id": "b9413657-88cf-40e9-9730-e584203c7403",
   "metadata": {},
   "source": [
    "## 16. File Handling"
   ]
  },
  {
   "cell_type": "markdown",
   "id": "5872195d-3ed3-42a0-8dc8-a3048d71cd58",
   "metadata": {},
   "source": [
    "**Learning:** How to open the file, read the file and write in the file"
   ]
  },
  {
   "cell_type": "markdown",
   "id": "38977025-dfb3-40ef-91e9-65f8e866cc86",
   "metadata": {},
   "source": [
    "#### 16.1 Writing 1 to 10 in file"
   ]
  },
  {
   "cell_type": "code",
   "execution_count": 1,
   "id": "fcdf0d1f-ffca-4ac7-8f46-2bc518562932",
   "metadata": {},
   "outputs": [
    {
     "name": "stdout",
     "output_type": "stream",
     "text": [
      "Writing done!! \n",
      "Open result.txt to view the content\n"
     ]
    }
   ],
   "source": [
    "fp = open('result.txt','w') # Open the file in write mode\n",
    "for i in range(1,11):\n",
    "    fp.write(str(i) + \"\\n\")  # Writing to the file line by line\n",
    "fp.close()\n",
    "\n",
    "print(\"Writing done!! \\nOpen result.txt to view the content\")"
   ]
  },
  {
   "cell_type": "markdown",
   "id": "a42b730a-6664-4475-9113-c7f5f9b86b15",
   "metadata": {},
   "source": [
    "#### 16.2 Reading a file and printing its content "
   ]
  },
  {
   "cell_type": "code",
   "execution_count": 2,
   "id": "f584fda6-24e3-4921-a63d-67ed1cc330a0",
   "metadata": {},
   "outputs": [
    {
     "name": "stdout",
     "output_type": "stream",
     "text": [
      "1\n",
      "2\n",
      "3\n",
      "4\n",
      "5\n",
      "6\n",
      "7\n",
      "8\n",
      "9\n",
      "10\n"
     ]
    }
   ],
   "source": [
    "fp = open('result.txt') # Open the file in read mode\n",
    "for line in fp:\n",
    "    print(line.strip()) # Print line by line\n",
    "\n",
    "fp.close()"
   ]
  },
  {
   "cell_type": "markdown",
   "id": "81570ff1-f54f-430c-9476-660bb85ebba0",
   "metadata": {},
   "source": [
    "#### 16.3 Read from one file, Convert it to upper case amd write to other file"
   ]
  },
  {
   "cell_type": "code",
   "execution_count": 3,
   "id": "ed744f4e-ea4d-4b5c-8937-1956bec94fb9",
   "metadata": {},
   "outputs": [
    {
     "name": "stdout",
     "output_type": "stream",
     "text": [
      "Writing done!! \n",
      "Open abc.txt to view the content\n"
     ]
    }
   ],
   "source": [
    "Readfp = open('result.txt')   # Open the file in read mode\n",
    "Writefp = open('abc.txt','w') # Open the file in write mode  \n",
    "for line in Readfp:\n",
    "    Writefp.write(line.upper())\n",
    "\n",
    "Writefp.close()\n",
    "Readfp.close()\n",
    "\n",
    "print(\"Writing done!! \\nOpen abc.txt to view the content\")"
   ]
  },
  {
   "cell_type": "code",
   "execution_count": 4,
   "id": "014e7e76-979d-4275-b9cc-1b1168d209b0",
   "metadata": {},
   "outputs": [
    {
     "name": "stdout",
     "output_type": "stream",
     "text": [
      "1\n",
      "2\n",
      "3\n",
      "4\n",
      "5\n",
      "6\n",
      "7\n",
      "8\n",
      "9\n",
      "10\n"
     ]
    }
   ],
   "source": [
    "fp = open('abc.txt')\n",
    "for line in fp:\n",
    "    print(line.strip())\n",
    "\n",
    "fp.close()"
   ]
  },
  {
   "cell_type": "code",
   "execution_count": null,
   "id": "f6e73707-246f-4710-8776-ec606f0efff7",
   "metadata": {},
   "outputs": [],
   "source": []
  }
 ],
 "metadata": {
  "kernelspec": {
   "display_name": "Python 3 (ipykernel)",
   "language": "python",
   "name": "python3"
  },
  "language_info": {
   "codemirror_mode": {
    "name": "ipython",
    "version": 3
   },
   "file_extension": ".py",
   "mimetype": "text/x-python",
   "name": "python",
   "nbconvert_exporter": "python",
   "pygments_lexer": "ipython3",
   "version": "3.12.7"
  }
 },
 "nbformat": 4,
 "nbformat_minor": 5
}
