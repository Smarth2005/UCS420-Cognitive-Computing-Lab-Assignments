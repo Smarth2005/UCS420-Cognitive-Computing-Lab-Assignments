{
 "cells": [
  {
   "cell_type": "markdown",
   "id": "962fef1b-3318-4511-93dc-04c29afcd18e",
   "metadata": {},
   "source": [
    "## 12. Data Structure 3 - Set"
   ]
  },
  {
   "cell_type": "markdown",
   "id": "767288e3-b72f-42af-8909-f00d3bfe7214",
   "metadata": {},
   "source": [
    "#### 12.1 Set Declaration"
   ]
  },
  {
   "cell_type": "code",
   "execution_count": 1,
   "id": "a80783a9-f19d-4a37-8f8c-914ecb49b75c",
   "metadata": {},
   "outputs": [
    {
     "name": "stdout",
     "output_type": "stream",
     "text": [
      "Original set              -->  {'E', 'C', 'F', 'B', 'D', 'A'}\n",
      "Number of elements in set -->  6\n"
     ]
    }
   ],
   "source": [
    "s = {'A','B','C','D','E','F'}\n",
    "print(\"Original set              --> \",s)\n",
    "print(\"Number of elements in set --> \",len(s))"
   ]
  },
  {
   "cell_type": "code",
   "execution_count": 2,
   "id": "c6b50552-e901-42f2-8cb1-641e09c43c3b",
   "metadata": {},
   "outputs": [
    {
     "name": "stdout",
     "output_type": "stream",
     "text": [
      "Original set              -->  {'E', 'F', 'B', 'A', 'C', 'D'}\n",
      "Number of elements in set -->  6\n"
     ]
    }
   ],
   "source": [
    "s = set(['A','B','C','D','E','F'])\n",
    "print(\"Original set              --> \",s)\n",
    "print(\"Number of elements in set --> \",len(s))"
   ]
  },
  {
   "cell_type": "markdown",
   "id": "f5d93781-4756-4128-b11b-b415e58b227f",
   "metadata": {},
   "source": [
    "#### 12.2 Operations on Sets"
   ]
  },
  {
   "cell_type": "code",
   "execution_count": 3,
   "id": "d9f9dc5a-3221-416d-bb8e-32a094cc9bd5",
   "metadata": {
    "collapsed": true,
    "jupyter": {
     "outputs_hidden": true
    }
   },
   "outputs": [
    {
     "name": "stdout",
     "output_type": "stream",
     "text": [
      "Original Set A          --> {'E', 'F', 'B', 'A', 'G', 'C', 'D', 'H'}\n",
      "Original Set B          --> {'F', 'Q', 'P', 'G', 'T', 'S', 'R'}\n",
      "Union of A and B        --> {'E', 'F', 'Q', 'B', 'A', 'P', 'G', 'C', 'T', 'R', 'S', 'D', 'H'}\n",
      "Intersection of A and B --> {'G', 'F'}\n",
      "Difference A-B          --> {'E', 'B', 'A', 'C', 'D', 'H'}\n",
      "Difference A-B          --> {'E', 'B', 'A', 'C', 'D', 'H'}\n",
      "Difference B-A          --> {'Q', 'P', 'T', 'S', 'R'}\n",
      "Difference B-A          --> {'Q', 'P', 'T', 'S', 'R'}\n",
      "Symmetric Diff A-B      --> {'Q', 'B', 'A', 'T', 'C', 'S', 'R', 'E', 'P', 'D', 'H'}\n",
      "Symmetric Diff B-A      --> {'E', 'Q', 'B', 'A', 'P', 'R', 'C', 'T', 'S', 'D', 'H'}\n"
     ]
    }
   ],
   "source": [
    "A = set(['A','B','C','D','E','F','G','H'])\n",
    "B = set([\"P\",\"Q\",\"R\",\"S\",\"T\",\"G\",\"F\"])\n",
    "print(\"Original Set A          -->\",A)\n",
    "print(\"Original Set B          -->\",B)\n",
    "print(\"Union of A and B        -->\",A.union(B))\n",
    "print(\"Intersection of A and B -->\",A.intersection(B))\n",
    "print(\"Difference A-B          -->\",A-B)\n",
    "print(\"Difference A-B          -->\",A.difference(B))\n",
    "print(\"Difference B-A          -->\",B-A)\n",
    "print(\"Difference B-A          -->\",B.difference(A))\n",
    "print(\"Symmetric Diff A-B      -->\",A.symmetric_difference(B))\n",
    "print(\"Symmetric Diff B-A      -->\",B.symmetric_difference(A))"
   ]
  },
  {
   "cell_type": "markdown",
   "id": "a7368a76-c30b-45e0-b778-dfef7c7bb300",
   "metadata": {},
   "source": [
    "#### 12.3 Add, delete, pop element from set"
   ]
  },
  {
   "cell_type": "code",
   "execution_count": 5,
   "id": "245df275-282f-4ddf-9aee-5822f5fc17c9",
   "metadata": {},
   "outputs": [
    {
     "name": "stdout",
     "output_type": "stream",
     "text": [
      "Original Set A         --> {'F', 'Q', 'P', 'G', 'T', 'S', 'R'}\n",
      "Set after adding 'K'   --> {'F', 'Q', 'K', 'P', 'G', 'T', 'S', 'R'}\n",
      "Set after adding 'K'   --> {'F', 'Q', 'K', 'P', 'G', 'T', 'S', 'R'}\n",
      "Set after adding 'M'   --> {'M', 'F', 'Q', 'K', 'P', 'G', 'T', 'S', 'R'}\n",
      "Set after deleting 'K' --> {'M', 'F', 'Q', 'P', 'G', 'T', 'S', 'R'}\n",
      "Set after pop          --> {'F', 'Q', 'P', 'G', 'T', 'S', 'R'}\n",
      "Set after pop          --> {'Q', 'P', 'G', 'T', 'S', 'R'}\n"
     ]
    }
   ],
   "source": [
    "A = set([\"P\",\"Q\",\"R\",\"S\",\"T\",\"G\",\"F\"])\n",
    "print(\"Original Set A         -->\",A)\n",
    "\n",
    "A.add(\"K\")\n",
    "print(\"Set after adding 'K'   -->\",A)\n",
    "A.add(\"K\")\n",
    "print(\"Set after adding 'K'   -->\",A)\n",
    "A.add(\"M\")\n",
    "print(\"Set after adding 'M'   -->\",A)\n",
    "\n",
    "A.remove('K')\n",
    "print(\"Set after deleting 'K' -->\",A)\n",
    "\n",
    "A.pop()\n",
    "print(\"Set after pop          -->\",A)\n",
    "A.pop()\n",
    "print(\"Set after pop          -->\",A)"
   ]
  },
  {
   "cell_type": "code",
   "execution_count": null,
   "id": "dae0addf-0293-4f2f-b78b-c3b7d3c6debf",
   "metadata": {},
   "outputs": [],
   "source": []
  }
 ],
 "metadata": {
  "kernelspec": {
   "display_name": "Python 3 (ipykernel)",
   "language": "python",
   "name": "python3"
  },
  "language_info": {
   "codemirror_mode": {
    "name": "ipython",
    "version": 3
   },
   "file_extension": ".py",
   "mimetype": "text/x-python",
   "name": "python",
   "nbconvert_exporter": "python",
   "pygments_lexer": "ipython3",
   "version": "3.12.7"
  }
 },
 "nbformat": 4,
 "nbformat_minor": 5
}
