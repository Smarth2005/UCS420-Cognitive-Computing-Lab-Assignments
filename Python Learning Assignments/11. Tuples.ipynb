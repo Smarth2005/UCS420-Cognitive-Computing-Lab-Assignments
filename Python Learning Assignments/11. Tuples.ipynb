{
 "cells": [
  {
   "cell_type": "markdown",
   "id": "eb49b620-ecbf-4144-9b21-9b5c21c92d96",
   "metadata": {},
   "source": [
    "## 11. Data Structure 2 - Tuple"
   ]
  },
  {
   "cell_type": "markdown",
   "id": "6f2be1cd-dc03-42ce-bbd1-aec48c09848b",
   "metadata": {},
   "source": [
    "#### 11.1 Tuple Declaration"
   ]
  },
  {
   "cell_type": "code",
   "execution_count": 1,
   "id": "cdb2b529-1d6e-41c6-b862-9525c55fea8e",
   "metadata": {},
   "outputs": [
    {
     "name": "stdout",
     "output_type": "stream",
     "text": [
      "T               --> ('Pratham', 'Sharma', 3.14, 3)\n",
      "No. of elements --> 4\n",
      "Type of Object  --> <class 'tuple'>\n"
     ]
    }
   ],
   "source": [
    "# Method 1\n",
    "T = (\"Pratham\",'Sharma',3.14,3)\n",
    "\n",
    "print(\"T               -->\",T)\n",
    "print(\"No. of elements -->\",len(T))\n",
    "print(\"Type of Object  -->\",type(T))"
   ]
  },
  {
   "cell_type": "code",
   "execution_count": 2,
   "id": "5499e5e2-40fc-4988-a39c-9860a7830a66",
   "metadata": {},
   "outputs": [
    {
     "name": "stdout",
     "output_type": "stream",
     "text": [
      "T               --> ('Pratham', 'Sharma', 3.14, 3)\n",
      "No. of elements --> 4\n",
      "Type of Object  --> <class 'tuple'>\n"
     ]
    }
   ],
   "source": [
    "# Method 2\n",
    "T = tuple([\"Pratham\",'Sharma',3.14,3])   # Convert list to tuple\n",
    "# T = tuple((\"Pratham\",'Sharma',3.14,3)) # Also Works\n",
    "\n",
    "print(\"T               -->\",T)\n",
    "print(\"No. of elements -->\",len(T))\n",
    "print(\"Type of Object  -->\",type(T))"
   ]
  },
  {
   "cell_type": "markdown",
   "id": "eaeb1bed-8b21-4049-9011-9ea3290e1135",
   "metadata": {},
   "source": [
    "#### 11.2 Tuple Iteration"
   ]
  },
  {
   "cell_type": "markdown",
   "id": "45532d40-5e1b-4bea-8371-08c919f2621c",
   "metadata": {},
   "source": [
    "#### 11.2.1 Iteration using While loop"
   ]
  },
  {
   "cell_type": "code",
   "execution_count": 3,
   "id": "d0388340-7f7d-4863-a89a-4afe76305248",
   "metadata": {},
   "outputs": [
    {
     "name": "stdout",
     "output_type": "stream",
     "text": [
      "T  -->  ('Pratham', 'Sharma', 3.14, 3)\n",
      "Pratham\n",
      "Sharma\n",
      "3.14\n",
      "3\n"
     ]
    }
   ],
   "source": [
    "T = (\"Pratham\",'Sharma',3.14,3)\n",
    "print(\"T  --> \",T)\n",
    "\n",
    "i = 0\n",
    "while i < len(T):\n",
    "    print(T[i])\n",
    "    i += 1"
   ]
  },
  {
   "cell_type": "markdown",
   "id": "67a6beaf-46db-4d79-b5cc-019c588be3f3",
   "metadata": {},
   "source": [
    "#### 11.2.2 Iteration using for loop - Version 1"
   ]
  },
  {
   "cell_type": "code",
   "execution_count": 4,
   "id": "2b31b9ae-e9f4-44ea-b12c-6a63920f9f73",
   "metadata": {},
   "outputs": [
    {
     "name": "stdout",
     "output_type": "stream",
     "text": [
      "T  -->  ('Pratham', 'Sharma', 3.14, 3)\n",
      "Pratham\n",
      "Sharma\n",
      "3.14\n",
      "3\n"
     ]
    }
   ],
   "source": [
    "T = (\"Pratham\",'Sharma',3.14,3)\n",
    "print(\"T  --> \",T)\n",
    "\n",
    "for i in range(0,len(T)):\n",
    "    print(T[i])"
   ]
  },
  {
   "cell_type": "markdown",
   "id": "71cd16a1-3d58-4831-9d09-2496b4d035e6",
   "metadata": {},
   "source": [
    "#### 11.2.3 Iteration using for loop - Version 2"
   ]
  },
  {
   "cell_type": "code",
   "execution_count": 5,
   "id": "66e0c01a-ae5d-4348-82da-e479e16ee3c6",
   "metadata": {},
   "outputs": [
    {
     "name": "stdout",
     "output_type": "stream",
     "text": [
      "T  -->  ('Pratham', 'Sharma', 3.14, 3)\n",
      "Pratham\n",
      "Sharma\n",
      "3.14\n",
      "3\n"
     ]
    }
   ],
   "source": [
    "T = (\"Pratham\",'Sharma',3.14,3)\n",
    "print(\"T  --> \",T)\n",
    "\n",
    "for s in T:\n",
    "    print(s)"
   ]
  },
  {
   "cell_type": "markdown",
   "id": "762c87e0-da3a-43a3-a999-00fec831491e",
   "metadata": {},
   "source": [
    "#### 11.3 Accessing/Selecting in Tuple"
   ]
  },
  {
   "cell_type": "code",
   "execution_count": 7,
   "id": "b5e1c859-6bd7-4c4a-9f98-a61946b8b0ba",
   "metadata": {},
   "outputs": [
    {
     "name": "stdout",
     "output_type": "stream",
     "text": [
      "T     --> (3, 6, 9, 12, 5, 3, 2)\n",
      "T[1]  --> 6\n",
      "T[2]  --> 9\n",
      "T[-1] --> 2\n",
      "T[-2] --> 3\n"
     ]
    }
   ],
   "source": [
    "# Example 1\n",
    "T = (3,6,9,12,5,3,2)\n",
    "print(\"T     -->\",T)\n",
    "\n",
    "print(\"T[1]  -->\",T[1])\n",
    "print(\"T[2]  -->\",T[2])\n",
    "print(\"T[-1] -->\",T[-1])\n",
    "print(\"T[-2] -->\",T[-2])"
   ]
  },
  {
   "cell_type": "code",
   "execution_count": 9,
   "id": "8041c319-94a8-4d44-be74-7e01f865ff20",
   "metadata": {},
   "outputs": [
    {
     "name": "stdout",
     "output_type": "stream",
     "text": [
      "T        --> (3, 6, 9, 12, 5, 3, 2)\n",
      "T[1:3]   --> (6, 9)\n",
      "T[2:]    --> (9, 12, 5, 3, 2)\n",
      "T[2:5]   --> (9, 12, 5)\n",
      "T[:2]    --> (3, 6)\n",
      "T[:-1]   --> (3, 6, 9, 12, 5, 3)\n",
      "T[-4:-1] --> (12, 5, 3)\n"
     ]
    }
   ],
   "source": [
    "# Example 2\n",
    "T = (3,6,9,12,5,3,2)\n",
    "print(\"T        -->\",T)\n",
    "\n",
    "print(\"T[1:3]   -->\",T[1:3])\n",
    "print(\"T[2:]    -->\",T[2:])\n",
    "print(\"T[2:5]   -->\",T[2:5]) # upper limit is exclusive\n",
    "print(\"T[:2]    -->\",T[:2])\n",
    "print(\"T[:-1]   -->\",T[:-1])\n",
    "print(\"T[-4:-1] -->\",T[-4:-1])"
   ]
  },
  {
   "cell_type": "markdown",
   "id": "99deca38-27f0-45f3-b050-e06982ec9fbc",
   "metadata": {},
   "source": [
    "#### 11.4 Sum/Average of Tuple"
   ]
  },
  {
   "cell_type": "code",
   "execution_count": 11,
   "id": "fb6dfce4-b9f4-46b7-9dd5-5eccc69631f8",
   "metadata": {},
   "outputs": [
    {
     "name": "stdout",
     "output_type": "stream",
     "text": [
      "T             -->  (3, 6, 9, 12, 5, 3, 2)\n",
      "Sum           -->  40\n",
      "Average       -->  5.714285714285714\n",
      "Average       -->  5\n"
     ]
    }
   ],
   "source": [
    "T = (3,6,9,12,5,3,2)\n",
    "print(\"T             --> \",T)\n",
    "print(\"Sum           --> \",sum(T))\n",
    "print(\"Average       --> \",sum(T)/len(T))\n",
    "print(\"Average       --> \",sum(T)//len(T))"
   ]
  },
  {
   "cell_type": "markdown",
   "id": "bb55787c-d8e4-4fca-8448-e7bb81c73e26",
   "metadata": {},
   "source": [
    "#### 11.5 Min/Max in Tuple"
   ]
  },
  {
   "cell_type": "code",
   "execution_count": 12,
   "id": "008433aa-b0ca-42e9-8d14-0ec2d2bd9b1c",
   "metadata": {},
   "outputs": [
    {
     "name": "stdout",
     "output_type": "stream",
     "text": [
      "T   --> (3, 6, 9, 12, 5, 3, 2)\n",
      "Max --> 12\n",
      "Min --> 2\n"
     ]
    }
   ],
   "source": [
    "# Example 1\n",
    "T = (3,6,9,12,5,3,2)     # Integer tuple\n",
    "print(\"T   -->\",T)\n",
    "print(\"Max -->\",max(T))\n",
    "print(\"Min -->\",min(T))"
   ]
  },
  {
   "cell_type": "code",
   "execution_count": 13,
   "id": "77d413dc-a4e6-4e54-9fdb-7250530da234",
   "metadata": {},
   "outputs": [
    {
     "name": "stdout",
     "output_type": "stream",
     "text": [
      "T   --> ('Ram', 'Shyam', 'Human', 'Ant')\n",
      "Max --> Shyam\n",
      "Min --> Ant\n"
     ]
    }
   ],
   "source": [
    "# Example 2\n",
    "T = (\"Ram\", \"Shyam\", \"Human\", \"Ant\") # String tuple\n",
    "print(\"T   -->\",T)\n",
    "print(\"Max -->\",max(T))\n",
    "print(\"Min -->\",min(T))"
   ]
  },
  {
   "cell_type": "markdown",
   "id": "c02ef918-68ae-4ac2-aea2-c870e6c7448e",
   "metadata": {},
   "source": [
    "#### 11.6 Merging Tuples"
   ]
  },
  {
   "cell_type": "code",
   "execution_count": 15,
   "id": "cdcf8764-fff0-45b9-9d61-84d7b55714ec",
   "metadata": {},
   "outputs": [
    {
     "name": "stdout",
     "output_type": "stream",
     "text": [
      "T1 --> (3, 6, 9)\n",
      "T2 --> (12, 5, 3, 2)\n",
      "T3 --> (3, 6, 9, 12, 5, 3, 2)\n",
      "T4 --> (3, 6, 9, 12, 5, 3, 2, 3, 6, 9, 12, 5, 3, 2)\n"
     ]
    }
   ],
   "source": [
    "T1 = (3,6,9)\n",
    "T2 = (12,5,3,2)\n",
    "\n",
    "print(\"T1 -->\",T1)\n",
    "print(\"T2 -->\",T2)\n",
    "\n",
    "T3 = T1 + T2\n",
    "print(\"T3 -->\",T3)\n",
    "\n",
    "T4 = T1 + T2 + T1 + T2\n",
    "print(\"T4 -->\",T4)"
   ]
  },
  {
   "cell_type": "markdown",
   "id": "fd164928-1507-40e9-8db1-dadcf0540c1d",
   "metadata": {},
   "source": [
    "#### 11.7 Merging part of Tuples"
   ]
  },
  {
   "cell_type": "code",
   "execution_count": 16,
   "id": "a3b57aa2-4dc1-4c8b-9878-097db22eea6e",
   "metadata": {},
   "outputs": [
    {
     "name": "stdout",
     "output_type": "stream",
     "text": [
      "T1 --> (3, 6, 9)\n",
      "T2 --> (12, 5, 3, 2)\n",
      "T3 --> (6, 5, 3)\n",
      "T4 --> (3, 12)\n"
     ]
    }
   ],
   "source": [
    "T1 = (3,6,9)\n",
    "T2 = (12,5,3,2)\n",
    "\n",
    "print(\"T1 -->\",T1)\n",
    "print(\"T2 -->\",T2)\n",
    "\n",
    "T3 = T1[1:2] + T2[1:3]\n",
    "print(\"T3 -->\",T3)\n",
    "\n",
    "T4 = T1[:-2] + T2[:-3] \n",
    "print(\"T4 -->\",T4)"
   ]
  },
  {
   "cell_type": "markdown",
   "id": "0229d688-231c-4151-a2f7-b8dfb748f1ee",
   "metadata": {},
   "source": [
    "#### 11.8 Searching in the Tuple"
   ]
  },
  {
   "cell_type": "code",
   "execution_count": 17,
   "id": "67221782-04c7-4d5a-a07c-e5e85b4c76e4",
   "metadata": {},
   "outputs": [
    {
     "name": "stdout",
     "output_type": "stream",
     "text": [
      "T       --> (3, 6, 9, 12, 5, 3, 2)\n",
      "6 in T  --> True\n",
      "10 in T --> False\n",
      "12 in T --> True\n"
     ]
    }
   ],
   "source": [
    "T = (3,6,9,12,5,3,2)\n",
    "print(\"T       -->\",T)\n",
    "print(\"6 in T  -->\",6 in T)\n",
    "print(\"10 in T -->\",10 in T)\n",
    "print(\"12 in T -->\",12 in T)"
   ]
  },
  {
   "cell_type": "markdown",
   "id": "7b5af0da-57ea-4341-9b64-ff0a39adc502",
   "metadata": {},
   "source": [
    "#### 11.9 Adding Element to Tuple"
   ]
  },
  {
   "cell_type": "code",
   "execution_count": 18,
   "id": "e3518a7b-adf5-47b6-a8a5-7960e17907b9",
   "metadata": {},
   "outputs": [
    {
     "name": "stdout",
     "output_type": "stream",
     "text": [
      "T -->  ('Pratham', 'Sharma', 3.14, 3)\n"
     ]
    },
    {
     "ename": "TypeError",
     "evalue": "'tuple' object does not support item assignment",
     "output_type": "error",
     "traceback": [
      "\u001b[1;31m---------------------------------------------------------------------------\u001b[0m",
      "\u001b[1;31mTypeError\u001b[0m                                 Traceback (most recent call last)",
      "Cell \u001b[1;32mIn[18], line 4\u001b[0m\n\u001b[0;32m      1\u001b[0m T \u001b[38;5;241m=\u001b[39m (\u001b[38;5;124m\"\u001b[39m\u001b[38;5;124mPratham\u001b[39m\u001b[38;5;124m\"\u001b[39m,\u001b[38;5;124m'\u001b[39m\u001b[38;5;124mSharma\u001b[39m\u001b[38;5;124m'\u001b[39m,\u001b[38;5;241m3.14\u001b[39m,\u001b[38;5;241m3\u001b[39m)\n\u001b[0;32m      2\u001b[0m \u001b[38;5;28mprint\u001b[39m(\u001b[38;5;124m\"\u001b[39m\u001b[38;5;124mT --> \u001b[39m\u001b[38;5;124m\"\u001b[39m,T)\n\u001b[1;32m----> 4\u001b[0m T[\u001b[38;5;241m2\u001b[39m] \u001b[38;5;241m=\u001b[39m \u001b[38;5;241m900\u001b[39m        \u001b[38;5;66;03m# Error; 'tuple' object does not support item assignment\u001b[39;00m\n\u001b[0;32m      5\u001b[0m \u001b[38;5;28mprint\u001b[39m(\u001b[38;5;124m\"\u001b[39m\u001b[38;5;124mT --> \u001b[39m\u001b[38;5;124m\"\u001b[39m,T)\n",
      "\u001b[1;31mTypeError\u001b[0m: 'tuple' object does not support item assignment"
     ]
    }
   ],
   "source": [
    "T = (\"Pratham\",'Sharma',3.14,3)\n",
    "print(\"T --> \",T)\n",
    "\n",
    "T[2] = 900        # Error; 'tuple' object does not support item assignment\n",
    "print(\"T --> \",T)\n",
    "\n",
    "# Tuples are unchangeable. We cannot add items to it."
   ]
  },
  {
   "cell_type": "markdown",
   "id": "a3855522-5cbc-4c00-8e89-00220fc1375c",
   "metadata": {},
   "source": [
    "##### Jugaad:"
   ]
  },
  {
   "cell_type": "code",
   "execution_count": 20,
   "id": "ab814f03-47be-4ba4-b243-569792084bed",
   "metadata": {},
   "outputs": [
    {
     "name": "stdout",
     "output_type": "stream",
     "text": [
      "T            -->  ('Pratham', 'Sharma', 3.14, 3)\n",
      "After adding --> ('Pratham', 'Sharma', 3.14, 3, 9.8)\n"
     ]
    }
   ],
   "source": [
    "T = (\"Pratham\",'Sharma',3.14,3)\n",
    "print(\"T            --> \",T)\n",
    "\n",
    "T1 = list(T)\n",
    "T1.append(9.8)\n",
    "T = tuple(T1)\n",
    "\n",
    "print(\"After adding -->\",T)"
   ]
  },
  {
   "cell_type": "markdown",
   "id": "7fc7357b-df36-4b01-85fd-2d222e1b1743",
   "metadata": {},
   "source": [
    "#### 11.10 Inserting element in Tuple- (Jugaad)"
   ]
  },
  {
   "cell_type": "code",
   "execution_count": 23,
   "id": "e5f50c9e-125a-426a-a1be-7ee8cfd1ada1",
   "metadata": {},
   "outputs": [
    {
     "name": "stdout",
     "output_type": "stream",
     "text": [
      "T               --> ('Pratham', 'Sharma', 3.14, 3)\n",
      "After insertion --> ('Pratham', 'Sharma', 'Rahul', 3.14, 3)\n"
     ]
    }
   ],
   "source": [
    "T = (\"Pratham\",'Sharma',3.14,3)\n",
    "print(\"T               -->\",T)\n",
    "\n",
    "T1 = list(T)\n",
    "T1.insert(2,\"Rahul\")\n",
    "T = tuple(T1)\n",
    "\n",
    "print(\"After insertion -->\",T)"
   ]
  },
  {
   "cell_type": "markdown",
   "id": "7ed2e9a8-6529-436a-aa39-a55b4b880d82",
   "metadata": {},
   "source": [
    "#### 11.11 Deleting from Tuple"
   ]
  },
  {
   "cell_type": "code",
   "execution_count": 24,
   "id": "19f3ee06-e83e-466e-8549-35e52901c3b3",
   "metadata": {},
   "outputs": [
    {
     "name": "stdout",
     "output_type": "stream",
     "text": [
      "T              --> ('Pratham', 'Sharma', 3.14, 3)\n"
     ]
    },
    {
     "ename": "TypeError",
     "evalue": "'tuple' object doesn't support item deletion",
     "output_type": "error",
     "traceback": [
      "\u001b[1;31m---------------------------------------------------------------------------\u001b[0m",
      "\u001b[1;31mTypeError\u001b[0m                                 Traceback (most recent call last)",
      "Cell \u001b[1;32mIn[24], line 4\u001b[0m\n\u001b[0;32m      1\u001b[0m T \u001b[38;5;241m=\u001b[39m (\u001b[38;5;124m\"\u001b[39m\u001b[38;5;124mPratham\u001b[39m\u001b[38;5;124m\"\u001b[39m,\u001b[38;5;124m'\u001b[39m\u001b[38;5;124mSharma\u001b[39m\u001b[38;5;124m'\u001b[39m,\u001b[38;5;241m3.14\u001b[39m,\u001b[38;5;241m3\u001b[39m)\n\u001b[0;32m      2\u001b[0m \u001b[38;5;28mprint\u001b[39m(\u001b[38;5;124m\"\u001b[39m\u001b[38;5;124mT              -->\u001b[39m\u001b[38;5;124m\"\u001b[39m,T)\n\u001b[1;32m----> 4\u001b[0m \u001b[38;5;28;01mdel\u001b[39;00m T[\u001b[38;5;241m1\u001b[39m]\n\u001b[0;32m      5\u001b[0m \u001b[38;5;28mprint\u001b[39m(\u001b[38;5;124m\"\u001b[39m\u001b[38;5;124mAfter deletion -->\u001b[39m\u001b[38;5;124m\"\u001b[39m,T)\n",
      "\u001b[1;31mTypeError\u001b[0m: 'tuple' object doesn't support item deletion"
     ]
    }
   ],
   "source": [
    "T = (\"Pratham\",'Sharma',3.14,3)\n",
    "print(\"T              -->\",T)\n",
    "\n",
    "del T[1]\n",
    "print(\"After deletion -->\",T)"
   ]
  },
  {
   "cell_type": "markdown",
   "id": "9550af75-13f6-4eb8-b446-1d084e0d900b",
   "metadata": {},
   "source": [
    "##### Jugaad:"
   ]
  },
  {
   "cell_type": "code",
   "execution_count": 25,
   "id": "36f46448-ea37-42d8-97d6-ecc8dd608574",
   "metadata": {},
   "outputs": [
    {
     "name": "stdout",
     "output_type": "stream",
     "text": [
      "T              --> ('Pratham', 'Sharma', 3.14, 3)\n",
      "After deletion --> ('Pratham', 3.14, 3)\n"
     ]
    }
   ],
   "source": [
    "T = (\"Pratham\",'Sharma',3.14,3)\n",
    "print(\"T              -->\",T)\n",
    "\n",
    "T1 = list(T)\n",
    "del T1[1]\n",
    "T = tuple(T1)\n",
    "print(\"After deletion -->\",T)"
   ]
  },
  {
   "cell_type": "code",
   "execution_count": 26,
   "id": "8a510b1d-c606-46f4-8a93-b9deeb6de7ee",
   "metadata": {},
   "outputs": [
    {
     "ename": "ValueError",
     "evalue": "tuple.index(x): x not in tuple",
     "output_type": "error",
     "traceback": [
      "\u001b[1;31m---------------------------------------------------------------------------\u001b[0m",
      "\u001b[1;31mValueError\u001b[0m                                Traceback (most recent call last)",
      "Cell \u001b[1;32mIn[26], line 1\u001b[0m\n\u001b[1;32m----> 1\u001b[0m T\u001b[38;5;241m.\u001b[39mindex(\u001b[38;5;241m0\u001b[39m)\n",
      "\u001b[1;31mValueError\u001b[0m: tuple.index(x): x not in tuple"
     ]
    }
   ],
   "source": [
    "T.index(0)"
   ]
  },
  {
   "cell_type": "code",
   "execution_count": 27,
   "id": "894b5d22-fadd-49d4-bcb5-fc4c6a291d3c",
   "metadata": {},
   "outputs": [
    {
     "data": {
      "text/plain": [
       "1"
      ]
     },
     "execution_count": 27,
     "metadata": {},
     "output_type": "execute_result"
    }
   ],
   "source": [
    "# Element has to be filled within the parenthesis\n",
    "T.index(3.14)"
   ]
  },
  {
   "cell_type": "code",
   "execution_count": 28,
   "id": "8bcaf04c-cd2b-40e4-9c68-d456f5046cc6",
   "metadata": {},
   "outputs": [
    {
     "data": {
      "text/plain": [
       "1"
      ]
     },
     "execution_count": 28,
     "metadata": {},
     "output_type": "execute_result"
    }
   ],
   "source": [
    "T.count(3)"
   ]
  },
  {
   "cell_type": "code",
   "execution_count": null,
   "id": "07e0fdbc-4484-4026-bfea-9dfa4c73320f",
   "metadata": {},
   "outputs": [],
   "source": []
  }
 ],
 "metadata": {
  "kernelspec": {
   "display_name": "Python 3 (ipykernel)",
   "language": "python",
   "name": "python3"
  },
  "language_info": {
   "codemirror_mode": {
    "name": "ipython",
    "version": 3
   },
   "file_extension": ".py",
   "mimetype": "text/x-python",
   "name": "python",
   "nbconvert_exporter": "python",
   "pygments_lexer": "ipython3",
   "version": "3.12.7"
  }
 },
 "nbformat": 4,
 "nbformat_minor": 5
}
