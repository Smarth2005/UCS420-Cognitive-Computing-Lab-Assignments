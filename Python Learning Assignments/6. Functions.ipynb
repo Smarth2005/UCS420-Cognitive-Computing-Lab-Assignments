{
 "cells": [
  {
   "cell_type": "markdown",
   "id": "9673b813-80a8-4670-ac45-6be57a55adc5",
   "metadata": {},
   "source": [
    "## 6. Defining and using Functions: Building blocks of Programs"
   ]
  },
  {
   "cell_type": "markdown",
   "id": "92d06f7f-2a9d-4f20-972f-0b678c07a46a",
   "metadata": {},
   "source": [
    "**Learning: How to declare and call function in Python**"
   ]
  },
  {
   "cell_type": "markdown",
   "id": "9450b803-4ad3-476c-aad5-adb6f3dca1ac",
   "metadata": {},
   "source": [
    "#### **Syntax:**  \n",
    "##### def my_function(parameters):\n",
    "> ##### function_block\n",
    "> ##### return `<expression>`"
   ]
  },
  {
   "cell_type": "markdown",
   "id": "d95dccc4-2700-4ab6-8c2f-e71e56e003ce",
   "metadata": {},
   "source": [
    "#### 6.1 Add two numbers"
   ]
  },
  {
   "cell_type": "code",
   "execution_count": 1,
   "id": "4800b3fe-cbed-41d5-b87c-fdcd99d01142",
   "metadata": {},
   "outputs": [
    {
     "name": "stdout",
     "output_type": "stream",
     "text": [
      "Add(10,20)  --> 30\n",
      "Add(20,50)  --> 70\n",
      "Add(80,200) --> 280\n"
     ]
    }
   ],
   "source": [
    "def Add(a,b):\n",
    "    c = a + b\n",
    "    return c\n",
    "\n",
    "print(\"Add(10,20)  -->\",Add(10,20))\n",
    "print(\"Add(20,50)  -->\",Add(20,50))\n",
    "print(\"Add(80,200) -->\",Add(80,200))"
   ]
  },
  {
   "cell_type": "code",
   "execution_count": 2,
   "id": "cc358aeb-5365-4260-974c-2c64e18bcb51",
   "metadata": {},
   "outputs": [
    {
     "name": "stdin",
     "output_type": "stream",
     "text": [
      "Enter first No.:  150\n",
      "Enter second No.:  60\n"
     ]
    },
    {
     "name": "stdout",
     "output_type": "stream",
     "text": [
      "Adding 150.0 and 60.0 gives 210.0\n"
     ]
    }
   ],
   "source": [
    "x = float(input(\"Enter first No.: \"))\n",
    "y = float(input(\"Enter second No.: \"))\n",
    "print(\"Adding {} and {} gives {}\".format(x,y,Add(x,y)))"
   ]
  },
  {
   "cell_type": "markdown",
   "id": "fe674fee-d8da-4581-b1c4-a593fb60a416",
   "metadata": {},
   "source": [
    "#### 6.2 Printing Name"
   ]
  },
  {
   "cell_type": "code",
   "execution_count": 3,
   "id": "cdc87fef-dcb8-4501-9c04-bd57e31bc028",
   "metadata": {},
   "outputs": [
    {
     "name": "stdout",
     "output_type": "stream",
     "text": [
      "Hi ABC ! How are you?\n"
     ]
    }
   ],
   "source": [
    "def hello(name):\n",
    "    print(\"Hi \" + name + \" ! How are you?\") # Concatenation\n",
    "\n",
    "hello(\"ABC\")"
   ]
  },
  {
   "cell_type": "code",
   "execution_count": 1,
   "id": "e72923f4-3c51-44d7-b6fa-bae7a5d6c956",
   "metadata": {},
   "outputs": [],
   "source": [
    "def greeting(name):\n",
    "    return \"Hello {}. Welcome to the Community.\".format(name)"
   ]
  },
  {
   "cell_type": "code",
   "execution_count": 3,
   "id": "297dc633-5f8c-41c6-b570-e2d1c096f78d",
   "metadata": {},
   "outputs": [
    {
     "data": {
      "text/plain": [
       "'Hello Smarth. Welcome to the Community.'"
      ]
     },
     "execution_count": 3,
     "metadata": {},
     "output_type": "execute_result"
    }
   ],
   "source": [
    "greeting(\"Smarth\")"
   ]
  },
  {
   "cell_type": "code",
   "execution_count": 4,
   "id": "aa347a46-1e14-4fab-b3fe-349b75cf8404",
   "metadata": {},
   "outputs": [],
   "source": [
    "def welcome_email(name,age):\n",
    "    return \"Welcome {name}. Your age is {age}.\".format(name = name, age = age)"
   ]
  },
  {
   "cell_type": "code",
   "execution_count": 5,
   "id": "e507a1ef-e483-4a4d-a82e-4f28107fcc53",
   "metadata": {},
   "outputs": [
    {
     "data": {
      "text/plain": [
       "'Welcome Smarth. Your age is 19.'"
      ]
     },
     "execution_count": 5,
     "metadata": {},
     "output_type": "execute_result"
    }
   ],
   "source": [
    "welcome_email('Smarth',19)"
   ]
  },
  {
   "cell_type": "markdown",
   "id": "f4f5b292-aa26-4ac9-9499-8f095386ac42",
   "metadata": {},
   "source": [
    "#### 6.3 Check Prime"
   ]
  },
  {
   "cell_type": "code",
   "execution_count": 6,
   "id": "ff8d0924-8f42-4d5b-b80c-4333329a8964",
   "metadata": {},
   "outputs": [
    {
     "name": "stdout",
     "output_type": "stream",
     "text": [
      "23  --> True\n",
      "42  --> False\n",
      "87  --> False\n",
      "200 --> False\n",
      "63  --> False\n"
     ]
    }
   ],
   "source": [
    "def isPrime(num):\n",
    "    prime = True\n",
    "    for i in range(2,num//2 +1):\n",
    "        if num % i == 0:\n",
    "            prime = False\n",
    "            break\n",
    "    \n",
    "    return prime\n",
    "\n",
    "print(\"23  -->\",isPrime(23))\n",
    "print(\"42  -->\",isPrime(42))\n",
    "print(\"87  -->\",isPrime(87))\n",
    "print(\"200 -->\",isPrime(200))\n",
    "print(\"63  -->\",isPrime(63))\n",
    "            "
   ]
  },
  {
   "cell_type": "markdown",
   "id": "2e479e48-511c-4666-aaec-03bbc173a47e",
   "metadata": {},
   "source": [
    "#### 6.4 Add 1 to n"
   ]
  },
  {
   "cell_type": "code",
   "execution_count": 7,
   "id": "79b266e5-2d2b-404f-ac3a-d46b5f01ab2c",
   "metadata": {},
   "outputs": [
    {
     "name": "stdin",
     "output_type": "stream",
     "text": [
      "Enter upper limit of the range:  200\n"
     ]
    },
    {
     "name": "stdout",
     "output_type": "stream",
     "text": [
      "The sum of numbers from 1 to 200 is 20100\n"
     ]
    }
   ],
   "source": [
    "def AddN(n):\n",
    "    s = sum(range(1,n+1))\n",
    "    return s\n",
    "\n",
    "n = int(input(\"Enter upper limit of the range: \"))\n",
    "print(\"The sum of numbers from 1 to {} is {}\".format(n,AddN(n)))"
   ]
  },
  {
   "cell_type": "code",
   "execution_count": 8,
   "id": "aa39f300-51e6-4927-bdd0-0a85d3f91127",
   "metadata": {},
   "outputs": [
    {
     "name": "stdin",
     "output_type": "stream",
     "text": [
      "Enter upper limit of the range:  50\n"
     ]
    },
    {
     "name": "stdout",
     "output_type": "stream",
     "text": [
      "The sum of numbers from 1 to 50 is 1275\n"
     ]
    }
   ],
   "source": [
    "exec(In[7])"
   ]
  },
  {
   "cell_type": "markdown",
   "id": "66721059-8a88-4b32-823f-147a56bc449e",
   "metadata": {},
   "source": [
    "#### Assignment 6.1: WAP using function that adds all odd numbers from 1 to n, n is given by the user."
   ]
  },
  {
   "cell_type": "code",
   "execution_count": 9,
   "id": "6b90c564-edf3-4140-b080-b7d103354337",
   "metadata": {},
   "outputs": [
    {
     "name": "stdin",
     "output_type": "stream",
     "text": [
      "Enter the upper limit of the range:  50\n"
     ]
    },
    {
     "name": "stdout",
     "output_type": "stream",
     "text": [
      "The sum of all odd numbers from 1 to 50 is 625\n"
     ]
    }
   ],
   "source": [
    "def AddOdd(n):\n",
    "    s = 0\n",
    "    for x in range(1,n+1):\n",
    "        if x % 2 != 0:\n",
    "            s += x\n",
    "    return s\n",
    "\n",
    "n = int(input(\"Enter the upper limit of the range: \"))\n",
    "print(\"The sum of all odd numbers from 1 to {} is {}\".format(n,AddOdd(n)))"
   ]
  },
  {
   "cell_type": "markdown",
   "id": "b1aa77e2-5e2b-451b-99c4-8e148fe65773",
   "metadata": {},
   "source": [
    "#### Assignment 6.2: WAP using function that adds all prime numbers from 1 to n, n given by the user."
   ]
  },
  {
   "cell_type": "code",
   "execution_count": 11,
   "id": "0eb1d7d0-9346-4d86-9c9f-d2dd8bfb2f96",
   "metadata": {},
   "outputs": [
    {
     "name": "stdin",
     "output_type": "stream",
     "text": [
      "Enter the upper limit of the range:  50\n"
     ]
    },
    {
     "name": "stdout",
     "output_type": "stream",
     "text": [
      "The sum of all prime numbers from 1 to 50 is 328\n"
     ]
    }
   ],
   "source": [
    "def isPrime(num):\n",
    "    if num == 1:\n",
    "        return False\n",
    "    prime = True\n",
    "    for i in range(2,num//2 + 1):\n",
    "        if num % i == 0:\n",
    "            prime = False\n",
    "            break\n",
    "    return prime\n",
    "\n",
    "n = int(input(\"Enter the upper limit of the range: \"))\n",
    "s = 0\n",
    "for x in range(1,n+1):\n",
    "    if isPrime(x):\n",
    "        s += x\n",
    "\n",
    "print(\"The sum of all prime numbers from 1 to {} is {}\".format(n,s))"
   ]
  },
  {
   "cell_type": "code",
   "execution_count": 12,
   "id": "4150273b-6106-44c5-aa7a-10a00e9cedfd",
   "metadata": {},
   "outputs": [
    {
     "name": "stdin",
     "output_type": "stream",
     "text": [
      "Enter the upper limit of the range:  100\n"
     ]
    },
    {
     "name": "stdout",
     "output_type": "stream",
     "text": [
      "The sum of all prime numbers from 1 to 100 is 1060\n"
     ]
    }
   ],
   "source": [
    "exec(In[11])"
   ]
  },
  {
   "cell_type": "code",
   "execution_count": null,
   "id": "45f89f9e-e4b8-4798-ba6c-260333b95e79",
   "metadata": {},
   "outputs": [],
   "source": []
  }
 ],
 "metadata": {
  "kernelspec": {
   "display_name": "Python 3 (ipykernel)",
   "language": "python",
   "name": "python3"
  },
  "language_info": {
   "codemirror_mode": {
    "name": "ipython",
    "version": 3
   },
   "file_extension": ".py",
   "mimetype": "text/x-python",
   "name": "python",
   "nbconvert_exporter": "python",
   "pygments_lexer": "ipython3",
   "version": "3.12.7"
  }
 },
 "nbformat": 4,
 "nbformat_minor": 5
}
