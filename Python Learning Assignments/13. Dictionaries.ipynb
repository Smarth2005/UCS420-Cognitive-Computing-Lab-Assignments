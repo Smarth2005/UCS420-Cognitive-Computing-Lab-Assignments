{
 "cells": [
  {
   "cell_type": "markdown",
   "id": "10966548-5602-4ed4-b4c8-f6554a62230a",
   "metadata": {},
   "source": [
    "## 13. Data Structure 4  - Dictionary"
   ]
  },
  {
   "cell_type": "markdown",
   "id": "34fb248c-4b0e-4d49-8c3b-5bda40523e90",
   "metadata": {},
   "source": [
    "#### 13.1 Declaring a Dictionary"
   ]
  },
  {
   "cell_type": "code",
   "execution_count": 2,
   "id": "e77376b6-531a-4009-a0de-28ecd2660976",
   "metadata": {},
   "outputs": [
    {
     "name": "stdout",
     "output_type": "stream",
     "text": [
      "Dictionary  -->  {1: 8.9, 2: 5.6, 4: 6.7, 7: 9.1, 8: 5.3}\n",
      "Number of elements -->  5\n",
      "CGPA of 1 -->  8.9\n",
      "CGPA of 4 -->  6.7\n",
      "CGPA of 7 -->  9.1\n"
     ]
    },
    {
     "ename": "KeyError",
     "evalue": "3",
     "output_type": "error",
     "traceback": [
      "\u001b[1;31m---------------------------------------------------------------------------\u001b[0m",
      "\u001b[1;31mKeyError\u001b[0m                                  Traceback (most recent call last)",
      "Cell \u001b[1;32mIn[2], line 8\u001b[0m\n\u001b[0;32m      6\u001b[0m \u001b[38;5;28mprint\u001b[39m(\u001b[38;5;124m\"\u001b[39m\u001b[38;5;124mCGPA of 4 --> \u001b[39m\u001b[38;5;124m\"\u001b[39m,CGPA[\u001b[38;5;241m4\u001b[39m])\n\u001b[0;32m      7\u001b[0m \u001b[38;5;28mprint\u001b[39m(\u001b[38;5;124m\"\u001b[39m\u001b[38;5;124mCGPA of 7 --> \u001b[39m\u001b[38;5;124m\"\u001b[39m,CGPA[\u001b[38;5;241m7\u001b[39m])\n\u001b[1;32m----> 8\u001b[0m \u001b[38;5;28mprint\u001b[39m(\u001b[38;5;124m\"\u001b[39m\u001b[38;5;124mCGPA of 3 --> \u001b[39m\u001b[38;5;124m\"\u001b[39m,CGPA[\u001b[38;5;241m3\u001b[39m])\n",
      "\u001b[1;31mKeyError\u001b[0m: 3"
     ]
    }
   ],
   "source": [
    "CGPA = {1:8.9, 2:5.6, 4:6.7, 7:9.1, 8:5.3}\n",
    "print(\"Dictionary  --> \",CGPA)\n",
    "print(\"Number of elements --> \",len(CGPA))\n",
    "\n",
    "print(\"CGPA of 1 --> \",CGPA[1])\n",
    "print(\"CGPA of 4 --> \",CGPA[4])\n",
    "print(\"CGPA of 7 --> \",CGPA[7])\n",
    "print(\"CGPA of 3 --> \",CGPA[3])"
   ]
  },
  {
   "cell_type": "markdown",
   "id": "d1ae6e96-5c21-44e3-a4a8-5cd6f96aded8",
   "metadata": {},
   "source": [
    "#### 13.2 Traversing a Dictionary"
   ]
  },
  {
   "cell_type": "code",
   "execution_count": 3,
   "id": "6b69e2e5-6403-4c8b-9168-c0019b0f426b",
   "metadata": {},
   "outputs": [
    {
     "name": "stdout",
     "output_type": "stream",
     "text": [
      "CGPA of  1  -->  8.9\n",
      "CGPA of  2  -->  5.6\n",
      "CGPA of  4  -->  6.7\n",
      "CGPA of  7  -->  9.1\n",
      "CGPA of  8  -->  5.3\n"
     ]
    }
   ],
   "source": [
    "CGPA = {1:8.9, 2:5.6, 4:6.7, 7:9.1, 8:5.3}\n",
    "for k in CGPA:\n",
    "    print(\"CGPA of \", k, \" --> \",CGPA[k])"
   ]
  },
  {
   "cell_type": "markdown",
   "id": "2131d57f-e009-4254-b02d-8a71145af38f",
   "metadata": {},
   "source": [
    "#### 13.3 Getting Keys and Values"
   ]
  },
  {
   "cell_type": "code",
   "execution_count": 4,
   "id": "27a262b1-cb0e-4b42-b37b-c9096b0a3928",
   "metadata": {},
   "outputs": [
    {
     "name": "stdout",
     "output_type": "stream",
     "text": [
      "Dictionary -->  {1: 8.9, 2: 5.6, 4: 6.7, 7: 9.1, 8: 5.3}\n",
      "Keys       -->  [1, 2, 4, 7, 8]\n",
      "Values     -->  [8.9, 5.6, 6.7, 9.1, 5.3]\n"
     ]
    }
   ],
   "source": [
    "CGPA = {1:8.9, 2:5.6, 4:6.7, 7:9.1, 8:5.3}\n",
    "print(\"Dictionary --> \",CGPA)\n",
    "print(\"Keys       --> \",list(CGPA.keys()))\n",
    "print(\"Values     --> \",list(CGPA.values()))"
   ]
  },
  {
   "cell_type": "markdown",
   "id": "3e4edd48-651e-422f-9f77-cf6e35083c5d",
   "metadata": {},
   "source": [
    "#### 13.4 Updating, Adding and Deleting from Dictionary"
   ]
  },
  {
   "cell_type": "code",
   "execution_count": 5,
   "id": "e2a88c2e-19b1-4988-a281-b30f1a2ffc04",
   "metadata": {},
   "outputs": [
    {
     "name": "stdout",
     "output_type": "stream",
     "text": [
      "Original Dictionary --> {1: 8.9, 2: 5.6, 4: 6.7, 7: 9.1, 8: 5.3}\n",
      "After updating [4]  --> {1: 8.9, 2: 5.6, 4: 9.2, 7: 9.1, 8: 5.3}\n",
      "After adding [3]    --> {1: 8.9, 2: 5.6, 4: 9.2, 7: 9.1, 8: 5.3, 3: 8.6}\n",
      "After deleting [1]  --> {2: 5.6, 4: 9.2, 7: 9.1, 8: 5.3, 3: 8.6}\n",
      "After clear()       --> {}\n"
     ]
    },
    {
     "ename": "NameError",
     "evalue": "name 'CGPA' is not defined",
     "output_type": "error",
     "traceback": [
      "\u001b[1;31m---------------------------------------------------------------------------\u001b[0m",
      "\u001b[1;31mNameError\u001b[0m                                 Traceback (most recent call last)",
      "Cell \u001b[1;32mIn[5], line 17\u001b[0m\n\u001b[0;32m     14\u001b[0m \u001b[38;5;28mprint\u001b[39m(\u001b[38;5;124m\"\u001b[39m\u001b[38;5;124mAfter clear()       -->\u001b[39m\u001b[38;5;124m\"\u001b[39m,CGPA)\n\u001b[0;32m     16\u001b[0m \u001b[38;5;28;01mdel\u001b[39;00m CGPA\n\u001b[1;32m---> 17\u001b[0m \u001b[38;5;28mprint\u001b[39m(\u001b[38;5;124m\"\u001b[39m\u001b[38;5;124mAfter delete        -->\u001b[39m\u001b[38;5;124m\"\u001b[39m,CGPA)\n",
      "\u001b[1;31mNameError\u001b[0m: name 'CGPA' is not defined"
     ]
    }
   ],
   "source": [
    "CGPA = {1:8.9, 2:5.6, 4:6.7, 7:9.1, 8:5.3}\n",
    "print(\"Original Dictionary -->\",CGPA)\n",
    "\n",
    "CGPA[4] = 9.2\n",
    "print(\"After updating [4]  -->\",CGPA)\n",
    "\n",
    "CGPA[3] = 8.6\n",
    "print(\"After adding [3]    -->\",CGPA) # CGPA[key] = value\n",
    "\n",
    "del CGPA[1]\n",
    "print(\"After deleting [1]  -->\",CGPA)\n",
    "\n",
    "CGPA.clear()\n",
    "print(\"After clear()       -->\",CGPA)\n",
    "\n",
    "del CGPA\n",
    "print(\"After delete        -->\",CGPA)"
   ]
  },
  {
   "cell_type": "markdown",
   "id": "fe31eb3a-2e61-450b-9bbf-ae26be8b7408",
   "metadata": {},
   "source": [
    "#### 13.5 Checking for Key in Dictionary"
   ]
  },
  {
   "cell_type": "code",
   "execution_count": 6,
   "id": "3a2fa9d0-0cc8-4f9e-b8c4-5e496ead3c93",
   "metadata": {},
   "outputs": [
    {
     "name": "stdout",
     "output_type": "stream",
     "text": [
      "Original Dictionary --> {1: 8.9, 2: 5.6, 4: 6.7, 7: 9.1, 8: 5.3}\n",
      "Is Key 2 Present    --> True\n",
      "Is Key 9 Present    --> False\n",
      "Is Key 6 Present    --> False\n",
      "Is Key 7 Present    --> True\n"
     ]
    }
   ],
   "source": [
    "CGPA = {1:8.9, 2:5.6, 4:6.7, 7:9.1, 8:5.3}\n",
    "print(\"Original Dictionary -->\",CGPA)\n",
    "print(\"Is Key 2 Present    -->\",2 in CGPA)\n",
    "print(\"Is Key 9 Present    -->\",9 in CGPA)\n",
    "print(\"Is Key 6 Present    -->\",6 in CGPA)\n",
    "print(\"Is Key 7 Present    -->\",7 in CGPA)"
   ]
  },
  {
   "cell_type": "markdown",
   "id": "8c34a036-9d7c-40a6-b811-79b848eb8e3d",
   "metadata": {},
   "source": [
    "#### 13.6 More example 1"
   ]
  },
  {
   "cell_type": "code",
   "execution_count": 8,
   "id": "dfbba0b6-f614-4e3f-aca9-0031e45f49bc",
   "metadata": {},
   "outputs": [
    {
     "name": "stdout",
     "output_type": "stream",
     "text": [
      "Original Dictionary   -->  {'Prashant': 'Delhi', 'Govind': 'Gwalior', 'Anil': 'Morena', 'Pankaj': 'Agra'}\n",
      "Home Town of Prashant -->  Delhi\n",
      "Home Town of Govind   -->  Gwalior\n",
      "Home Town of Anil     -->  Morena\n",
      "Home Town of Pankaj   -->  Agra\n"
     ]
    },
    {
     "ename": "KeyError",
     "evalue": "'Agra'",
     "output_type": "error",
     "traceback": [
      "\u001b[1;31m---------------------------------------------------------------------------\u001b[0m",
      "\u001b[1;31mKeyError\u001b[0m                                  Traceback (most recent call last)",
      "Cell \u001b[1;32mIn[8], line 7\u001b[0m\n\u001b[0;32m      5\u001b[0m \u001b[38;5;28mprint\u001b[39m(\u001b[38;5;124m\"\u001b[39m\u001b[38;5;124mHome Town of Anil     --> \u001b[39m\u001b[38;5;124m\"\u001b[39m,HomeTown[\u001b[38;5;124m\"\u001b[39m\u001b[38;5;124mAnil\u001b[39m\u001b[38;5;124m\"\u001b[39m])\n\u001b[0;32m      6\u001b[0m \u001b[38;5;28mprint\u001b[39m(\u001b[38;5;124m\"\u001b[39m\u001b[38;5;124mHome Town of Pankaj   --> \u001b[39m\u001b[38;5;124m\"\u001b[39m,HomeTown[\u001b[38;5;124m\"\u001b[39m\u001b[38;5;124mPankaj\u001b[39m\u001b[38;5;124m\"\u001b[39m])\n\u001b[1;32m----> 7\u001b[0m \u001b[38;5;28mprint\u001b[39m(\u001b[38;5;124m\"\u001b[39m\u001b[38;5;124mHome Town of Pankaj   --> \u001b[39m\u001b[38;5;124m\"\u001b[39m,HomeTown[\u001b[38;5;124m\"\u001b[39m\u001b[38;5;124mAgra\u001b[39m\u001b[38;5;124m\"\u001b[39m])\n",
      "\u001b[1;31mKeyError\u001b[0m: 'Agra'"
     ]
    }
   ],
   "source": [
    "HomeTown = {\"Prashant\":\"Delhi\", \"Govind\":\"Gwalior\", \"Anil\":\"Morena\", \"Pankaj\":\"Agra\"}\n",
    "print(\"Original Dictionary   --> \",HomeTown)\n",
    "print(\"Home Town of Prashant --> \",HomeTown[\"Prashant\"])\n",
    "print(\"Home Town of Govind   --> \",HomeTown[\"Govind\"])\n",
    "print(\"Home Town of Anil     --> \",HomeTown[\"Anil\"])\n",
    "print(\"Home Town of Pankaj   --> \",HomeTown[\"Pankaj\"])\n",
    "print(\"Home Town of Pankaj   --> \",HomeTown[\"Agra\"])"
   ]
  },
  {
   "cell_type": "markdown",
   "id": "de261516-ab8f-422e-83e3-7c62a80c2c86",
   "metadata": {},
   "source": [
    "#### 13.7 More example 2"
   ]
  },
  {
   "cell_type": "code",
   "execution_count": 9,
   "id": "db7d923b-118c-4d50-bb71-50e4a93d2da8",
   "metadata": {},
   "outputs": [
    {
     "name": "stdout",
     "output_type": "stream",
     "text": [
      "Original Dictionary   -->  {'Prashant': 'Delhi', 'Govind': 'Gwalior', 'Anil': 'Morena', 'Pankaj': 'Agra'}\n",
      "Home Town of  Prashant  is  Delhi\n",
      "Home Town of  Govind  is  Gwalior\n",
      "Home Town of  Anil  is  Morena\n",
      "Home Town of  Pankaj  is  Agra\n"
     ]
    }
   ],
   "source": [
    "HomeTown = {\"Prashant\":\"Delhi\", \"Govind\":\"Gwalior\", \"Anil\":\"Morena\", \"Pankaj\":\"Agra\"}\n",
    "print(\"Original Dictionary   --> \",HomeTown)\n",
    "for d in HomeTown:\n",
    "    print(\"Home Town of \", d, \" is \", HomeTown[d])"
   ]
  },
  {
   "cell_type": "code",
   "execution_count": null,
   "id": "db35244e-9ecb-49a4-be8c-c74e77fa09e8",
   "metadata": {},
   "outputs": [],
   "source": []
  }
 ],
 "metadata": {
  "kernelspec": {
   "display_name": "Python 3 (ipykernel)",
   "language": "python",
   "name": "python3"
  },
  "language_info": {
   "codemirror_mode": {
    "name": "ipython",
    "version": 3
   },
   "file_extension": ".py",
   "mimetype": "text/x-python",
   "name": "python",
   "nbconvert_exporter": "python",
   "pygments_lexer": "ipython3",
   "version": "3.12.7"
  }
 },
 "nbformat": 4,
 "nbformat_minor": 5
}
