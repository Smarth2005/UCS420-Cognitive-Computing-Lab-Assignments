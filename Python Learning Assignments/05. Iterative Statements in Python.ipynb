{
 "cells": [
  {
   "cell_type": "markdown",
   "id": "601b11c8-c130-424b-9379-6e971069b06a",
   "metadata": {},
   "source": [
    "## 5. Endless Possibilities: Unlocking the Concept of Loops in Python"
   ]
  },
  {
   "cell_type": "markdown",
   "id": "72132c0d-5fd4-41b7-9a63-8055f1c8c559",
   "metadata": {},
   "source": [
    "#### **Learning**\n",
    "#### **5.1 The Membership Operators : The 'in' Operator**  \n",
    "\n",
    "##### The 'in' operator is used to check whether or not a given value exits in the sequence. It evaluates to <span style=\"color: blue; font-weight:bold;\">_**True**_</span> if it finds a value in the specified sequence, else it returns to  <span style=\"color: blue; font-weight:bold;\">_**False**_</span>. \n",
    "\n",
    "_**Syntax:**_ <span style=\"color: blue; font-weight:bold;\">value in [sequence]</span>\n",
    "\n",
    "_**Demonstration:**_"
   ]
  },
  {
   "cell_type": "code",
   "execution_count": 1,
   "id": "988215c0-059a-4f9a-bf8f-dbfad2175ea6",
   "metadata": {},
   "outputs": [
    {
     "name": "stdout",
     "output_type": "stream",
     "text": [
      "True\n"
     ]
    }
   ],
   "source": [
    "print(10 in [1,2,3,10])"
   ]
  },
  {
   "cell_type": "code",
   "execution_count": 3,
   "id": "d18c104d-a4ac-4ccd-85d2-ca5b6a497261",
   "metadata": {},
   "outputs": [
    {
     "name": "stdout",
     "output_type": "stream",
     "text": [
      "False\n"
     ]
    }
   ],
   "source": [
    "print(100 in [10,20])"
   ]
  },
  {
   "cell_type": "markdown",
   "id": "da3be2ee-c815-4b63-a7f0-ab19668f72e8",
   "metadata": {},
   "source": [
    "#### **5.2 The range() function:**  \n",
    "##### The range() function is helpful in generating a sequence of numbers in the form of a list.\n",
    "##### _**Syntax:**_ <span style=\"color: blue; font-weight:bold;\">range(initial value, final value, step value)</span>  \n",
    "##### _**Demonstration:**_"
   ]
  },
  {
   "cell_type": "code",
   "execution_count": 5,
   "id": "d3a1faaf-021f-4558-9bf9-d092a7bc2944",
   "metadata": {},
   "outputs": [
    {
     "name": "stdout",
     "output_type": "stream",
     "text": [
      "True\n"
     ]
    }
   ],
   "source": [
    "i = 15\n",
    "print(i in range(10,20)) # Checking whether a given number is present in the range or not."
   ]
  },
  {
   "cell_type": "code",
   "execution_count": 6,
   "id": "bd484bda-2410-4b53-acba-3114c6c60f60",
   "metadata": {},
   "outputs": [
    {
     "name": "stdout",
     "output_type": "stream",
     "text": [
      "False\n"
     ]
    }
   ],
   "source": [
    "i = 15\n",
    "print(i in range(101,200))"
   ]
  },
  {
   "cell_type": "code",
   "execution_count": 7,
   "id": "dadff09d-3330-4b59-8aed-6da456c6c3bb",
   "metadata": {},
   "outputs": [
    {
     "name": "stdout",
     "output_type": "stream",
     "text": [
      "range(10)         -->  [0, 1, 2, 3, 4, 5, 6, 7, 8, 9]\n",
      "range(10,20)      -->  [10, 11, 12, 13, 14, 15, 16, 17, 18, 19]\n",
      "range(0,20,2)     -->  [0, 2, 4, 6, 8, 10, 12, 14, 16, 18]\n",
      "range(-10,-20,2)  -->  []\n",
      "range(-10,-20,-2) -->  [-10, -12, -14, -16, -18]\n"
     ]
    }
   ],
   "source": [
    "# Generating the sequence of numbers in the form of a list\n",
    "print(\"range(10)         --> \", list(range(10)))\n",
    "print(\"range(10,20)      --> \", list(range(10,20)))\n",
    "print(\"range(0,20,2)     --> \", list(range(0,20,2)))\n",
    "print(\"range(-10,-20,2)  --> \", list(range(-10,-20,2)))\n",
    "print(\"range(-10,-20,-2) --> \", list(range(-10,-20,-2)))"
   ]
  },
  {
   "cell_type": "markdown",
   "id": "895d7abf-7876-4a0f-8b5d-24feb091bbb7",
   "metadata": {},
   "source": [
    "#### Iterative Statements in Python: \n",
    "In Python, there are two types of iterative statements (repetitive statements / looping statements / loops):  \n",
    "1. for loop   : Used when we know the exact number of iterations (e.g., iterating through a list or using a range). Also called as a definite loop.\n",
    "2. while loop : Use when the number of iterations is not fixed and depends on a condition (e.g., waiting for user input or processing data until a condition is met)."
   ]
  },
  {
   "cell_type": "markdown",
   "id": "60eccdb2-db79-4517-8d08-a47992860270",
   "metadata": {},
   "source": [
    "#### **5.3 The for loop**  \n",
    "##### _**Syntax:**_ \n",
    "##### **1.** <span style=\"color: green; font-weight: bold;\">for</span> `<variable>` <span style=\"color: green; font-weight: bold;\">in</span> `<sequence>`:  \n",
    "> ##### loop body (statements to be executed)  \n",
    "\n",
    "##### **2.** <span style=\"color: green; font-weight: bold;\">for</span> `<variable>` <span style=\"color: green; font-weight: bold;\">in</span> <span style=\"color: green;\">range (initial value, final value, step value)</span> :  \n",
    "> ##### loop body (statements to be executed)  "
   ]
  },
  {
   "cell_type": "code",
   "execution_count": 8,
   "id": "a136b5b8-2478-43c3-b74e-3fc15f49f837",
   "metadata": {},
   "outputs": [
    {
     "name": "stdout",
     "output_type": "stream",
     "text": [
      "1\n",
      "2\n",
      "3\n",
      "4\n"
     ]
    }
   ],
   "source": [
    "# Version-1\n",
    "i = 1\n",
    "for i in range(1,5):\n",
    "    print(i)"
   ]
  },
  {
   "cell_type": "code",
   "execution_count": 9,
   "id": "7fca8312-932e-4b21-b0e6-744921e162f4",
   "metadata": {},
   "outputs": [
    {
     "name": "stdout",
     "output_type": "stream",
     "text": [
      "0\n",
      "2\n",
      "4\n",
      "6\n",
      "8\n",
      "10\n",
      "12\n",
      "14\n",
      "16\n",
      "18\n"
     ]
    }
   ],
   "source": [
    "# Version-2\n",
    "for i in range(0,20,2):\n",
    "    print(i)"
   ]
  },
  {
   "cell_type": "code",
   "execution_count": 10,
   "id": "6c43091e-cae2-414e-a811-a7c0b8b3f1ca",
   "metadata": {},
   "outputs": [
    {
     "name": "stdout",
     "output_type": "stream",
     "text": [
      "0\n",
      "-2\n",
      "-4\n",
      "-6\n",
      "-8\n"
     ]
    }
   ],
   "source": [
    "# Version-3\n",
    "for i in range(0,-10,-2):\n",
    "    print(i)"
   ]
  },
  {
   "cell_type": "code",
   "execution_count": 11,
   "id": "a6c0c036-8e7f-46ed-abd5-4328aeb6cea4",
   "metadata": {},
   "outputs": [
    {
     "name": "stdout",
     "output_type": "stream",
     "text": [
      "10\n",
      "20\n",
      "30\n",
      "40\n",
      "50\n"
     ]
    }
   ],
   "source": [
    "# Version-4\n",
    "for i in (10,20,30,40,50):\n",
    "    print(i)"
   ]
  },
  {
   "cell_type": "code",
   "execution_count": 12,
   "id": "23ef13e6-11e1-4305-a39c-ecc6bb974f8e",
   "metadata": {},
   "outputs": [
    {
     "name": "stdout",
     "output_type": "stream",
     "text": [
      "apple\n",
      "mango\n",
      "banana\n",
      "kiwi\n",
      "orange\n"
     ]
    }
   ],
   "source": [
    "# Version-5\n",
    "fruits = [\"apple\", \"mango\", \"banana\", \"kiwi\", \"orange\"]\n",
    "for fruit in fruits:\n",
    "    print(fruit)"
   ]
  },
  {
   "cell_type": "markdown",
   "id": "881e0391-2f11-4e51-ba0a-46e7764154d1",
   "metadata": {},
   "source": [
    "#### **5.4 The While Loop**  \n",
    "##### _**Syntax:**_ \n",
    "##### initialization\n",
    "##### <span style=\"color: green; font-weight: bold;\">while</span> `<condition>` :\n",
    "> ##### loop body\n",
    "> ##### updation  "
   ]
  },
  {
   "cell_type": "code",
   "execution_count": 13,
   "id": "27c9b594-e1ec-41c7-abe0-145a3c7bd743",
   "metadata": {},
   "outputs": [
    {
     "name": "stdout",
     "output_type": "stream",
     "text": [
      "1\n",
      "2\n",
      "3\n",
      "4\n",
      "5\n",
      "6\n",
      "7\n",
      "8\n",
      "9\n",
      "10\n"
     ]
    }
   ],
   "source": [
    "p = 1\n",
    "while p!=11:\n",
    "    print(p)\n",
    "    p+=1"
   ]
  },
  {
   "cell_type": "code",
   "execution_count": 14,
   "id": "a6a5725f-575c-49b5-a74d-6376ad02fd37",
   "metadata": {},
   "outputs": [
    {
     "name": "stdout",
     "output_type": "stream",
     "text": [
      "1\n",
      "2\n",
      "3\n",
      "4\n",
      "5\n",
      "6\n",
      "7\n",
      "8\n",
      "9\n",
      "10\n"
     ]
    }
   ],
   "source": [
    "i = 1\n",
    "while i <= 10:\n",
    "    print(i)\n",
    "    i += 1"
   ]
  },
  {
   "cell_type": "markdown",
   "id": "a1f4da25-4b61-4fca-ad85-3c1659d440c4",
   "metadata": {},
   "source": [
    "#### **5.5 The Jump Statement**  \n",
    "##### The **jump** statement is used to transfer control from one part of the program to another. In Python, there are two main types of **jump** statements: <span style=\"color: blue;\">break</span> and <span style=\"color: blue;\">continue</span>.  \n",
    "\n",
    "##### The **break** statement immediately *terminates/exits the loop* and the control of the program moves to the next statement following the loop structure.  \n",
    "##### The **continue** statement *terminates the current iteration of the loop* and transfers the control to the top of the loop, where the condition is evaluated again. If the condition is true, the loop continues with the next iteration."
   ]
  },
  {
   "cell_type": "code",
   "execution_count": 16,
   "id": "deb45e4a-5550-48f4-a49a-df5ad4267a34",
   "metadata": {},
   "outputs": [
    {
     "name": "stdout",
     "output_type": "stream",
     "text": [
      "Com"
     ]
    }
   ],
   "source": [
    "for blog in \"ComputerMagic\":\n",
    "    if blog == 'p':\n",
    "        break\n",
    "    print(blog, end = \"\") \n",
    "# By default, the print() function adds a newline character (\\n) after each print statement, which moves the output to the next line.\n",
    "# When we set end=\"\", it means that after each print, nothing (no newline or other character) is added at the end.\n",
    "#This is useful if you want to print all items on the same line or add something else instead of a newline."
   ]
  },
  {
   "cell_type": "code",
   "execution_count": 17,
   "id": "0cfaaf89-5bb9-4cf4-abdf-93a163077893",
   "metadata": {},
   "outputs": [
    {
     "name": "stdout",
     "output_type": "stream",
     "text": [
      "ComuterMagic"
     ]
    }
   ],
   "source": [
    "for blog in \"ComputerMagic\":\n",
    "    if blog == 'p':\n",
    "        continue\n",
    "    print(blog, end = \"\")"
   ]
  },
  {
   "cell_type": "markdown",
   "id": "df040d5b-792b-4d20-a50f-78953e74e11c",
   "metadata": {},
   "source": [
    "#### **Practice Programs:**"
   ]
  },
  {
   "cell_type": "markdown",
   "id": "3e4f7476-8a8b-4d72-93c4-098939a0822d",
   "metadata": {},
   "source": [
    "**1. WAP to print the first 10 natural numbers.**"
   ]
  },
  {
   "cell_type": "code",
   "execution_count": 18,
   "id": "a62380ec-ef1d-49f7-aa81-d194801d1eca",
   "metadata": {},
   "outputs": [
    {
     "name": "stdout",
     "output_type": "stream",
     "text": [
      "1\n",
      "2\n",
      "3\n",
      "4\n",
      "5\n",
      "6\n",
      "7\n",
      "8\n",
      "9\n",
      "10\n"
     ]
    }
   ],
   "source": [
    "i = 1\n",
    "while i <= 10:\n",
    "    print(i)\n",
    "    i += 1"
   ]
  },
  {
   "cell_type": "markdown",
   "id": "89b0e8e8-7b18-48ff-8177-835a880570bf",
   "metadata": {},
   "source": [
    "**2. WAP to print the square of the numbers between 10 and 20.**"
   ]
  },
  {
   "cell_type": "code",
   "execution_count": 19,
   "id": "5e8c7712-bc91-4ca1-8ecc-4146611432fa",
   "metadata": {},
   "outputs": [
    {
     "name": "stdout",
     "output_type": "stream",
     "text": [
      "100\n",
      "121\n",
      "144\n",
      "169\n",
      "196\n",
      "225\n",
      "256\n",
      "289\n",
      "324\n",
      "361\n"
     ]
    }
   ],
   "source": [
    "for x in range(10,20):\n",
    "    print(x**2)"
   ]
  },
  {
   "cell_type": "markdown",
   "id": "a847c448-af41-4c34-9de2-984d5dd9211b",
   "metadata": {},
   "source": [
    "**3. WAP to print the multiples of 3 and their sum (in the range 10 to 30).**"
   ]
  },
  {
   "cell_type": "code",
   "execution_count": 20,
   "id": "9d17d120-8f21-425d-9995-5611a97b9c52",
   "metadata": {},
   "outputs": [
    {
     "name": "stdout",
     "output_type": "stream",
     "text": [
      "12\n",
      "15\n",
      "18\n",
      "21\n",
      "24\n",
      "27\n",
      "30\n",
      "The sum of multiples of 3 in the range 10 to 30 is  147\n"
     ]
    }
   ],
   "source": [
    "i = 10\n",
    "sum = 0\n",
    "while i<=30:\n",
    "    if i%3 == 0:\n",
    "        print(i)\n",
    "        sum += i\n",
    "    i += 1\n",
    "print(\"The sum of multiples of 3 in the range 10 to 30 is \",sum)"
   ]
  },
  {
   "cell_type": "markdown",
   "id": "2be5801f-36e5-492e-8213-65c9fe80724d",
   "metadata": {},
   "source": [
    "**4. WAP to print the table of a number.**"
   ]
  },
  {
   "cell_type": "code",
   "execution_count": 21,
   "id": "6aa4b24f-be62-403e-88d2-a97e0afeeb22",
   "metadata": {},
   "outputs": [
    {
     "name": "stdin",
     "output_type": "stream",
     "text": [
      "Enter the number of which the table has to be printed:  5\n"
     ]
    },
    {
     "name": "stdout",
     "output_type": "stream",
     "text": [
      "5  *  0  =  0\n",
      "5  *  1  =  5\n",
      "5  *  2  =  10\n",
      "5  *  3  =  15\n",
      "5  *  4  =  20\n",
      "5  *  5  =  25\n",
      "5  *  6  =  30\n",
      "5  *  7  =  35\n",
      "5  *  8  =  40\n",
      "5  *  9  =  45\n",
      "5  *  10  =  50\n"
     ]
    }
   ],
   "source": [
    "n = int(input(\"Enter the number of which the table has to be printed: \"))\n",
    "i = 0\n",
    "while i <= 10:\n",
    "    print(n, \" * \", i, \" = \", n*i)\n",
    "    i += 1"
   ]
  },
  {
   "cell_type": "code",
   "execution_count": 22,
   "id": "cc2e80b7-bd0a-43a5-8011-91da529bc74c",
   "metadata": {},
   "outputs": [
    {
     "name": "stdin",
     "output_type": "stream",
     "text": [
      "Enter the number of which the table has to be printed:  19\n"
     ]
    },
    {
     "name": "stdout",
     "output_type": "stream",
     "text": [
      "19  *  0  =  0\n",
      "19  *  1  =  19\n",
      "19  *  2  =  38\n",
      "19  *  3  =  57\n",
      "19  *  4  =  76\n",
      "19  *  5  =  95\n",
      "19  *  6  =  114\n",
      "19  *  7  =  133\n",
      "19  *  8  =  152\n",
      "19  *  9  =  171\n",
      "19  *  10  =  190\n"
     ]
    }
   ],
   "source": [
    "exec(In[21])"
   ]
  },
  {
   "cell_type": "markdown",
   "id": "49be36ee-f9ad-4541-bf3f-7641f5309ac8",
   "metadata": {},
   "source": [
    "**5. WAP to print the sum of all the even and odd numbers within a range.**"
   ]
  },
  {
   "cell_type": "code",
   "execution_count": 23,
   "id": "87926b01-43d5-4c0d-9f8a-c225fcecd376",
   "metadata": {},
   "outputs": [
    {
     "name": "stdin",
     "output_type": "stream",
     "text": [
      "Enter the lower limit:  10\n",
      "Enter the upper limit:  20\n"
     ]
    },
    {
     "name": "stdout",
     "output_type": "stream",
     "text": [
      "Loop terminated successfully.\n",
      "The sum of all the even numbers in the given series is:  90\n",
      "The sum of all the odd numbers in the given series is:  75\n"
     ]
    }
   ],
   "source": [
    "a = int(input(\"Enter the lower limit: \"))\n",
    "b = int(input(\"Enter the upper limit: \"))\n",
    "even = 0\n",
    "odd = 0\n",
    "for i in range(a, b+1):\n",
    "    if i % 2 == 0: # even number\n",
    "        even += i\n",
    "    else:\n",
    "        odd += i\n",
    "\n",
    "else: \n",
    "    print(\"Loop terminated successfully.\")\n",
    "\n",
    "print(\"The sum of all the even numbers in the given series is: \",even)\n",
    "print(\"The sum of all the odd numbers in the given series is: \",odd)"
   ]
  },
  {
   "cell_type": "markdown",
   "id": "498e2e52-d588-4d65-a4f6-7ee2d69784ac",
   "metadata": {},
   "source": [
    "**6. WAP to print the series: 4.. 9.. 16...........100.**"
   ]
  },
  {
   "cell_type": "code",
   "execution_count": 25,
   "id": "3c2f0fd4-5afd-4b15-9e35-689083a9d19f",
   "metadata": {},
   "outputs": [
    {
     "name": "stdout",
     "output_type": "stream",
     "text": [
      "4\n",
      "9\n",
      "16\n",
      "25\n",
      "36\n",
      "49\n",
      "64\n",
      "81\n",
      "100\n",
      "\n",
      "Loop terminated successfully\n"
     ]
    }
   ],
   "source": [
    "a = 2\n",
    "b = 10\n",
    "i = a\n",
    "while i <= b:\n",
    "    print(i**2)\n",
    "    i += 1\n",
    "else: # The else part will be exceuted when the loop terminates successfully.\n",
    "    print()\n",
    "    print(\"Loop terminated successfully\")"
   ]
  },
  {
   "cell_type": "markdown",
   "id": "5e04a98f-9804-4f84-ac6d-3a5c9ae9c97e",
   "metadata": {},
   "source": [
    "**7. WAP to print the numbers in a series from 10 to 20 with a step value 3.**"
   ]
  },
  {
   "cell_type": "code",
   "execution_count": 26,
   "id": "3b5d2bef-dc20-45fe-a2d5-a6a3f9f32e2e",
   "metadata": {},
   "outputs": [
    {
     "name": "stdout",
     "output_type": "stream",
     "text": [
      "10\n",
      "13\n",
      "16\n",
      "19\n"
     ]
    }
   ],
   "source": [
    "for i in range(10,20,3):\n",
    "    print(i)"
   ]
  },
  {
   "cell_type": "markdown",
   "id": "015c503d-83a1-4ab6-8a21-b29b333b5227",
   "metadata": {},
   "source": [
    "**8. WAP to find the factorial of a number.**"
   ]
  },
  {
   "cell_type": "code",
   "execution_count": 27,
   "id": "4beeb87e-19d4-4421-b8d8-f08af3cf6e0c",
   "metadata": {},
   "outputs": [
    {
     "name": "stdin",
     "output_type": "stream",
     "text": [
      "Enter the number whose factorial has to be calculated:  5\n"
     ]
    },
    {
     "name": "stdout",
     "output_type": "stream",
     "text": [
      "The factorial of the number is: 120\n"
     ]
    }
   ],
   "source": [
    "num = int(input(\"Enter the number whose factorial has to be calculated: \"))\n",
    "product = 1\n",
    "for i in range(1,num+1):\n",
    "    product *= i\n",
    "print(\"The factorial of the number is:\",product)"
   ]
  },
  {
   "cell_type": "markdown",
   "id": "eb9a4b82-5fb2-4309-a54d-54a023747f23",
   "metadata": {},
   "source": [
    "**9. WAP to print the Fibonacci Series.**"
   ]
  },
  {
   "cell_type": "code",
   "execution_count": 29,
   "id": "a2df2dde-d118-4b09-9da0-def3900fed9c",
   "metadata": {},
   "outputs": [
    {
     "name": "stdin",
     "output_type": "stream",
     "text": [
      "Enter the level upto which you want to print the series:  8\n"
     ]
    },
    {
     "name": "stdout",
     "output_type": "stream",
     "text": [
      "0\n",
      "1\n",
      "1\n",
      "2\n",
      "3\n",
      "5\n",
      "8\n",
      "13\n",
      "21\n",
      "34\n"
     ]
    }
   ],
   "source": [
    "n = int(input(\"Enter the level upto which you want to print the series: \"))\n",
    "a = 0\n",
    "b = 1\n",
    "print(a)\n",
    "print(b)\n",
    "for i in range(1,n+1):\n",
    "    c = a+b\n",
    "    print(c)\n",
    "    a = b\n",
    "    b = c"
   ]
  },
  {
   "cell_type": "markdown",
   "id": "6ec6d986-1ed4-4099-af95-dca5c26c05fa",
   "metadata": {},
   "source": [
    "**10. Sum all numbers from 1 to 10**"
   ]
  },
  {
   "cell_type": "code",
   "execution_count": 32,
   "id": "10a1ce8e-3807-46ae-bd37-a8be14a35025",
   "metadata": {},
   "outputs": [
    {
     "name": "stdout",
     "output_type": "stream",
     "text": [
      "Sum is:  55\n"
     ]
    }
   ],
   "source": [
    "# Version-1\n",
    "s = 0\n",
    "for i in range(1,11):\n",
    "    s += i\n",
    "print(\"Sum is: \",s)"
   ]
  },
  {
   "cell_type": "code",
   "execution_count": 33,
   "id": "dad37d89-6400-4e47-873b-9a4711bb5af3",
   "metadata": {},
   "outputs": [
    {
     "ename": "TypeError",
     "evalue": "'int' object is not callable",
     "output_type": "error",
     "traceback": [
      "\u001b[1;31m---------------------------------------------------------------------------\u001b[0m",
      "\u001b[1;31mTypeError\u001b[0m                                 Traceback (most recent call last)",
      "Cell \u001b[1;32mIn[33], line 2\u001b[0m\n\u001b[0;32m      1\u001b[0m \u001b[38;5;66;03m# Version-2\u001b[39;00m\n\u001b[1;32m----> 2\u001b[0m \u001b[38;5;28mprint\u001b[39m(\u001b[38;5;124m\"\u001b[39m\u001b[38;5;124mSum is: \u001b[39m\u001b[38;5;124m\"\u001b[39m,\u001b[38;5;28msum\u001b[39m(\u001b[38;5;28mrange\u001b[39m(\u001b[38;5;241m1\u001b[39m,\u001b[38;5;241m11\u001b[39m)))\n",
      "\u001b[1;31mTypeError\u001b[0m: 'int' object is not callable"
     ]
    }
   ],
   "source": [
    "# Version-2\n",
    "print(\"Sum is: \",sum(range(1,11)))"
   ]
  },
  {
   "cell_type": "code",
   "execution_count": 34,
   "id": "d7b0c96a-a746-41d8-a6e2-a0803a1ee067",
   "metadata": {},
   "outputs": [],
   "source": [
    "del sum"
   ]
  },
  {
   "cell_type": "code",
   "execution_count": 35,
   "id": "079142d3-d443-454e-aefd-9c7e6714b61e",
   "metadata": {},
   "outputs": [
    {
     "data": {
      "text/plain": [
       "builtin_function_or_method"
      ]
     },
     "execution_count": 35,
     "metadata": {},
     "output_type": "execute_result"
    }
   ],
   "source": [
    "type(sum)"
   ]
  },
  {
   "cell_type": "code",
   "execution_count": 36,
   "id": "25a11809-b09b-451b-a1a2-24709df47a2e",
   "metadata": {},
   "outputs": [
    {
     "name": "stdout",
     "output_type": "stream",
     "text": [
      "Sum is:  55\n"
     ]
    }
   ],
   "source": [
    "# Version-2\n",
    "print(\"Sum is: \",sum(range(1,11)))"
   ]
  },
  {
   "cell_type": "markdown",
   "id": "62851250-be87-4b7c-9c5c-eb3e0b5a16b7",
   "metadata": {},
   "source": [
    "**11. WAP to check whether a number is prime or not.**"
   ]
  },
  {
   "cell_type": "code",
   "execution_count": 39,
   "id": "5fa9b003-8e0d-4fbe-890e-957da3d0c418",
   "metadata": {},
   "outputs": [
    {
     "name": "stdin",
     "output_type": "stream",
     "text": [
      "Enter a number:  45\n"
     ]
    },
    {
     "name": "stdout",
     "output_type": "stream",
     "text": [
      "45 is not a prime number\n"
     ]
    }
   ],
   "source": [
    "num = int(input(\"Enter a number: \"))\n",
    "prime = True\n",
    "for i in range(2,num//2 +1):\n",
    "    if num % i == 0:\n",
    "        prime = False\n",
    "        break\n",
    "\n",
    "if prime == True:\n",
    "    print(num, \"is a prime number\")\n",
    "else:\n",
    "    print(num, \"is not a prime number\")"
   ]
  },
  {
   "cell_type": "code",
   "execution_count": 40,
   "id": "d86a3a9e-0736-4177-857a-effa3e499a06",
   "metadata": {},
   "outputs": [
    {
     "name": "stdin",
     "output_type": "stream",
     "text": [
      "Enter a number:  37\n"
     ]
    },
    {
     "name": "stdout",
     "output_type": "stream",
     "text": [
      "37 is a prime number\n"
     ]
    }
   ],
   "source": [
    "exec(In[39])"
   ]
  },
  {
   "cell_type": "markdown",
   "id": "845fe6e4-ef7c-497e-969f-1193aae7b777",
   "metadata": {},
   "source": [
    "**12. Sumit wants to write the letters A to O of the English alphabet in the following pattern. Write the program helping him to do show this pattern in Python.**\n",
    "\n",
    "<pre> <!--preserve the newlines and spaces-->\n",
    "A  \n",
    "B    C  \n",
    "D    E    F  \n",
    "G    H    I    J  \n",
    "K    L    M    N    O\n",
    "</pre>\n"
   ]
  },
  {
   "cell_type": "code",
   "execution_count": 30,
   "id": "c7bf955a-8d33-41ac-be98-be210b49c55f",
   "metadata": {},
   "outputs": [
    {
     "name": "stdout",
     "output_type": "stream",
     "text": [
      "A    \n",
      "B    C    \n",
      "D    E    F    \n",
      "G    H    I    J    \n",
      "K    L    M    N    O    \n"
     ]
    }
   ],
   "source": [
    "# Initialize variables\n",
    "start_char = ord('A')                         # ASCII value of 'A'\n",
    "current_char = start_char\n",
    "rows = 5                                      # Number of rows to display\n",
    "\n",
    "# Generate the pattern\n",
    "for i in range(1, rows + 1):                  # Loop through rows\n",
    "    for j in range(i):                        # Loop through columns in each row\n",
    "        print(chr(current_char), end=\"    \")  # Print the character with spacing\n",
    "        current_char += 1                     # Move to the next character\n",
    "    print()                                   # Move to the next line after each row\n"
   ]
  },
  {
   "cell_type": "code",
   "execution_count": 31,
   "id": "78d84c33-ca3b-4824-a688-235e65b9d40d",
   "metadata": {},
   "outputs": [
    {
     "name": "stdin",
     "output_type": "stream",
     "text": [
      "Enter the last letter (A to Z):  Z\n"
     ]
    },
    {
     "name": "stdout",
     "output_type": "stream",
     "text": [
      "A    \n",
      "B    C    \n",
      "D    E    F    \n",
      "G    H    I    J    \n",
      "K    L    M    N    O    \n",
      "P    Q    R    S    T    U    \n",
      "V    W    X    Y    Z    \n"
     ]
    }
   ],
   "source": [
    "# Get user input for the last letter\n",
    "end_char = input(\"Enter the last letter (A to Z): \").upper()\n",
    "\n",
    "# Validate input\n",
    "if len(end_char) != 1 or not ('A' <= end_char <= 'Z'):\n",
    "    print(\"Invalid input. Please enter a single letter between A and Z.\")\n",
    "else:\n",
    "    # Initialize variables\n",
    "    start_char = ord('A')                         # ASCII value of 'A'\n",
    "    last_char = ord(end_char)                     # ASCII value of the input letter\n",
    "    current_char = start_char\n",
    "    row = 1                                       # Start with the first row\n",
    "\n",
    "    # Generate the pattern\n",
    "    while current_char <= last_char:              # Loop until the current character exceeds the last letter\n",
    "        for _ in range(row):                      # Loop through the columns in each row\n",
    "            if current_char > last_char:          # Break if we exceed the last letter\n",
    "                break\n",
    "            print(chr(current_char), end=\"    \")  # Print the character with spacing\n",
    "            current_char += 1                     # Move to the next character\n",
    "        print()                                   # Move to the next line after each row\n",
    "        row += 1                                  # Increment the row count\n",
    "\n",
    "#Top Learning"
   ]
  },
  {
   "cell_type": "markdown",
   "id": "2648286c-50e3-4ef2-8516-b497bd15c0d9",
   "metadata": {},
   "source": [
    "#### **Assignment Tasks:**"
   ]
  },
  {
   "cell_type": "markdown",
   "id": "79f80d38-f768-4ced-954d-eef4af49cc97",
   "metadata": {},
   "source": [
    "**1. WAP to print the table of 7,9.**"
   ]
  },
  {
   "cell_type": "code",
   "execution_count": 42,
   "id": "4bf8bb62-7355-49c5-8676-0c9993144a8d",
   "metadata": {},
   "outputs": [
    {
     "name": "stdout",
     "output_type": "stream",
     "text": [
      "7  *  1  =  7\n",
      "7  *  2  =  14\n",
      "7  *  3  =  21\n",
      "7  *  4  =  28\n",
      "7  *  5  =  35\n",
      "7  *  6  =  42\n",
      "7  *  7  =  49\n",
      "7  *  8  =  56\n",
      "7  *  9  =  63\n",
      "7  *  10  =  70\n"
     ]
    }
   ],
   "source": [
    "n = 7\n",
    "for i in range(1,11):\n",
    "    print(n, \" * \", i, \" = \", n*i)"
   ]
  },
  {
   "cell_type": "code",
   "execution_count": 43,
   "id": "182f0dd4-2df4-44af-935f-b1ef3477802a",
   "metadata": {},
   "outputs": [
    {
     "name": "stdout",
     "output_type": "stream",
     "text": [
      "9  *  1  =  9\n",
      "9  *  2  =  18\n",
      "9  *  3  =  27\n",
      "9  *  4  =  36\n",
      "9  *  5  =  45\n",
      "9  *  6  =  54\n",
      "9  *  7  =  63\n",
      "9  *  8  =  72\n",
      "9  *  9  =  81\n",
      "9  *  10  =  90\n"
     ]
    }
   ],
   "source": [
    "n = 9\n",
    "for i in range(1,11):\n",
    "    print(n, \" * \", i, \" = \", n*i)"
   ]
  },
  {
   "cell_type": "markdown",
   "id": "42d63821-c068-440f-91fa-c72ddc409e9b",
   "metadata": {},
   "source": [
    "**2. WAP to print the table of n and n is given by user.**"
   ]
  },
  {
   "cell_type": "code",
   "execution_count": 44,
   "id": "f3ff9b7c-76a4-4515-a8b7-bab1ef8a91b7",
   "metadata": {},
   "outputs": [
    {
     "name": "stdin",
     "output_type": "stream",
     "text": [
      "Enter the number:  16\n"
     ]
    },
    {
     "name": "stdout",
     "output_type": "stream",
     "text": [
      "16  *  1  =  16\n",
      "16  *  2  =  32\n",
      "16  *  3  =  48\n",
      "16  *  4  =  64\n",
      "16  *  5  =  80\n",
      "16  *  6  =  96\n",
      "16  *  7  =  112\n",
      "16  *  8  =  128\n",
      "16  *  9  =  144\n",
      "16  *  10  =  160\n"
     ]
    }
   ],
   "source": [
    "n = int(input(\"Enter the number: \"))\n",
    "for i in range(1,11):\n",
    "    print(n, \" * \", i, \" = \", n*i)"
   ]
  },
  {
   "cell_type": "markdown",
   "id": "c72e2e02-145d-4029-9ae3-72f6f4159ed4",
   "metadata": {},
   "source": [
    "**3. WAP to add all the numbers from 1 to n and n is given by user.**"
   ]
  },
  {
   "cell_type": "code",
   "execution_count": 47,
   "id": "88a727a4-f312-4237-9aa0-0b645975c7b5",
   "metadata": {},
   "outputs": [
    {
     "name": "stdin",
     "output_type": "stream",
     "text": [
      "Enter a number:  10\n"
     ]
    },
    {
     "name": "stdout",
     "output_type": "stream",
     "text": [
      "The sum of numbers from 1 to 10 is 55\n"
     ]
    }
   ],
   "source": [
    "n = int(input(\"Enter a number: \"))\n",
    "print(\"The sum of numbers from 1 to {} is {}\".format(n, sum(range(1,n+1))))"
   ]
  },
  {
   "cell_type": "markdown",
   "id": "a018c770-9ec4-45e4-b2a0-e792d1ebba1d",
   "metadata": {},
   "source": [
    "**4. WAP to find max among three numbers taken input from user. [Try max() function].**"
   ]
  },
  {
   "cell_type": "code",
   "execution_count": 48,
   "id": "667ec3d1-fac0-4a2e-a494-4b834d775567",
   "metadata": {},
   "outputs": [
    {
     "name": "stdin",
     "output_type": "stream",
     "text": [
      "Enter first number:  10.5\n",
      "Enter second number:  4.6\n",
      "Enter third number:  8.7\n"
     ]
    },
    {
     "name": "stdout",
     "output_type": "stream",
     "text": [
      "The maximum among the three numbers you entered is:  10.5\n"
     ]
    }
   ],
   "source": [
    "a = float(input(\"Enter first number: \"))\n",
    "b = float(input(\"Enter second number: \"))\n",
    "c = float(input(\"Enter third number: \"))\n",
    "print(\"The maximum among the three numbers you entered is: \", max(a,b,c))"
   ]
  },
  {
   "cell_type": "code",
   "execution_count": 49,
   "id": "cd2af28a-0ccf-4d09-ba1f-2fee1f0bbb43",
   "metadata": {},
   "outputs": [
    {
     "name": "stdout",
     "output_type": "stream",
     "text": [
      "The minimum is  4.6\n"
     ]
    }
   ],
   "source": [
    "print(\"The minimum is \",min(a,b,c))"
   ]
  },
  {
   "cell_type": "markdown",
   "id": "6ccb48db-73a1-4b63-b4ae-6f2db2239a27",
   "metadata": {},
   "source": [
    "**5. WAP to add all numbers divisible by 7 and 9 from 1 to n and n is given by the user.**"
   ]
  },
  {
   "cell_type": "code",
   "execution_count": 51,
   "id": "6b130ddb-7cbf-4dab-9fc2-abbe18cc20e5",
   "metadata": {},
   "outputs": [
    {
     "name": "stdin",
     "output_type": "stream",
     "text": [
      "Enter a number:  100\n"
     ]
    },
    {
     "name": "stdout",
     "output_type": "stream",
     "text": [
      "The sum of all numbers divisible by 7 and 9 is:  63\n"
     ]
    }
   ],
   "source": [
    "n = int(input(\"Enter a number: \"))\n",
    "i = 1\n",
    "s = 0\n",
    "while i <= n:\n",
    "    if i % 7 == 0 and i % 9 == 0:\n",
    "        s += i\n",
    "    i += 1\n",
    "\n",
    "print(\"The sum of all numbers divisible by 7 and 9 is: \",s)"
   ]
  },
  {
   "cell_type": "code",
   "execution_count": 52,
   "id": "a7c65905-0c79-459d-9c9a-2e9d5267ea52",
   "metadata": {},
   "outputs": [
    {
     "name": "stdin",
     "output_type": "stream",
     "text": [
      "Enter the upper limit of the range:  100\n"
     ]
    },
    {
     "name": "stdout",
     "output_type": "stream",
     "text": [
      "The sum of all numbers divisible by both 7 and 9 from 1 to 100 is 63\n"
     ]
    }
   ],
   "source": [
    "# Initialize the range\n",
    "start = 1\n",
    "end = int(input(\"Enter the upper limit of the range: \"))\n",
    "\n",
    "# Calculate the sum of numbers divisible by both 7 and 9\n",
    "result = sum(number for number in range(start, end + 1) if number % 7 == 0 and number % 9 == 0)\n",
    "\n",
    "# Print the result\n",
    "print(\"The sum of all numbers divisible by both 7 and 9 from {} to {} is {}\".format(start, end, result))\n"
   ]
  },
  {
   "cell_type": "markdown",
   "id": "d85fe1ba-0aa2-490f-b022-6cd28151ed8c",
   "metadata": {},
   "source": [
    "**6. WAP to add all prime numbers from 1 to n and n is given by the user.**"
   ]
  },
  {
   "cell_type": "code",
   "execution_count": 55,
   "id": "6f7fd949-a3d9-4749-9cf8-ae55292d58cc",
   "metadata": {},
   "outputs": [
    {
     "name": "stdin",
     "output_type": "stream",
     "text": [
      "Enter the upper limit:  100\n"
     ]
    },
    {
     "name": "stdout",
     "output_type": "stream",
     "text": [
      "The sum of all prime numbers from 1 to 100 is 1060\n"
     ]
    }
   ],
   "source": [
    "n = int(input(\"Enter the upper limit: \"))\n",
    "start = 2  # Prime numbers start from 2\n",
    "s = 0\n",
    "\n",
    "# Loop through all numbers from start to n\n",
    "for x in range(start, n + 1):\n",
    "    is_prime = True  # Assume x is prime\n",
    "    for i in range(2, int(x**0.5) + 1):  # Check divisors up to the square root of x\n",
    "        if x % i == 0:\n",
    "            is_prime = False\n",
    "            break\n",
    "    if is_prime:\n",
    "        s += x  # Add the prime number to the sum\n",
    "\n",
    "print(\"The sum of all prime numbers from 1 to {} is {}\".format(n, s))\n"
   ]
  },
  {
   "cell_type": "code",
   "execution_count": null,
   "id": "97dcf22f-2a83-47e3-8d30-a5228191d0de",
   "metadata": {},
   "outputs": [],
   "source": []
  }
 ],
 "metadata": {
  "kernelspec": {
   "display_name": "Python 3 (ipykernel)",
   "language": "python",
   "name": "python3"
  },
  "language_info": {
   "codemirror_mode": {
    "name": "ipython",
    "version": 3
   },
   "file_extension": ".py",
   "mimetype": "text/x-python",
   "name": "python",
   "nbconvert_exporter": "python",
   "pygments_lexer": "ipython3",
   "version": "3.12.7"
  }
 },
 "nbformat": 4,
 "nbformat_minor": 5
}
