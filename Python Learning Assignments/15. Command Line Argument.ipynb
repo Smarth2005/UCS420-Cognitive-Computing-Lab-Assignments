{
 "cells": [
  {
   "cell_type": "markdown",
   "id": "4a797ecd-d675-4857-a7ea-0cb292c89aa3",
   "metadata": {},
   "source": [
    "## 15. Command Line Argument"
   ]
  },
  {
   "cell_type": "markdown",
   "id": "c355c646-20c7-458f-87c7-c2c4fb7b96d1",
   "metadata": {},
   "source": [
    "#### 15.1 Add two numbers given at cmd line"
   ]
  },
  {
   "cell_type": "code",
   "execution_count": 1,
   "id": "21ec1d5a-c03b-4c41-b70a-cd396a0c435e",
   "metadata": {},
   "outputs": [
    {
     "name": "stdout",
     "output_type": "stream",
     "text": [
      "['D:\\\\Anaconda\\\\Lib\\\\site-packages\\\\ipykernel_launcher.py', '-f', 'C:\\\\Users\\\\lenovo\\\\AppData\\\\Roaming\\\\jupyter\\\\runtime\\\\kernel-ab9d61fa-116b-4ab3-8740-0966773a92f4.json']\n"
     ]
    },
    {
     "ename": "ValueError",
     "evalue": "invalid literal for int() with base 10: '-f'",
     "output_type": "error",
     "traceback": [
      "\u001b[1;31m---------------------------------------------------------------------------\u001b[0m",
      "\u001b[1;31mValueError\u001b[0m                                Traceback (most recent call last)",
      "Cell \u001b[1;32mIn[1], line 3\u001b[0m\n\u001b[0;32m      1\u001b[0m \u001b[38;5;28;01mimport\u001b[39;00m \u001b[38;5;21;01msys\u001b[39;00m\n\u001b[0;32m      2\u001b[0m \u001b[38;5;28mprint\u001b[39m(sys\u001b[38;5;241m.\u001b[39margv)\n\u001b[1;32m----> 3\u001b[0m a \u001b[38;5;241m=\u001b[39m \u001b[38;5;28mint\u001b[39m(sys\u001b[38;5;241m.\u001b[39margv[\u001b[38;5;241m1\u001b[39m])\n\u001b[0;32m      4\u001b[0m b \u001b[38;5;241m=\u001b[39m \u001b[38;5;28mint\u001b[39m(sys\u001b[38;5;241m.\u001b[39margv[\u001b[38;5;241m2\u001b[39m])\n\u001b[0;32m      5\u001b[0m c \u001b[38;5;241m=\u001b[39m a \u001b[38;5;241m+\u001b[39m b\n",
      "\u001b[1;31mValueError\u001b[0m: invalid literal for int() with base 10: '-f'"
     ]
    }
   ],
   "source": [
    "import sys\n",
    "print(sys.argv)\n",
    "a = int(sys.argv[1])\n",
    "b = int(sys.argv[2])\n",
    "c = a + b\n",
    "print(a, \" + \", b, \" = \", c)"
   ]
  },
  {
   "cell_type": "code",
   "execution_count": 2,
   "id": "af961aa9-56e1-41b3-80bc-7a6161ca3554",
   "metadata": {},
   "outputs": [
    {
     "name": "stdout",
     "output_type": "stream",
     "text": [
      "['D:\\\\Anaconda\\\\Lib\\\\site-packages\\\\ipykernel_launcher.py', '-f', 'C:\\\\Users\\\\lenovo\\\\AppData\\\\Roaming\\\\jupyter\\\\runtime\\\\kernel-ab9d61fa-116b-4ab3-8740-0966773a92f4.json']\n"
     ]
    },
    {
     "ename": "ValueError",
     "evalue": "invalid literal for int() with base 10: '-f'",
     "output_type": "error",
     "traceback": [
      "\u001b[1;31m---------------------------------------------------------------------------\u001b[0m",
      "\u001b[1;31mValueError\u001b[0m                                Traceback (most recent call last)",
      "Cell \u001b[1;32mIn[2], line 3\u001b[0m\n\u001b[0;32m      1\u001b[0m \u001b[38;5;28;01mimport\u001b[39;00m \u001b[38;5;21;01msys\u001b[39;00m\n\u001b[0;32m      2\u001b[0m \u001b[38;5;28mprint\u001b[39m(sys\u001b[38;5;241m.\u001b[39margv)\n\u001b[1;32m----> 3\u001b[0m a \u001b[38;5;241m=\u001b[39m \u001b[38;5;28mint\u001b[39m(sys\u001b[38;5;241m.\u001b[39margv[\u001b[38;5;241m1\u001b[39m])\n\u001b[0;32m      4\u001b[0m b \u001b[38;5;241m=\u001b[39m \u001b[38;5;28mint\u001b[39m(sys\u001b[38;5;241m.\u001b[39margv[\u001b[38;5;241m2\u001b[39m])\n\u001b[0;32m      5\u001b[0m c \u001b[38;5;241m=\u001b[39m a \u001b[38;5;241m+\u001b[39m b\n",
      "\u001b[1;31mValueError\u001b[0m: invalid literal for int() with base 10: '-f'"
     ]
    }
   ],
   "source": [
    "import sys\n",
    "print(sys.argv)\n",
    "a = int(sys.argv[1])\n",
    "b = int(sys.argv[2])\n",
    "c = a + b\n",
    "print(f\" {a} + {b} ={c}\")"
   ]
  },
  {
   "cell_type": "code",
   "execution_count": null,
   "id": "c86ba8f4-e8fd-4513-accf-cfa158d0ca57",
   "metadata": {},
   "outputs": [],
   "source": [
    "import sys  # Import the sys module\n",
    "\n",
    "# Print sys.argv to see the list of command-line arguments\n",
    "print(\"Command-line arguments:\", sys.argv)\n",
    "\n",
    "# Access arguments\n",
    "a = int(sys.argv[1])  # Convert first argument to integer\n",
    "b = int(sys.argv[2])  # Convert second argument to integer\n",
    "\n",
    "# Perform calculation\n",
    "c = a + b\n",
    "\n",
    "# Print result\n",
    "print(f\"{a} + {b} = {c}\")"
   ]
  },
  {
   "cell_type": "code",
   "execution_count": 6,
   "id": "71c97dff-4af9-4ec8-b5aa-1952d83ff0dc",
   "metadata": {},
   "outputs": [
    {
     "name": "stdout",
     "output_type": "stream",
     "text": [
      "Command-line arguments: ['Add2Num.py', '10', '20']\n",
      "10 + 20 = 30\n"
     ]
    }
   ],
   "source": [
    "!python Add2Num.py 10 20\n"
   ]
  },
  {
   "cell_type": "markdown",
   "id": "16606dbc-6f98-458b-b8b5-4005e6da98e8",
   "metadata": {},
   "source": [
    "#### 15.2 Concatenate two strings given at cmd line"
   ]
  },
  {
   "cell_type": "code",
   "execution_count": null,
   "id": "2e15be6a-1528-4e0b-baeb-c7d7bb261383",
   "metadata": {},
   "outputs": [],
   "source": [
    "import sys\n",
    "print(sys.argv)\n",
    "s = sys.argv[1] + \" \" + sys.argv[2]\n",
    "print(f\"{sys.argv[1]} + {sys.argv[2]} ----> {s}\")"
   ]
  },
  {
   "cell_type": "code",
   "execution_count": 7,
   "id": "c79b20de-f45a-44b1-afd4-8cc0f57a49bf",
   "metadata": {},
   "outputs": [
    {
     "name": "stdout",
     "output_type": "stream",
     "text": [
      "['Concatenate.py', 'FirstString', 'SecondString']\n",
      "FirstString + SecondString ----> FirstString SecondString\n"
     ]
    }
   ],
   "source": [
    "!python Concatenate.py FirstString SecondString"
   ]
  },
  {
   "cell_type": "markdown",
   "id": "1e8384ab-9d1a-4e0b-9b49-21222bbcd206",
   "metadata": {},
   "source": [
    "#### 15.3 Add all the numbers given at cmd line"
   ]
  },
  {
   "cell_type": "code",
   "execution_count": null,
   "id": "6229f493-fb8b-4a3e-957a-fef5e4f85d09",
   "metadata": {},
   "outputs": [],
   "source": [
    "import sys\n",
    "print(sys.argv)\n",
    "sum = 0\n",
    "for s in sys.argv[1:]:\n",
    "    sum += int(s)\n",
    "\n",
    "print(f\"Sum is --> {sum}\")"
   ]
  },
  {
   "cell_type": "code",
   "execution_count": 11,
   "id": "1cb9b37c-40fd-46e6-80dc-731da3463b06",
   "metadata": {},
   "outputs": [
    {
     "name": "stdout",
     "output_type": "stream",
     "text": [
      "['AddAll.py']\n",
      "Sum is --> 0\n"
     ]
    }
   ],
   "source": [
    "!python AddAll.py "
   ]
  },
  {
   "cell_type": "code",
   "execution_count": 12,
   "id": "aab86df4-fb99-4882-ba7a-b0c7d01a82f0",
   "metadata": {},
   "outputs": [
    {
     "name": "stdout",
     "output_type": "stream",
     "text": [
      "['AddAll.py', '10']\n",
      "Sum is --> 10\n"
     ]
    }
   ],
   "source": [
    "!python AddAll.py 10"
   ]
  },
  {
   "cell_type": "code",
   "execution_count": 13,
   "id": "36a3634b-1387-40e7-94f3-3d284e857ea8",
   "metadata": {},
   "outputs": [
    {
     "name": "stdout",
     "output_type": "stream",
     "text": [
      "['AddAll.py', '10', '20', '30', '40', '50']\n",
      "Sum is --> 150\n"
     ]
    }
   ],
   "source": [
    "!python AddAll.py 10 20 30 40 50"
   ]
  },
  {
   "cell_type": "code",
   "execution_count": 14,
   "id": "ddc8ea6a-a1cf-4238-b91b-b5a3c6fdddfe",
   "metadata": {},
   "outputs": [
    {
     "name": "stdout",
     "output_type": "stream",
     "text": [
      "['AddAll.py', '24', '25', '78', '65', '90', '34', '83', '11']\n",
      "Sum is --> 410\n"
     ]
    }
   ],
   "source": [
    "!python AddAll.py 24 25 78 65 90 34 83 11"
   ]
  },
  {
   "cell_type": "code",
   "execution_count": null,
   "id": "c0061054-4c64-43c1-a061-6b74b325ffd8",
   "metadata": {},
   "outputs": [],
   "source": []
  }
 ],
 "metadata": {
  "kernelspec": {
   "display_name": "Python 3 (ipykernel)",
   "language": "python",
   "name": "python3"
  },
  "language_info": {
   "codemirror_mode": {
    "name": "ipython",
    "version": 3
   },
   "file_extension": ".py",
   "mimetype": "text/x-python",
   "name": "python",
   "nbconvert_exporter": "python",
   "pygments_lexer": "ipython3",
   "version": "3.12.7"
  }
 },
 "nbformat": 4,
 "nbformat_minor": 5
}
