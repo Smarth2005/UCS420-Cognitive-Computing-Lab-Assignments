{
 "cells": [
  {
   "cell_type": "markdown",
   "id": "827e0160-1b6d-49cd-8996-606c3126a306",
   "metadata": {},
   "source": [
    "## 2. Understanding Variable Declaration and Exploring Data Types in Python"
   ]
  },
  {
   "cell_type": "markdown",
   "id": "f20ed961-54b4-476e-a3b0-1ffa5a2b5df1",
   "metadata": {},
   "source": [
    "**Learning 2.1: Variable Assignment (Declaration)**"
   ]
  },
  {
   "cell_type": "code",
   "execution_count": 3,
   "id": "0cafdc1c-3656-4f4a-8f17-8f362f28c270",
   "metadata": {},
   "outputs": [
    {
     "name": "stdout",
     "output_type": "stream",
     "text": [
      "First number =  24\n",
      "Second number =  6\n"
     ]
    }
   ],
   "source": [
    "# When a variable is defined in Python, it is not necessary to specify its type (string or numeric).\n",
    "# This is because Python is a dynamic language and automatically distinguishes a string value from a numeric one.\n",
    "num1 = 24\n",
    "num2 = 6\n",
    "print(\"First number = \",num1)\n",
    "print(\"Second number = \",num2)"
   ]
  },
  {
   "cell_type": "markdown",
   "id": "e46b4c0c-4a7b-46a9-9af5-a3325a3bc3e7",
   "metadata": {},
   "source": [
    "*Python also allows the user to assign the same value to many variables at the same time:*"
   ]
  },
  {
   "cell_type": "code",
   "execution_count": 4,
   "id": "cd416451-81cd-4ee4-8707-8407c829289c",
   "metadata": {},
   "outputs": [
    {
     "name": "stdout",
     "output_type": "stream",
     "text": [
      "a =  50\n",
      "b =  50\n",
      "c =  50\n"
     ]
    }
   ],
   "source": [
    "a = b = c = 50 # Here a,b,c are all assigned the value 50\n",
    "print(\"a = \",a)\n",
    "print(\"b = \",b)\n",
    "print(\"c = \",c)"
   ]
  },
  {
   "cell_type": "markdown",
   "id": "f5c1c736-17d3-4968-afbc-8b143eea8c72",
   "metadata": {},
   "source": [
    "*Python also allows the user to assign different values to different variables in the same line:*"
   ]
  },
  {
   "cell_type": "code",
   "execution_count": 5,
   "id": "196885dd-f72c-4f54-95ca-45fad241df44",
   "metadata": {},
   "outputs": [
    {
     "name": "stdout",
     "output_type": "stream",
     "text": [
      "Your name is  Smarth\n",
      "Your age is  19\n",
      "Your date of birth is  07/10/2005\n"
     ]
    }
   ],
   "source": [
    "name, age, dob = \"Smarth\", 19, \"07/10/2005\"\n",
    "print(\"Your name is \",name)\n",
    "print(\"Your age is \",age)\n",
    "print(\"Your date of birth is \",dob)"
   ]
  },
  {
   "cell_type": "markdown",
   "id": "0c3211f1-737c-490a-a409-1ef1b94b0401",
   "metadata": {},
   "source": [
    "**Rules for declaring the variables:**  \n",
    "- An identifier must always start with a letter or an underscore(_).  \n",
    "\n",
    "- The identifier can never start with a number.  \n",
    "\n",
    "- The identifier can never contain any special character other than the underscore.  \n",
    "\n",
    "- The identifier is case-sensitive. This means, **name** and **Name** are considered two different identifiers in Python.  \n"
   ]
  },
  {
   "cell_type": "markdown",
   "id": "bbeb4c36-10d2-4aa1-ba95-674c6e623c2a",
   "metadata": {},
   "source": [
    "**Learning 2.2: Datatypes**  \n",
    "\n",
    "Data type indicates the type of value that can be assigned to a variable.  \n",
    "The different data types supported in Python are:  \n",
    "\n",
    "| **Type**     | **Description**                                        | **Example**                     |\n",
    "|--------------|--------------------------------------------------------|---------------------------------|\n",
    "| **int**      | Integer number                                          | x = 5<br>y = -3             |\n",
    "| **float**    | Floating-point number                                  |  a = 3.14 <br> b = -13.86 <br> c = 1.5e2 (1.5 * 10^2 = 150.0) <br> d = 3.2e-3 (3.2 * 10^-3 = 0.0032) |\n",
    "| **complex**  | Complex number (real + imaginary)                      | z = 2 + 3j                    |\n",
    "| **str**      | String (sequence of characters)                        | s = \"Hello\"                   |\n",
    "| **bool**     | Boolean values (True or False)                     | is_active = True              |\n",
    "\n",
    "**Note:**  \n",
    "\n",
    "**1.** Strings can store the characters—numeric or letters—enclosed in single, double, or triple quotation marks.\n",
    "  - Single Quotes (') and Double Quotes (\") are interchangeable and can be used for simple strings.\n",
    "  - Triple Quotes (''' or \"\"\") are used for multi-line strings or strings that contain both single and double quotes.\n",
    "\n",
    "**2.** Python does not have separate data types like long or double.\n",
    "\n",
    "**3.** Python provides flexible and automatic handling of data types, especially when it comes to numeric values. The 'int' type has no specific size limit, hence, for very large integers, Python's 'int' type is flexible enough to handle them without requiring a special long type.  \n",
    "\n",
    "**4.** Boolean values \"True\" and \"False\" have T capital and F capital.\n"
   ]
  },
  {
   "cell_type": "code",
   "execution_count": 17,
   "id": "6b87765b-6f41-41e7-ae6d-9c9bcab8fe42",
   "metadata": {},
   "outputs": [
    {
     "name": "stdout",
     "output_type": "stream",
     "text": [
      "Notebook\n"
     ]
    }
   ],
   "source": [
    "item = 'Notebook'\n",
    "obj = \"Notebook\"\n",
    "string = '''A notebook is a treasure chest, \n",
    "where ideas and dreams are kept safe \n",
    "until they are ready to be unleashed.''' # multiple line string\n",
    "print(item)"
   ]
  },
  {
   "cell_type": "code",
   "execution_count": 12,
   "id": "c857cc16-d688-4eb1-8bce-b24b50255ecf",
   "metadata": {},
   "outputs": [
    {
     "name": "stdout",
     "output_type": "stream",
     "text": [
      "Notebook\n"
     ]
    }
   ],
   "source": [
    "print(obj)"
   ]
  },
  {
   "cell_type": "code",
   "execution_count": 13,
   "id": "b05e8a5c-428d-4840-bfbf-f6575b7b556d",
   "metadata": {},
   "outputs": [
    {
     "name": "stdout",
     "output_type": "stream",
     "text": [
      "A notebook is a treasure chest, \n",
      "where ideas and dreams are kept safe \n",
      "until they are ready to be unleashed.\n"
     ]
    }
   ],
   "source": [
    "print(string)"
   ]
  },
  {
   "cell_type": "markdown",
   "id": "8e430e07-03ce-47b1-b9d9-f16dc6484394",
   "metadata": {},
   "source": [
    "**Datatype Checking**"
   ]
  },
  {
   "cell_type": "code",
   "execution_count": 6,
   "id": "0b3005f3-2607-40c9-8b92-f687fac7681b",
   "metadata": {},
   "outputs": [
    {
     "data": {
      "text/plain": [
       "int"
      ]
     },
     "execution_count": 6,
     "metadata": {},
     "output_type": "execute_result"
    }
   ],
   "source": [
    "type(25)"
   ]
  },
  {
   "cell_type": "code",
   "execution_count": 7,
   "id": "6164c44e-3ce4-48f9-903f-c77ef06d0a1b",
   "metadata": {},
   "outputs": [
    {
     "data": {
      "text/plain": [
       "float"
      ]
     },
     "execution_count": 7,
     "metadata": {},
     "output_type": "execute_result"
    }
   ],
   "source": [
    "type(44.06428)"
   ]
  },
  {
   "cell_type": "code",
   "execution_count": 8,
   "id": "f7c7d23c-67a8-4567-9439-da14a64ae568",
   "metadata": {},
   "outputs": [
    {
     "data": {
      "text/plain": [
       "str"
      ]
     },
     "execution_count": 8,
     "metadata": {},
     "output_type": "execute_result"
    }
   ],
   "source": [
    "type('A')"
   ]
  },
  {
   "cell_type": "code",
   "execution_count": 9,
   "id": "d638c3e7-abc2-4b1e-87c0-55bbf049efca",
   "metadata": {},
   "outputs": [
    {
     "data": {
      "text/plain": [
       "str"
      ]
     },
     "execution_count": 9,
     "metadata": {},
     "output_type": "execute_result"
    }
   ],
   "source": [
    "type('BEST WISHES')"
   ]
  },
  {
   "cell_type": "code",
   "execution_count": 10,
   "id": "e0330df0-4bf9-4b6a-9d06-844b75a48183",
   "metadata": {},
   "outputs": [
    {
     "data": {
      "text/plain": [
       "str"
      ]
     },
     "execution_count": 10,
     "metadata": {},
     "output_type": "execute_result"
    }
   ],
   "source": [
    "type(\"Artificial Intelligence\")"
   ]
  },
  {
   "cell_type": "code",
   "execution_count": 14,
   "id": "8ba5dc8a-4763-4306-a014-31ac3ad5af40",
   "metadata": {},
   "outputs": [
    {
     "data": {
      "text/plain": [
       "bool"
      ]
     },
     "execution_count": 14,
     "metadata": {},
     "output_type": "execute_result"
    }
   ],
   "source": [
    "type(True)"
   ]
  },
  {
   "cell_type": "code",
   "execution_count": 15,
   "id": "ed6eceda-45e7-402d-be1e-fe4206998e4a",
   "metadata": {},
   "outputs": [
    {
     "ename": "NameError",
     "evalue": "name 'false' is not defined",
     "output_type": "error",
     "traceback": [
      "\u001b[1;31m---------------------------------------------------------------------------\u001b[0m",
      "\u001b[1;31mNameError\u001b[0m                                 Traceback (most recent call last)",
      "Cell \u001b[1;32mIn[15], line 1\u001b[0m\n\u001b[1;32m----> 1\u001b[0m \u001b[38;5;28mtype\u001b[39m(false)\n",
      "\u001b[1;31mNameError\u001b[0m: name 'false' is not defined"
     ]
    }
   ],
   "source": [
    "type(false)"
   ]
  },
  {
   "cell_type": "code",
   "execution_count": 16,
   "id": "aa6e823d-d293-49f2-90de-1729d478613d",
   "metadata": {},
   "outputs": [
    {
     "data": {
      "text/plain": [
       "bool"
      ]
     },
     "execution_count": 16,
     "metadata": {},
     "output_type": "execute_result"
    }
   ],
   "source": [
    "type(False)"
   ]
  },
  {
   "cell_type": "code",
   "execution_count": 18,
   "id": "bc4180be-2744-44fb-be08-905bc9fb512e",
   "metadata": {},
   "outputs": [
    {
     "data": {
      "text/plain": [
       "str"
      ]
     },
     "execution_count": 18,
     "metadata": {},
     "output_type": "execute_result"
    }
   ],
   "source": [
    "type(\"I'm learning Python\")"
   ]
  },
  {
   "cell_type": "code",
   "execution_count": 19,
   "id": "2f804e1c-d408-4de8-a113-9d215afb4b0a",
   "metadata": {},
   "outputs": [
    {
     "data": {
      "text/plain": [
       "float"
      ]
     },
     "execution_count": 19,
     "metadata": {},
     "output_type": "execute_result"
    }
   ],
   "source": [
    "type(7.2e-6)"
   ]
  },
  {
   "cell_type": "code",
   "execution_count": 20,
   "id": "dd11d62c-cc7b-4ce0-9467-9addd3a042e1",
   "metadata": {},
   "outputs": [
    {
     "data": {
      "text/plain": [
       "bool"
      ]
     },
     "execution_count": 20,
     "metadata": {},
     "output_type": "execute_result"
    }
   ],
   "source": [
    "found = True\n",
    "type(found)\n"
   ]
  },
  {
   "cell_type": "code",
   "execution_count": 21,
   "id": "33473080-c5a4-4a43-9cc0-683ad326536e",
   "metadata": {},
   "outputs": [
    {
     "name": "stdout",
     "output_type": "stream",
     "text": [
      "p =  10 type =  <class 'int'>\n"
     ]
    }
   ],
   "source": [
    "p = 10\n",
    "q = 6.8\n",
    "r = 'Rock, Paper, Scissors'\n",
    "s = \"Charles Babbage\"\n",
    "t = '''A friend in need is a friend indeed'''\n",
    "u = '''Luxury and Lies have huge maintenance costs,\n",
    "But, Truth and Simplicity are self-maintained,\n",
    "without any cost.'''\n",
    "v = True\n",
    "w = 2.5e7\n",
    "print(\"p = \",p, \"type = \",type(p))"
   ]
  },
  {
   "cell_type": "code",
   "execution_count": 22,
   "id": "acba004a-b210-45ed-9052-dab5933ea4ab",
   "metadata": {},
   "outputs": [
    {
     "name": "stdout",
     "output_type": "stream",
     "text": [
      "q = 6.8 ,type = <class 'float'>\n",
      "r = Rock, Paper, Scissors ,type = <class 'str'>\n",
      "s = Charles Babbage ,type = <class 'str'>\n",
      "t = A friend in need is a friend indeed ,type = <class 'str'>\n",
      "u = Luxury and Lies have huge maintenance costs,\n",
      "But, Truth and Simplicity are self-maintained,\n",
      "without any cost. ,type = <class 'str'>\n",
      "v = True ,type = <class 'bool'>\n",
      "w = 25000000.0 ,type = <class 'float'>\n"
     ]
    }
   ],
   "source": [
    "print(\"q =\",q, \",type =\", type(q))\n",
    "print(\"r =\",r, \",type =\", type(r))\n",
    "print(\"s =\",s, \",type =\", type(s))\n",
    "print(\"t =\",t, \",type =\", type(t))\n",
    "print(\"u =\",u, \",type =\", type(u))\n",
    "print(\"v =\",v, \",type =\", type(v))\n",
    "print(\"w =\",w, \",type =\", type(w))"
   ]
  },
  {
   "cell_type": "code",
   "execution_count": 1,
   "id": "dd03c810-6cfa-47c4-bb22-0d3cfedd619b",
   "metadata": {},
   "outputs": [
    {
     "data": {
      "text/plain": [
       "complex"
      ]
     },
     "execution_count": 1,
     "metadata": {},
     "output_type": "execute_result"
    }
   ],
   "source": [
    "type(23+98j)"
   ]
  },
  {
   "cell_type": "code",
   "execution_count": 2,
   "id": "420308f3-7b2f-49ba-b792-17463e7ae8b0",
   "metadata": {},
   "outputs": [
    {
     "data": {
      "text/plain": [
       "complex"
      ]
     },
     "execution_count": 2,
     "metadata": {},
     "output_type": "execute_result"
    }
   ],
   "source": [
    "type(16j)"
   ]
  },
  {
   "cell_type": "code",
   "execution_count": 4,
   "id": "9fea884a-47bf-445d-94d4-3d438b5be144",
   "metadata": {},
   "outputs": [
    {
     "data": {
      "text/plain": [
       "complex"
      ]
     },
     "execution_count": 4,
     "metadata": {},
     "output_type": "execute_result"
    }
   ],
   "source": [
    "type(42+1j)"
   ]
  },
  {
   "cell_type": "code",
   "execution_count": 5,
   "id": "8c8587c0-cfbe-45bd-84a3-afe6d8d03b60",
   "metadata": {},
   "outputs": [
    {
     "data": {
      "text/plain": [
       "int"
      ]
     },
     "execution_count": 5,
     "metadata": {},
     "output_type": "execute_result"
    }
   ],
   "source": [
    "type(42)"
   ]
  },
  {
   "cell_type": "code",
   "execution_count": null,
   "id": "612b3be2-aee7-428e-ac37-d52235a3dfb4",
   "metadata": {},
   "outputs": [],
   "source": []
  }
 ],
 "metadata": {
  "kernelspec": {
   "display_name": "Python 3 (ipykernel)",
   "language": "python",
   "name": "python3"
  },
  "language_info": {
   "codemirror_mode": {
    "name": "ipython",
    "version": 3
   },
   "file_extension": ".py",
   "mimetype": "text/x-python",
   "name": "python",
   "nbconvert_exporter": "python",
   "pygments_lexer": "ipython3",
   "version": "3.12.7"
  }
 },
 "nbformat": 4,
 "nbformat_minor": 5
}
