{
 "cells": [
  {
   "cell_type": "markdown",
   "id": "78b7ca4b-7f5f-4b84-80a3-d4add46b05db",
   "metadata": {},
   "source": [
    "<div style=\"text-align: center; color: darkblue;\">\n",
    "\n",
    "<img src=\"LMS Logo (1).png\" alt=\"TIET Logo\" style=\"width: 200px;\">\n",
    "\n",
    "### Thapar Institute of Engineering and Technology, Patiala  \n",
    "### Computer Science & Engineering Department  \n",
    "---\n",
    "#### **UCS420: COGNITIVE COMPUTING**  \n",
    "#### **LAB ASSIGNMENT- 4: NUMPY - INTRODUCTION-I**\n",
    "---\n",
    "    \n",
    "#### <span style=\"color: darkred;\">Student Name:</span> Smarth Kaushal   |  <span style=\"color: darkred;\">    Roll Number: </span> 102497023   | <span style=\"color: darkred;\">Branch:</span> BE-COPC |  <span style=\"color: darkred;\">Sub-Section Code:</span>  2Q21  \n",
    "#### <span style=\"color: darkred;\">Submitted to:</span> Dr. Vaishali\n",
    "\n",
    "</div>"
   ]
  },
  {
   "cell_type": "markdown",
   "id": "129f04e3-56fe-4c1d-b7c2-69299dffd1b5",
   "metadata": {},
   "source": [
    "**Q.1 Write a program to create a NumPy 1D-array with 5 elements and perform basic operations like:**   \n",
    "**a) Addition of 2 in all the elements**   \n",
    "**b) Multiply 3 with all the elements**   \n",
    "**c) Divide every element by 2**"
   ]
  },
  {
   "cell_type": "code",
   "execution_count": 1,
   "id": "e237b9b0-583b-47d6-aed5-d1809da85afd",
   "metadata": {},
   "outputs": [],
   "source": [
    "import numpy as np"
   ]
  },
  {
   "cell_type": "code",
   "execution_count": 2,
   "id": "85e2381a-4816-45fc-b1ad-5d95c58f3c68",
   "metadata": {},
   "outputs": [
    {
     "name": "stdout",
     "output_type": "stream",
     "text": [
      "Enter 5 numbers to enter in the array:\n"
     ]
    },
    {
     "name": "stdin",
     "output_type": "stream",
     "text": [
      "Number 1 :  12\n",
      "Number 2 :  63\n",
      "Number 3 :  45\n",
      "Number 4 :  28\n",
      "Number 5 :  79\n"
     ]
    },
    {
     "name": "stdout",
     "output_type": "stream",
     "text": [
      "Original Array is   : [12 63 45 28 79]\n",
      "Original Array      : [12 63 45 28 79]\n",
      "After Addition      : [14 65 47 30 81]\n",
      "After Multiplication: [ 36 189 135  84 237]\n",
      "After Division      : [ 6.  31.5 22.5 14.  39.5]\n"
     ]
    }
   ],
   "source": [
    "print(\"Enter 5 numbers to enter in the array:\")\n",
    "num1 = int(input(\"Number 1 : \"))\n",
    "num2 = int(input(\"Number 2 : \"))\n",
    "num3 = int(input(\"Number 3 : \"))\n",
    "num4 = int(input(\"Number 4 : \"))\n",
    "num5 = int(input(\"Number 5 : \"))\n",
    "mylist = [num1, num2, num3, num4, num5]\n",
    "\n",
    "# Creating a 1D NumPy array with 5 elements\n",
    "arr = np.array(mylist, dtype = int)\n",
    "print(\"Original Array is   :\",arr)\n",
    "\n",
    "# (a) Adding 2 to all elements\n",
    "arr_add = arr + 2\n",
    "\n",
    "# (b) Multiplying each element by 3\n",
    "arr_mul = arr * 3\n",
    "\n",
    "# (c) Dividing each element by 2\n",
    "arr_div = arr / 2\n",
    "\n",
    "print(\"Original Array      :\", arr)\n",
    "print(\"After Addition      :\", arr_add)\n",
    "print(\"After Multiplication:\", arr_mul)\n",
    "print(\"After Division      :\", arr_div)"
   ]
  },
  {
   "cell_type": "markdown",
   "id": "fbf8ac17-0fd1-4b76-a81b-7d790778a85a",
   "metadata": {},
   "source": [
    "**Q.2 Questions on Basic NumPy Array:**   \n",
    "**a) Reverse the NumPy array: arr = np.array([1, 2, 3, 6, 4, 5])**   \n",
    "**b) Find the most frequent value and their indice(s) in the following arrays:**   \n",
    "**i. x = np.array([1,2,3,4,5,1,2,1,1,1])**   \n",
    "**ii. y = np.array([1, 1, 1, 2, 3, 4, 2, 4, 3, 3, ])** "
   ]
  },
  {
   "cell_type": "code",
   "execution_count": 3,
   "id": "f245449f-d41b-49ae-95e5-c3b1fe6a3944",
   "metadata": {},
   "outputs": [
    {
     "name": "stdout",
     "output_type": "stream",
     "text": [
      "Reversed Array: [5 4 6 3 2 1]\n",
      "Most Frequent in x: 1 at indices (array([0, 5, 7, 8, 9], dtype=int64),)\n",
      "Most Frequent in y: 1 at indices (array([0, 1, 2], dtype=int64),)\n"
     ]
    }
   ],
   "source": [
    "# (a) Reverse the given NumPy array\n",
    "arr = np.array([1, 2, 3, 6, 4, 5])\n",
    "arr_reversed = arr[::-1]\n",
    "print(\"Reversed Array:\", arr_reversed)\n",
    "\n",
    "# (b) Find the most frequent value and its indices\n",
    "\n",
    "# i. For x array\n",
    "x = np.array([1,2,3,4,5,1,2,1,1,1])\n",
    "most_freq_x = np.bincount(x).argmax()\n",
    "indices_x = np.where(x == most_freq_x)\n",
    "print(\"Most Frequent in x:\", most_freq_x, \"at indices\", indices_x)\n",
    "\n",
    "# ii. For y array\n",
    "y = np.array([1, 1, 1, 2, 3, 4, 2, 4, 3, 3])\n",
    "most_freq_y = np.bincount(y).argmax()\n",
    "indices_y = np.where(y == most_freq_y)\n",
    "print(\"Most Frequent in y:\", most_freq_y, \"at indices\", indices_y)\n"
   ]
  },
  {
   "cell_type": "markdown",
   "id": "fc58ea26-7d22-4f8b-b275-21b92c739687",
   "metadata": {},
   "source": [
    "**Q.3 For the given 2-D array arr=np.array([10, 20, 30], [40, 50, 60], [70, 80, 90]), access elements using row and column indices as follows:**   \n",
    "**a) Access 1st row, 2nd column**   \n",
    "**b) Access 3rd row, 1st column** \n"
   ]
  },
  {
   "cell_type": "code",
   "execution_count": 4,
   "id": "659c79a6-f90e-4923-86a8-25d0da6817dc",
   "metadata": {},
   "outputs": [
    {
     "name": "stdout",
     "output_type": "stream",
     "text": [
      "Element at (1,2): 20\n",
      "Element at (3,1): 70\n"
     ]
    }
   ],
   "source": [
    "# Creating a 2D array\n",
    "arr = np.array([[10, 20, 30], \n",
    "                [40, 50, 60], \n",
    "                [70, 80, 90]])\n",
    "\n",
    "# (a) Accessing 1st row, 2nd column\n",
    "element_1_2 = arr[0, 1]\n",
    "\n",
    "# (b) Accessing 3rd row, 1st column\n",
    "element_3_1 = arr[2, 0]\n",
    "\n",
    "print(\"Element at (1,2):\", element_1_2)\n",
    "print(\"Element at (3,1):\", element_3_1)\n"
   ]
  },
  {
   "cell_type": "markdown",
   "id": "f40f25ed-d98a-492e-a56d-a090060e2ea6",
   "metadata": {},
   "source": [
    "**Q.4 Write program to create a 1-D NumPy array named _`<Your Name>`_ with evenly spaced 25 numbers from 10 to 100 using linspace(). Print the dimensions of the array, shape, total elements, the data type of each element and total number of bytes consumed by the array. Find the transpose of this array using reshape() attribute. Can we do the same with T attribute?** "
   ]
  },
  {
   "cell_type": "code",
   "execution_count": 6,
   "id": "5fd83185-4615-4326-b7c3-a6a8d79b1409",
   "metadata": {},
   "outputs": [
    {
     "name": "stdout",
     "output_type": "stream",
     "text": [
      "Original array      : [ 10.    13.75  17.5   21.25  25.    28.75  32.5   36.25  40.    43.75\n",
      "  47.5   51.25  55.    58.75  62.5   66.25  70.    73.75  77.5   81.25\n",
      "  85.    88.75  92.5   96.25 100.  ]\n",
      "Dimensions          : 1\n",
      "Shape               : (25,)\n",
      "Total Elements      : 25\n",
      "Data Type           : float64\n",
      "Total Bytes Consumed: 200\n",
      "\n",
      "Transposed Array using reshape:\n",
      " [[ 10.  ]\n",
      " [ 13.75]\n",
      " [ 17.5 ]\n",
      " [ 21.25]\n",
      " [ 25.  ]\n",
      " [ 28.75]\n",
      " [ 32.5 ]\n",
      " [ 36.25]\n",
      " [ 40.  ]\n",
      " [ 43.75]\n",
      " [ 47.5 ]\n",
      " [ 51.25]\n",
      " [ 55.  ]\n",
      " [ 58.75]\n",
      " [ 62.5 ]\n",
      " [ 66.25]\n",
      " [ 70.  ]\n",
      " [ 73.75]\n",
      " [ 77.5 ]\n",
      " [ 81.25]\n",
      " [ 85.  ]\n",
      " [ 88.75]\n",
      " [ 92.5 ]\n",
      " [ 96.25]\n",
      " [100.  ]]\n",
      "Using .T on 1D array: [ 10.    13.75  17.5   21.25  25.    28.75  32.5   36.25  40.    43.75\n",
      "  47.5   51.25  55.    58.75  62.5   66.25  70.    73.75  77.5   81.25\n",
      "  85.    88.75  92.5   96.25 100.  ]\n"
     ]
    }
   ],
   "source": [
    "# Creating a 1D NumPy array with evenly spaced 25 numbers from 10 to 100\n",
    "arr = np.linspace(10,100,25)\n",
    "print(\"Original array      :\", arr)\n",
    "print(\"Dimensions          :\", arr.ndim)\n",
    "print(\"Shape               :\", arr.shape)\n",
    "print(\"Total Elements      :\", arr.size)\n",
    "print(\"Data Type           :\", arr.dtype)\n",
    "print(\"Total Bytes Consumed:\", arr.nbytes)\n",
    "print()\n",
    "\n",
    "# Transposing using reshape\n",
    "transpose_arr = arr.reshape(25, 1)\n",
    "print(\"Transposed Array using reshape:\\n\", transpose_arr)\n",
    "\n",
    "# Can we use T attribute? No, because T only works for 2D+ arrays.\n",
    "print(\"Using .T on 1D array:\", arr.T)  # No effect\n"
   ]
  },
  {
   "cell_type": "markdown",
   "id": "64f326a4-7567-4ad8-aec5-1e73bd1b6f51",
   "metadata": {},
   "source": [
    "**Q5. Create a 2-D Array of three rows and four columns, named `ucs420_<your_name>` with following values – 10, 20, 30, 40, 50, 60, 70, 80, 90, 15, 20, 35. Compute the mean, median, max, min, unique elements. Reshape the array to four rows and three columns and name it as `reshaped_ ucs420_<your_name>`. Resize the array to two rows and three columns and name it as `resized_ ucs420_<your_name>`.**"
   ]
  },
  {
   "cell_type": "code",
   "execution_count": 7,
   "id": "d70a1364-0b42-4f29-bb9b-d1f641adc44c",
   "metadata": {},
   "outputs": [
    {
     "name": "stdout",
     "output_type": "stream",
     "text": [
      "Mean           : 43.333333333333336\n",
      "Median         : 37.5\n",
      "Max            : 90\n",
      "Min            : 10\n",
      "Unique Elements: [10 15 20 30 35 40 50 60 70 80 90]\n",
      "Reshaped Array (4x3):\n",
      " [[10 20 30]\n",
      " [40 50 60]\n",
      " [70 80 90]\n",
      " [15 20 35]]\n",
      "Resized Array (2x3):\n",
      " [[10 20 30]\n",
      " [40 50 60]]\n"
     ]
    }
   ],
   "source": [
    "# Creating a 2D array of 3x4 dimensions\n",
    "ucs420_smarth = np.array([[10, 20, 30, 40], \n",
    "                          [50, 60, 70, 80], \n",
    "                          [90, 15, 20, 35]])\n",
    "\n",
    "# Computing statistics\n",
    "mean_val = np.mean(ucs420_smarth)\n",
    "median_val = np.median(ucs420_smarth)\n",
    "max_val = np.max(ucs420_smarth)\n",
    "min_val = np.min(ucs420_smarth)\n",
    "unique_elements = np.unique(ucs420_smarth)\n",
    "\n",
    "print(\"Mean           :\", mean_val)\n",
    "print(\"Median         :\", median_val)\n",
    "print(\"Max            :\", max_val)\n",
    "print(\"Min            :\", min_val)\n",
    "print(\"Unique Elements:\", unique_elements)\n",
    "\n",
    "# Reshaping the array to 4x3\n",
    "reshaped_ucs420_smarth = ucs420_smarth.reshape(4, 3)\n",
    "print(\"Reshaped Array (4x3):\\n\", reshaped_ucs420_smarth)\n",
    "\n",
    "# Resizing the array to 2x3\n",
    "resized_ucs420_smarth = np.resize(ucs420_smarth, (2, 3))\n",
    "print(\"Resized Array (2x3):\\n\", resized_ucs420_smarth)\n"
   ]
  },
  {
   "cell_type": "code",
   "execution_count": null,
   "id": "800ddec1-bd02-44ac-881b-cfb92ad1c184",
   "metadata": {},
   "outputs": [],
   "source": []
  }
 ],
 "metadata": {
  "kernelspec": {
   "display_name": "Python 3 (ipykernel)",
   "language": "python",
   "name": "python3"
  },
  "language_info": {
   "codemirror_mode": {
    "name": "ipython",
    "version": 3
   },
   "file_extension": ".py",
   "mimetype": "text/x-python",
   "name": "python",
   "nbconvert_exporter": "python",
   "pygments_lexer": "ipython3",
   "version": "3.12.7"
  }
 },
 "nbformat": 4,
 "nbformat_minor": 5
}
